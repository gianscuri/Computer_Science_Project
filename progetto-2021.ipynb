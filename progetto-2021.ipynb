{
 "cells": [
  {
   "cell_type": "markdown",
   "metadata": {},
   "source": [
    "You have to work on the files:\n",
    "*  [Books](https://github.com/gdv/foundationsCS/raw/master/progetti/2021/Books.csv.gz)\n",
    "*  [Book ratings](https://github.com/gdv/foundationsCS/raw/master/progetti/2021/Book-Ratings.csv.gz)\n",
    "*  [Users](https://github.com/gdv/foundationsCS/raw/master/progetti/2021/Users.csv.gz)\n",
    "*  [Goodbooks books](https://github.com/gdv/foundationsCS/raw/master/progetti/2021/goodbooks.csv.gz)\n",
    "*  [Goodbooks ratings](https://github.com/gdv/foundationsCS/raw/master/progetti/2021/goodbooks-ratings.csv.gz)\n",
    "\n",
    "### Notes\n",
    "\n",
    "1.    It is mandatory to use GitHub for developing the project.\n",
    "1.    The project must be a jupyter notebook.\n",
    "1.    There is no restriction on the libraries that can be used, nor on the Python version.\n",
    "1.    To read those files, you need to use the `encoding = 'latin-1'` option.\n",
    "1.    All questions on the project **must** be asked in a public channel on [Zulip](https://focs.zulipchat.com), otherwise no  answer will be given."
   ]
  },
  {
   "cell_type": "code",
   "execution_count": 246,
   "metadata": {},
   "outputs": [
    {
     "data": {
      "text/html": [
       "<style>.container { width:90% !important; }</style>"
      ],
      "text/plain": [
       "<IPython.core.display.HTML object>"
      ]
     },
     "metadata": {},
     "output_type": "display_data"
    }
   ],
   "source": [
    "from IPython.core.display import display, HTML\n",
    "display(HTML(\"<style>.container { width:90% !important; }</style>\"))"
   ]
  },
  {
   "cell_type": "code",
   "execution_count": null,
   "metadata": {},
   "outputs": [],
   "source": []
  },
  {
   "cell_type": "code",
   "execution_count": 1,
   "metadata": {},
   "outputs": [],
   "source": [
    "#import time\n",
    "#start = time.time()\n",
    "import pandas as pd\n",
    "import numpy as np\n",
    "import re"
   ]
  },
  {
   "cell_type": "code",
   "execution_count": 257,
   "metadata": {},
   "outputs": [
    {
     "data": {
      "text/plain": [
       "(278858, 2)"
      ]
     },
     "execution_count": 257,
     "metadata": {},
     "output_type": "execute_result"
    }
   ],
   "source": [
    "users = pd.read_csv('https://github.com/gdv/foundationsCS/raw/master/progetti/2021/Users.csv.gz', compression = 'gzip', index_col = 'User-ID', encoding = 'latin-1', sep = ';', dtype = {'User-ID': 'int',\n",
    "                                                                                                                                                                                         'Location': 'string',\n",
    "                                                                                                                                                                                         'Age': 'Int64'\n",
    "                                                                                                                                                                                        })\n",
    "users.shape"
   ]
  },
  {
   "cell_type": "code",
   "execution_count": 3,
   "metadata": {
    "scrolled": false
   },
   "outputs": [
    {
     "data": {
      "text/plain": [
       "(271359, 8)"
      ]
     },
     "execution_count": 3,
     "metadata": {},
     "output_type": "execute_result"
    }
   ],
   "source": [
    "books = pd.read_csv('https://github.com/gdv/foundationsCS/raw/master/progetti/2021/Books.csv.gz', compression = 'gzip', encoding = 'latin-1', sep = ';', dtype = {'ISBN': 'string',\n",
    "                                                                                                                                                                                      'Book-title': 'string',\n",
    "                                                                                                                                                                                      'Book-Author': 'string',\n",
    "                                                                                                                                                                                      'Year-Of-Publication': 'string',\n",
    "                                                                                                                                                                                      'Publisher': 'string',\n",
    "                                                                                                                                                                                      'Image-URL-S': 'string',\n",
    "                                                                                                                                                                                      'Image-URL-M': 'string',\n",
    "                                                                                                                                                                                      'Image-URL-L': 'string',\n",
    "                                                                                                                                                                                     })\n",
    "books.shape\n",
    "\n",
    "# modificare year in integer (ci sono 3 righe problematiche)\n",
    "# books[books['Year-Of-Publication'].str.contains('\\D+')]\n",
    "# index_col = 'ISBN'"
   ]
  },
  {
   "cell_type": "code",
   "execution_count": 251,
   "metadata": {},
   "outputs": [
    {
     "data": {
      "text/plain": [
       "(1149780, 1)"
      ]
     },
     "execution_count": 251,
     "metadata": {},
     "output_type": "execute_result"
    }
   ],
   "source": [
    "book_ratings = pd.read_csv('https://github.com/gdv/foundationsCS/raw/master/progetti/2021/Book-Ratings.csv.gz', compression = 'gzip', index_col = ['User-ID', 'ISBN'], encoding = 'latin-1', sep = ';', dtype = {'User-ID': 'int',\n",
    "                                                                                                                                                                                                                 'ISBN': 'string',\n",
    "                                                                                                                                                                                                                 'Book-Rating': 'int'\n",
    "                                                                                                                                                                                                                })\n",
    "book_ratings.shape\n",
    "\n",
    "# 0 significa che non hanno votato?"
   ]
  },
  {
   "cell_type": "code",
   "execution_count": 260,
   "metadata": {},
   "outputs": [
    {
     "data": {
      "text/plain": [
       "(99, 1)"
      ]
     },
     "execution_count": 260,
     "metadata": {},
     "output_type": "execute_result"
    }
   ],
   "source": [
    "goodbooks_ratings = pd.read_csv('https://github.com/gdv/foundationsCS/raw/master/progetti/2021/goodbooks-ratings.csv.gz', compression = 'gzip', index_col = ['user_id', 'book_id'], encoding = 'latin-1', sep = ',', dtype = {'user_id': 'int',\n",
    "                                                                                                                                                                                                                                'book_id': 'int',\n",
    "                                                                                                                                                                                                                                'rating': 'int'\n",
    "                                                                                                                                                                                                                            })\n",
    "goodbooks_ratings.shape"
   ]
  },
  {
   "cell_type": "code",
   "execution_count": 237,
   "metadata": {},
   "outputs": [
    {
     "data": {
      "text/plain": [
       "(99, 22)"
      ]
     },
     "execution_count": 237,
     "metadata": {},
     "output_type": "execute_result"
    }
   ],
   "source": [
    "goodbooks = pd.read_csv('https://github.com/gdv/foundationsCS/raw/master/progetti/2021/goodbooks.csv.gz', compression = 'gzip', index_col = 'book_id', encoding = 'latin-1', sep = ',', dtype = {'book_id': 'int',\n",
    "                                                                                                                                                                                                 'goodreads_book_id': 'int',\n",
    "                                                                                                                                                                                                 'best_book_id': 'int',\n",
    "                                                                                                                                                                                                 'work_id': 'int',\n",
    "                                                                                                                                                                                                 'books_count': 'int',\n",
    "                                                                                                                                                                                                 'isbn': 'string',\n",
    "                                                                                                                                                                                                 'isbn13': 'string',\n",
    "                                                                                                                                                                                                 'authors': 'string',\n",
    "                                                                                                                                                                                                 'original_publication_year': 'int',\n",
    "                                                                                                                                                                                                 'original_title': 'string',\n",
    "                                                                                                                                                                                                 'title': 'string',\n",
    "                                                                                                                                                                                                 'language_code': 'string',\n",
    "                                                                                                                                                                                                 'average_rating': 'double',\n",
    "                                                                                                                                                                                                 'ratings_count': 'int',\n",
    "                                                                                                                                                                                                 'work_ratings_count': 'int',\n",
    "                                                                                                                                                                                                 'work_text_reviews_count': 'int',\n",
    "                                                                                                                                                                                                 'ratings_1': 'int',\n",
    "                                                                                                                                                                                                 'ratings_2': 'int',\n",
    "                                                                                                                                                                                                 'ratings_3': 'int',\n",
    "                                                                                                                                                                                                 'ratings_4': 'int',\n",
    "                                                                                                                                                                                                 'ratings_5': 'int',\n",
    "                                                                                                                                                                                                 'image_url': 'string',\n",
    "                                                                                                                                                                                                 'small_image_url': 'string'\n",
    "                                                                                                                                                                                                 })\n",
    "goodbooks.shape"
   ]
  },
  {
   "cell_type": "code",
   "execution_count": null,
   "metadata": {},
   "outputs": [],
   "source": []
  },
  {
   "cell_type": "code",
   "execution_count": null,
   "metadata": {},
   "outputs": [],
   "source": []
  },
  {
   "cell_type": "code",
   "execution_count": null,
   "metadata": {},
   "outputs": [],
   "source": []
  },
  {
   "cell_type": "markdown",
   "metadata": {},
   "source": [
    "### 1. Normalize the location field of *Users* dataset, splitting into city, region, country."
   ]
  },
  {
   "cell_type": "code",
   "execution_count": 262,
   "metadata": {},
   "outputs": [
    {
     "data": {
      "text/html": [
       "<div>\n",
       "<style scoped>\n",
       "    .dataframe tbody tr th:only-of-type {\n",
       "        vertical-align: middle;\n",
       "    }\n",
       "\n",
       "    .dataframe tbody tr th {\n",
       "        vertical-align: top;\n",
       "    }\n",
       "\n",
       "    .dataframe thead th {\n",
       "        text-align: right;\n",
       "    }\n",
       "</style>\n",
       "<table border=\"1\" class=\"dataframe\">\n",
       "  <thead>\n",
       "    <tr style=\"text-align: right;\">\n",
       "      <th></th>\n",
       "      <th>Location</th>\n",
       "      <th>Age</th>\n",
       "      <th>City</th>\n",
       "      <th>Region</th>\n",
       "      <th>Country</th>\n",
       "    </tr>\n",
       "    <tr>\n",
       "      <th>User-ID</th>\n",
       "      <th></th>\n",
       "      <th></th>\n",
       "      <th></th>\n",
       "      <th></th>\n",
       "      <th></th>\n",
       "    </tr>\n",
       "  </thead>\n",
       "  <tbody>\n",
       "    <tr>\n",
       "      <th>1</th>\n",
       "      <td>nyc, new york, usa</td>\n",
       "      <td>&lt;NA&gt;</td>\n",
       "      <td>nyc</td>\n",
       "      <td>new york</td>\n",
       "      <td>usa</td>\n",
       "    </tr>\n",
       "    <tr>\n",
       "      <th>2</th>\n",
       "      <td>stockton, california, usa</td>\n",
       "      <td>18</td>\n",
       "      <td>stockton</td>\n",
       "      <td>california</td>\n",
       "      <td>usa</td>\n",
       "    </tr>\n",
       "    <tr>\n",
       "      <th>3</th>\n",
       "      <td>moscow, yukon territory, russia</td>\n",
       "      <td>&lt;NA&gt;</td>\n",
       "      <td>moscow</td>\n",
       "      <td>yukon territory</td>\n",
       "      <td>russia</td>\n",
       "    </tr>\n",
       "    <tr>\n",
       "      <th>4</th>\n",
       "      <td>porto, v.n.gaia, portugal</td>\n",
       "      <td>17</td>\n",
       "      <td>porto</td>\n",
       "      <td>v.n.gaia</td>\n",
       "      <td>portugal</td>\n",
       "    </tr>\n",
       "    <tr>\n",
       "      <th>5</th>\n",
       "      <td>farnborough, hants, united kingdom</td>\n",
       "      <td>&lt;NA&gt;</td>\n",
       "      <td>farnborough</td>\n",
       "      <td>hants</td>\n",
       "      <td>united kingdom</td>\n",
       "    </tr>\n",
       "  </tbody>\n",
       "</table>\n",
       "</div>"
      ],
      "text/plain": [
       "                                   Location   Age         City  \\\n",
       "User-ID                                                          \n",
       "1                        nyc, new york, usa  <NA>          nyc   \n",
       "2                 stockton, california, usa    18     stockton   \n",
       "3           moscow, yukon territory, russia  <NA>       moscow   \n",
       "4                 porto, v.n.gaia, portugal    17        porto   \n",
       "5        farnborough, hants, united kingdom  <NA>  farnborough   \n",
       "\n",
       "                   Region          Country  \n",
       "User-ID                                     \n",
       "1                new york              usa  \n",
       "2              california              usa  \n",
       "3         yukon territory           russia  \n",
       "4                v.n.gaia         portugal  \n",
       "5                   hants   united kingdom  "
      ]
     },
     "execution_count": 262,
     "metadata": {},
     "output_type": "execute_result"
    }
   ],
   "source": [
    "users[['City', 'Region', 'Country']] = users['Location'].str.rsplit(',', 2, expand=True)\n",
    "# Da sistemare country usando le probabilitá\n",
    "# creare lista \n",
    "# sistemare encoding (riga 1318)\n",
    "users.head()"
   ]
  },
  {
   "cell_type": "markdown",
   "metadata": {},
   "source": [
    "### 2. For each book in the *Books* dataset, compute its average rating."
   ]
  },
  {
   "cell_type": "code",
   "execution_count": 263,
   "metadata": {},
   "outputs": [
    {
     "data": {
      "text/html": [
       "<div>\n",
       "<style scoped>\n",
       "    .dataframe tbody tr th:only-of-type {\n",
       "        vertical-align: middle;\n",
       "    }\n",
       "\n",
       "    .dataframe tbody tr th {\n",
       "        vertical-align: top;\n",
       "    }\n",
       "\n",
       "    .dataframe thead th {\n",
       "        text-align: right;\n",
       "    }\n",
       "</style>\n",
       "<table border=\"1\" class=\"dataframe\">\n",
       "  <thead>\n",
       "    <tr style=\"text-align: right;\">\n",
       "      <th></th>\n",
       "      <th>Book-Rating</th>\n",
       "    </tr>\n",
       "    <tr>\n",
       "      <th>ISBN</th>\n",
       "      <th></th>\n",
       "    </tr>\n",
       "  </thead>\n",
       "  <tbody>\n",
       "    <tr>\n",
       "      <th>0000913154</th>\n",
       "      <td>8.0</td>\n",
       "    </tr>\n",
       "    <tr>\n",
       "      <th>0001010565</th>\n",
       "      <td>0.0</td>\n",
       "    </tr>\n",
       "    <tr>\n",
       "      <th>0001046438</th>\n",
       "      <td>9.0</td>\n",
       "    </tr>\n",
       "    <tr>\n",
       "      <th>0001046713</th>\n",
       "      <td>0.0</td>\n",
       "    </tr>\n",
       "    <tr>\n",
       "      <th>000104687X</th>\n",
       "      <td>6.0</td>\n",
       "    </tr>\n",
       "    <tr>\n",
       "      <th>...</th>\n",
       "      <td>...</td>\n",
       "    </tr>\n",
       "    <tr>\n",
       "      <th>B000234N76</th>\n",
       "      <td>0.0</td>\n",
       "    </tr>\n",
       "    <tr>\n",
       "      <th>B000234NC6</th>\n",
       "      <td>0.0</td>\n",
       "    </tr>\n",
       "    <tr>\n",
       "      <th>B00029DGGO</th>\n",
       "      <td>0.0</td>\n",
       "    </tr>\n",
       "    <tr>\n",
       "      <th>B0002JV9PY</th>\n",
       "      <td>0.0</td>\n",
       "    </tr>\n",
       "    <tr>\n",
       "      <th>B0002K6K8O</th>\n",
       "      <td>0.0</td>\n",
       "    </tr>\n",
       "  </tbody>\n",
       "</table>\n",
       "<p>271359 rows × 1 columns</p>\n",
       "</div>"
      ],
      "text/plain": [
       "            Book-Rating\n",
       "ISBN                   \n",
       "0000913154          8.0\n",
       "0001010565          0.0\n",
       "0001046438          9.0\n",
       "0001046713          0.0\n",
       "000104687X          6.0\n",
       "...                 ...\n",
       "B000234N76          0.0\n",
       "B000234NC6          0.0\n",
       "B00029DGGO          0.0\n",
       "B0002JV9PY          0.0\n",
       "B0002K6K8O          0.0\n",
       "\n",
       "[271359 rows x 1 columns]"
      ]
     },
     "execution_count": 263,
     "metadata": {},
     "output_type": "execute_result"
    }
   ],
   "source": [
    "books_book_ratings = pd.merge(books, book_ratings, on = 'ISBN', how = 'left')\n",
    "books_book_ratings.groupby('ISBN').mean('Book-Rating')\n",
    "\n",
    "# ci sono valori NaN?\n",
    "# gli 0 vanno mediati?"
   ]
  },
  {
   "cell_type": "markdown",
   "metadata": {},
   "source": [
    "### 3. For each book in the *GoodBooks* dataset, compute its average rating."
   ]
  },
  {
   "cell_type": "code",
   "execution_count": 269,
   "metadata": {
    "scrolled": true
   },
   "outputs": [
    {
     "data": {
      "text/html": [
       "<div>\n",
       "<style scoped>\n",
       "    .dataframe tbody tr th:only-of-type {\n",
       "        vertical-align: middle;\n",
       "    }\n",
       "\n",
       "    .dataframe tbody tr th {\n",
       "        vertical-align: top;\n",
       "    }\n",
       "\n",
       "    .dataframe thead th {\n",
       "        text-align: right;\n",
       "    }\n",
       "</style>\n",
       "<table border=\"1\" class=\"dataframe\">\n",
       "  <thead>\n",
       "    <tr style=\"text-align: right;\">\n",
       "      <th></th>\n",
       "      <th>isbn</th>\n",
       "      <th>average_rating</th>\n",
       "    </tr>\n",
       "    <tr>\n",
       "      <th>book_id</th>\n",
       "      <th></th>\n",
       "      <th></th>\n",
       "    </tr>\n",
       "  </thead>\n",
       "  <tbody>\n",
       "    <tr>\n",
       "      <th>1</th>\n",
       "      <td>439023483</td>\n",
       "      <td>4.34</td>\n",
       "    </tr>\n",
       "    <tr>\n",
       "      <th>2</th>\n",
       "      <td>439554934</td>\n",
       "      <td>4.44</td>\n",
       "    </tr>\n",
       "    <tr>\n",
       "      <th>3</th>\n",
       "      <td>316015849</td>\n",
       "      <td>3.57</td>\n",
       "    </tr>\n",
       "    <tr>\n",
       "      <th>4</th>\n",
       "      <td>61120081</td>\n",
       "      <td>4.25</td>\n",
       "    </tr>\n",
       "    <tr>\n",
       "      <th>5</th>\n",
       "      <td>743273567</td>\n",
       "      <td>3.89</td>\n",
       "    </tr>\n",
       "  </tbody>\n",
       "</table>\n",
       "</div>"
      ],
      "text/plain": [
       "              isbn  average_rating\n",
       "book_id                           \n",
       "1        439023483            4.34\n",
       "2        439554934            4.44\n",
       "3        316015849            3.57\n",
       "4         61120081            4.25\n",
       "5        743273567            3.89"
      ]
     },
     "execution_count": 269,
     "metadata": {},
     "output_type": "execute_result"
    }
   ],
   "source": [
    "goodbooks[['isbn', 'average_rating']].head()\n",
    "\n",
    "# é giusto il valore avg rating o va ricalcolato dalle stelle?\n",
    "# bisogna fare una media pesata con altri voti?"
   ]
  },
  {
   "cell_type": "markdown",
   "metadata": {},
   "source": [
    "### 4. Merge together all rows sharing the same book title, author and publisher. We will call the resulting datset `merged books`. The books that have not been merged together will not appear in `merged books`."
   ]
  },
  {
   "cell_type": "code",
   "execution_count": 5,
   "metadata": {},
   "outputs": [
    {
     "data": {
      "text/html": [
       "<div>\n",
       "<style scoped>\n",
       "    .dataframe tbody tr th:only-of-type {\n",
       "        vertical-align: middle;\n",
       "    }\n",
       "\n",
       "    .dataframe tbody tr th {\n",
       "        vertical-align: top;\n",
       "    }\n",
       "\n",
       "    .dataframe thead th {\n",
       "        text-align: right;\n",
       "    }\n",
       "</style>\n",
       "<table border=\"1\" class=\"dataframe\">\n",
       "  <thead>\n",
       "    <tr style=\"text-align: right;\">\n",
       "      <th></th>\n",
       "      <th></th>\n",
       "      <th></th>\n",
       "      <th>ISBN</th>\n",
       "      <th>Year-Of-Publication</th>\n",
       "      <th>Image-URL-S</th>\n",
       "      <th>Image-URL-M</th>\n",
       "      <th>Image-URL-L</th>\n",
       "    </tr>\n",
       "    <tr>\n",
       "      <th>Book-Title</th>\n",
       "      <th>Book-Author</th>\n",
       "      <th>Publisher</th>\n",
       "      <th></th>\n",
       "      <th></th>\n",
       "      <th></th>\n",
       "      <th></th>\n",
       "      <th></th>\n",
       "    </tr>\n",
       "  </thead>\n",
       "  <tbody>\n",
       "    <tr>\n",
       "      <th>!%@ (A Nutshell handbook)</th>\n",
       "      <th>Donnalyn Frey</th>\n",
       "      <th>O'Reilly</th>\n",
       "      <td>2</td>\n",
       "      <td>2</td>\n",
       "      <td>2</td>\n",
       "      <td>2</td>\n",
       "      <td>2</td>\n",
       "    </tr>\n",
       "    <tr>\n",
       "      <th>'A Hell of a Place to Lose a Cow': An American Hitchhiking Odyssey</th>\n",
       "      <th>Tim Brookes</th>\n",
       "      <th>National Geographic</th>\n",
       "      <td>2</td>\n",
       "      <td>2</td>\n",
       "      <td>2</td>\n",
       "      <td>2</td>\n",
       "      <td>2</td>\n",
       "    </tr>\n",
       "    <tr>\n",
       "      <th>10,000 dreams interpreted: A dictionary of dreams</th>\n",
       "      <th>Gustavus Hindman Miller</th>\n",
       "      <th>Barnes &amp;amp; Nobles Books</th>\n",
       "      <td>2</td>\n",
       "      <td>2</td>\n",
       "      <td>2</td>\n",
       "      <td>2</td>\n",
       "      <td>2</td>\n",
       "    </tr>\n",
       "    <tr>\n",
       "      <th>101 Famous Poems</th>\n",
       "      <th>Roy J. Cook</th>\n",
       "      <th>McGraw-Hill/Contemporary Books</th>\n",
       "      <td>3</td>\n",
       "      <td>3</td>\n",
       "      <td>3</td>\n",
       "      <td>3</td>\n",
       "      <td>3</td>\n",
       "    </tr>\n",
       "    <tr>\n",
       "      <th>15 Houseplants Even You Can't Kill</th>\n",
       "      <th>Joe Elder</th>\n",
       "      <th>Berkley Pub Group</th>\n",
       "      <td>2</td>\n",
       "      <td>2</td>\n",
       "      <td>2</td>\n",
       "      <td>2</td>\n",
       "      <td>2</td>\n",
       "    </tr>\n",
       "  </tbody>\n",
       "</table>\n",
       "</div>"
      ],
      "text/plain": [
       "                                                                                                           ISBN  \\\n",
       "Book-Title                                         Book-Author             Publisher                              \n",
       "!%@ (A Nutshell handbook)                          Donnalyn Frey           O'Reilly                           2   \n",
       "'A Hell of a Place to Lose a Cow': An American ... Tim Brookes             National Geographic                2   \n",
       "10,000 dreams interpreted: A dictionary of dreams  Gustavus Hindman Miller Barnes &amp; Nobles Books          2   \n",
       "101 Famous Poems                                   Roy J. Cook             McGraw-Hill/Contemporary Books     3   \n",
       "15 Houseplants Even You Can't Kill                 Joe Elder               Berkley Pub Group                  2   \n",
       "\n",
       "                                                                                                           Year-Of-Publication  \\\n",
       "Book-Title                                         Book-Author             Publisher                                             \n",
       "!%@ (A Nutshell handbook)                          Donnalyn Frey           O'Reilly                                          2   \n",
       "'A Hell of a Place to Lose a Cow': An American ... Tim Brookes             National Geographic                               2   \n",
       "10,000 dreams interpreted: A dictionary of dreams  Gustavus Hindman Miller Barnes &amp; Nobles Books                         2   \n",
       "101 Famous Poems                                   Roy J. Cook             McGraw-Hill/Contemporary Books                    3   \n",
       "15 Houseplants Even You Can't Kill                 Joe Elder               Berkley Pub Group                                 2   \n",
       "\n",
       "                                                                                                           Image-URL-S  \\\n",
       "Book-Title                                         Book-Author             Publisher                                     \n",
       "!%@ (A Nutshell handbook)                          Donnalyn Frey           O'Reilly                                  2   \n",
       "'A Hell of a Place to Lose a Cow': An American ... Tim Brookes             National Geographic                       2   \n",
       "10,000 dreams interpreted: A dictionary of dreams  Gustavus Hindman Miller Barnes &amp; Nobles Books                 2   \n",
       "101 Famous Poems                                   Roy J. Cook             McGraw-Hill/Contemporary Books            3   \n",
       "15 Houseplants Even You Can't Kill                 Joe Elder               Berkley Pub Group                         2   \n",
       "\n",
       "                                                                                                           Image-URL-M  \\\n",
       "Book-Title                                         Book-Author             Publisher                                     \n",
       "!%@ (A Nutshell handbook)                          Donnalyn Frey           O'Reilly                                  2   \n",
       "'A Hell of a Place to Lose a Cow': An American ... Tim Brookes             National Geographic                       2   \n",
       "10,000 dreams interpreted: A dictionary of dreams  Gustavus Hindman Miller Barnes &amp; Nobles Books                 2   \n",
       "101 Famous Poems                                   Roy J. Cook             McGraw-Hill/Contemporary Books            3   \n",
       "15 Houseplants Even You Can't Kill                 Joe Elder               Berkley Pub Group                         2   \n",
       "\n",
       "                                                                                                           Image-URL-L  \n",
       "Book-Title                                         Book-Author             Publisher                                    \n",
       "!%@ (A Nutshell handbook)                          Donnalyn Frey           O'Reilly                                  2  \n",
       "'A Hell of a Place to Lose a Cow': An American ... Tim Brookes             National Geographic                       2  \n",
       "10,000 dreams interpreted: A dictionary of dreams  Gustavus Hindman Miller Barnes &amp; Nobles Books                 2  \n",
       "101 Famous Poems                                   Roy J. Cook             McGraw-Hill/Contemporary Books            3  \n",
       "15 Houseplants Even You Can't Kill                 Joe Elder               Berkley Pub Group                         2  "
      ]
     },
     "execution_count": 5,
     "metadata": {},
     "output_type": "execute_result"
    }
   ],
   "source": [
    "merged_books = books.groupby(['Book-Title', 'Book-Author', 'Publisher']).count()\n",
    "merged_books = merged_books[merged_books['ISBN']>1]\n",
    "merged_books.head()\n",
    "\n",
    "# .loc o fancy indexing?"
   ]
  },
  {
   "cell_type": "markdown",
   "metadata": {},
   "source": [
    "### 5. For each book in `merged books` compute its average rating.\n",
    "\n",
    "The average is computed considering all books in `books` that have been merged."
   ]
  },
  {
   "cell_type": "code",
   "execution_count": null,
   "metadata": {},
   "outputs": [],
   "source": []
  },
  {
   "cell_type": "markdown",
   "metadata": {},
   "source": [
    "### 6. For each book in `merged books` compute the minimum and maximum of the average ratings over all corresponding books in the `books` dataset.\n",
    "\n",
    "Hence for each book in `merged books` we will have exactly two values (a minimum and a maximum)"
   ]
  },
  {
   "cell_type": "code",
   "execution_count": null,
   "metadata": {},
   "outputs": [],
   "source": []
  },
  {
   "cell_type": "markdown",
   "metadata": {},
   "source": [
    "### 7. For each book in `goodbooks`, compute the list of its authors. Assuming that the number of reviews with a text (column `work_text_reviews_count`) is split equally among all authors, find for each authors the total number of reviews with a text. We will call this quantity the *shared number of reviews with a text*."
   ]
  },
  {
   "cell_type": "code",
   "execution_count": null,
   "metadata": {},
   "outputs": [],
   "source": []
  },
  {
   "cell_type": "markdown",
   "metadata": {},
   "source": [
    "### 8. For each year of publication, determine the author that has the largest value of the shared number of reviews with a text."
   ]
  },
  {
   "cell_type": "code",
   "execution_count": null,
   "metadata": {},
   "outputs": [],
   "source": []
  },
  {
   "cell_type": "markdown",
   "metadata": {},
   "source": [
    "### 9. Assuming that there are no errors in the ISBN fields, find the books in both datasets, and compute the difference of average rating according to the ratings and the goodratings datasets"
   ]
  },
  {
   "cell_type": "code",
   "execution_count": null,
   "metadata": {},
   "outputs": [],
   "source": []
  },
  {
   "cell_type": "markdown",
   "metadata": {},
   "source": [
    "### 10. Split the users dataset according to the age. One dataset contains the users with unknown age, one with age 0-14, one with age 15-24, one with age 25-34, and so on."
   ]
  },
  {
   "cell_type": "code",
   "execution_count": null,
   "metadata": {},
   "outputs": [],
   "source": []
  },
  {
   "cell_type": "markdown",
   "metadata": {},
   "source": [
    "### 11. Find the books that appear only in the goodbooks datasets."
   ]
  },
  {
   "cell_type": "code",
   "execution_count": null,
   "metadata": {},
   "outputs": [],
   "source": []
  },
  {
   "cell_type": "markdown",
   "metadata": {},
   "source": [
    "### 12. Assuming that each pair (author, title) identifies a book, for each book find the number of times it appears in the books dataset. Which books appear the most times?"
   ]
  },
  {
   "cell_type": "code",
   "execution_count": null,
   "metadata": {},
   "outputs": [],
   "source": []
  },
  {
   "cell_type": "markdown",
   "metadata": {},
   "source": [
    "### 13. Find the author with the highest average rating according to the goodbooks datasets."
   ]
  },
  {
   "cell_type": "code",
   "execution_count": null,
   "metadata": {},
   "outputs": [],
   "source": []
  }
 ],
 "metadata": {
  "kernelspec": {
   "display_name": "Python 3",
   "language": "python",
   "name": "python3"
  },
  "language_info": {
   "codemirror_mode": {
    "name": "ipython",
    "version": 3
   },
   "file_extension": ".py",
   "mimetype": "text/x-python",
   "name": "python",
   "nbconvert_exporter": "python",
   "pygments_lexer": "ipython3",
   "version": "3.8.8"
  }
 },
 "nbformat": 4,
 "nbformat_minor": 4
}
