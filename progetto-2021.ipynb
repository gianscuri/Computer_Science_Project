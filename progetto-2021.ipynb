{
 "cells": [
  {
   "cell_type": "markdown",
   "metadata": {},
   "source": [
    "You have to work on the files:\n",
    "*  [Books](https://github.com/gdv/foundationsCS/raw/master/progetti/2021/Books.csv.gz)\n",
    "*  [Book ratings](https://github.com/gdv/foundationsCS/raw/master/progetti/2021/Book-Ratings.csv.gz)\n",
    "*  [Users](https://github.com/gdv/foundationsCS/raw/master/progetti/2021/Users.csv.gz)\n",
    "*  [Goodbooks books](https://github.com/gdv/foundationsCS/raw/master/progetti/2021/goodbooks.csv.gz)\n",
    "*  [Goodbooks ratings](https://github.com/gdv/foundationsCS/raw/master/progetti/2021/goodbooks-ratings.csv.gz)\n",
    "\n",
    "### Notes\n",
    "\n",
    "1.    It is mandatory to use GitHub for developing the project.\n",
    "1.    The project must be a jupyter notebook.\n",
    "1.    There is no restriction on the libraries that can be used, nor on the Python version.\n",
    "1.    To read those files, you need to use the `encoding = 'latin-1'` option.\n",
    "1.    All questions on the project **must** be asked in a public channel on [Zulip](https://focs.zulipchat.com), otherwise no  answer will be given."
   ]
  },
  {
   "cell_type": "code",
   "execution_count": 24,
   "metadata": {
    "ExecuteTime": {
     "end_time": "2021-11-29T11:18:07.131218Z",
     "start_time": "2021-11-29T11:18:07.113221Z"
    }
   },
   "outputs": [
    {
     "data": {
      "text/html": [
       "<style>.container { width:90% !important; }</style>"
      ],
      "text/plain": [
       "<IPython.core.display.HTML object>"
      ]
     },
     "metadata": {},
     "output_type": "display_data"
    }
   ],
   "source": [
    "from IPython.core.display import display, HTML\n",
    "display(HTML(\"<style>.container { width:90% !important; }</style>\"))"
   ]
  },
  {
   "cell_type": "code",
   "execution_count": 3,
   "metadata": {
    "ExecuteTime": {
     "end_time": "2021-11-29T11:17:19.055397Z",
     "start_time": "2021-11-29T11:17:18.502229Z"
    }
   },
   "outputs": [],
   "source": [
    "import pandas as pd\n",
    "import numpy as np\n",
    "import re"
   ]
  },
  {
   "cell_type": "code",
   "execution_count": 4,
   "metadata": {
    "ExecuteTime": {
     "end_time": "2021-11-29T11:17:19.071396Z",
     "start_time": "2021-11-29T11:17:19.057399Z"
    }
   },
   "outputs": [],
   "source": [
    "# importo i dataset specificando index_col o no?"
   ]
  },
  {
   "cell_type": "code",
   "execution_count": 8,
   "metadata": {
    "ExecuteTime": {
     "end_time": "2021-11-29T11:17:20.592046Z",
     "start_time": "2021-11-29T11:17:19.072397Z"
    }
   },
   "outputs": [
    {
     "data": {
      "text/plain": [
       "(278858, 3)"
      ]
     },
     "execution_count": 8,
     "metadata": {},
     "output_type": "execute_result"
    }
   ],
   "source": [
    "users = pd.read_csv('https://github.com/gdv/foundationsCS/raw/master/progetti/2021/Users.csv.gz', compression = 'gzip', escapechar = \"\\\\\", encoding = 'latin-1', sep = ';', dtype = {'User-ID': 'int',\n",
    "                                                                                                                                                                'Location': 'string',\n",
    "                                                                                                                                                                'Age': 'Int64'\n",
    "                                                                                                                                                                })\n",
    "users.shape"
   ]
  },
  {
   "cell_type": "code",
   "execution_count": 16,
   "metadata": {
    "ExecuteTime": {
     "end_time": "2021-11-29T11:17:23.905996Z",
     "start_time": "2021-11-29T11:17:20.593971Z"
    }
   },
   "outputs": [
    {
     "data": {
      "text/plain": [
       "(271359, 8)"
      ]
     },
     "execution_count": 16,
     "metadata": {},
     "output_type": "execute_result"
    }
   ],
   "source": [
    "books = pd.read_csv('https://github.com/gdv/foundationsCS/raw/master/progetti/2021/Books.csv.gz', compression = 'gzip', escapechar = \"\\\\\", encoding = 'latin-1', sep = ';', dtype = {'ISBN': 'string',\n",
    "                                                                                                                                                                                  'Book-title': 'string',\n",
    "                                                                                                                                                                                  'Book-Author': 'string',\n",
    "                                                                                                                                                                                  'Year-Of-Publication': 'int',\n",
    "                                                                                                                                                                                  'Publisher': 'string',\n",
    "                                                                                                                                                                                  'Image-URL-S': 'string',\n",
    "                                                                                                                                                                                  'Image-URL-M': 'string',\n",
    "                                                                                                                                                                                  'Image-URL-L': 'string',\n",
    "                                                                                                                                                                                 })\n",
    "books.shape"
   ]
  },
  {
   "cell_type": "code",
   "execution_count": 44,
   "metadata": {
    "ExecuteTime": {
     "end_time": "2021-11-29T11:17:28.470000Z",
     "start_time": "2021-11-29T11:17:23.907995Z"
    }
   },
   "outputs": [
    {
     "data": {
      "text/plain": [
       "(1149780, 3)"
      ]
     },
     "execution_count": 44,
     "metadata": {},
     "output_type": "execute_result"
    }
   ],
   "source": [
    "book_ratings = pd.read_csv('https://github.com/gdv/foundationsCS/raw/master/progetti/2021/Book-Ratings.csv.gz', compression = 'gzip', encoding = 'latin-1', sep = ';', dtype = {'User-ID': 'Int64',\n",
    "                                                                                                                                                                                                                 'ISBN': 'string',\n",
    "                                                                                                                                                                                                                 'Book-Rating': 'Int64'\n",
    "                                                                                                                                                                                                                })\n",
    "book_ratings.shape"
   ]
  },
  {
   "cell_type": "code",
   "execution_count": 45,
   "metadata": {
    "ExecuteTime": {
     "end_time": "2021-11-29T11:17:28.920360Z",
     "start_time": "2021-11-29T11:17:28.472970Z"
    }
   },
   "outputs": [
    {
     "data": {
      "text/plain": [
       "(99, 3)"
      ]
     },
     "execution_count": 45,
     "metadata": {},
     "output_type": "execute_result"
    }
   ],
   "source": [
    "goodbooks_ratings = pd.read_csv('https://github.com/gdv/foundationsCS/raw/master/progetti/2021/goodbooks-ratings.csv.gz', compression = 'gzip', encoding = 'latin-1', sep = ',', dtype = {'user_id': 'int',\n",
    "                                                                                                                                                                                        'book_id': 'int',\n",
    "                                                                                                                                                                                        'rating': 'int'\n",
    "                                                                                                                                                                                        })\n",
    "goodbooks_ratings.shape"
   ]
  },
  {
   "cell_type": "code",
   "execution_count": 46,
   "metadata": {
    "ExecuteTime": {
     "end_time": "2021-11-29T11:17:29.455949Z",
     "start_time": "2021-11-29T11:17:28.922361Z"
    }
   },
   "outputs": [
    {
     "data": {
      "text/plain": [
       "(99, 23)"
      ]
     },
     "execution_count": 46,
     "metadata": {},
     "output_type": "execute_result"
    }
   ],
   "source": [
    "goodbooks = pd.read_csv('https://github.com/gdv/foundationsCS/raw/master/progetti/2021/goodbooks.csv.gz', compression = 'gzip', encoding = 'latin-1', sep = ',', dtype = {'book_id': 'int',\n",
    "                                                                                                                                                                         'goodreads_book_id': 'int',\n",
    "                                                                                                                                                                         'best_book_id': 'int',\n",
    "                                                                                                                                                                         'work_id': 'int',\n",
    "                                                                                                                                                                         'books_count': 'int',\n",
    "                                                                                                                                                                         'isbn': 'string',\n",
    "                                                                                                                                                                         'isbn13': 'string',\n",
    "                                                                                                                                                                         'authors': 'string',\n",
    "                                                                                                                                                                         'original_publication_year': 'int',\n",
    "                                                                                                                                                                         'original_title': 'string',\n",
    "                                                                                                                                                                         'title': 'string',\n",
    "                                                                                                                                                                         'language_code': 'string',\n",
    "                                                                                                                                                                         'average_rating': 'double',\n",
    "                                                                                                                                                                         'ratings_count': 'int',\n",
    "                                                                                                                                                                         'work_ratings_count': 'int',\n",
    "                                                                                                                                                                         'work_text_reviews_count': 'int',\n",
    "                                                                                                                                                                         'ratings_1': 'int',\n",
    "                                                                                                                                                                         'ratings_2': 'int',\n",
    "                                                                                                                                                                         'ratings_3': 'int',\n",
    "                                                                                                                                                                         'ratings_4': 'int',\n",
    "                                                                                                                                                                         'ratings_5': 'int',\n",
    "                                                                                                                                                                         'image_url': 'string',\n",
    "                                                                                                                                                                         'small_image_url': 'string'\n",
    "                                                                                                                                                                         })\n",
    "goodbooks.shape"
   ]
  },
  {
   "cell_type": "markdown",
   "metadata": {},
   "source": [
    "### 1. Normalize the location field of *Users* dataset, splitting into city, region, country."
   ]
  },
  {
   "cell_type": "code",
   "execution_count": 43,
   "metadata": {
    "ExecuteTime": {
     "end_time": "2021-11-29T11:17:30.240434Z",
     "start_time": "2021-11-29T11:17:29.456948Z"
    }
   },
   "outputs": [
    {
     "data": {
      "text/html": [
       "<div>\n",
       "<style scoped>\n",
       "    .dataframe tbody tr th:only-of-type {\n",
       "        vertical-align: middle;\n",
       "    }\n",
       "\n",
       "    .dataframe tbody tr th {\n",
       "        vertical-align: top;\n",
       "    }\n",
       "\n",
       "    .dataframe thead th {\n",
       "        text-align: right;\n",
       "    }\n",
       "</style>\n",
       "<table border=\"1\" class=\"dataframe\">\n",
       "  <thead>\n",
       "    <tr style=\"text-align: right;\">\n",
       "      <th></th>\n",
       "      <th>User-ID</th>\n",
       "      <th>Location</th>\n",
       "      <th>Age</th>\n",
       "      <th>City</th>\n",
       "      <th>Region</th>\n",
       "      <th>Country</th>\n",
       "    </tr>\n",
       "  </thead>\n",
       "  <tbody>\n",
       "    <tr>\n",
       "      <th>0</th>\n",
       "      <td>1</td>\n",
       "      <td>nyc, new york, usa</td>\n",
       "      <td>&lt;NA&gt;</td>\n",
       "      <td>nyc</td>\n",
       "      <td>new york</td>\n",
       "      <td>usa</td>\n",
       "    </tr>\n",
       "    <tr>\n",
       "      <th>1</th>\n",
       "      <td>2</td>\n",
       "      <td>stockton, california, usa</td>\n",
       "      <td>18</td>\n",
       "      <td>stockton</td>\n",
       "      <td>california</td>\n",
       "      <td>usa</td>\n",
       "    </tr>\n",
       "    <tr>\n",
       "      <th>2</th>\n",
       "      <td>3</td>\n",
       "      <td>moscow, yukon territory, russia</td>\n",
       "      <td>&lt;NA&gt;</td>\n",
       "      <td>moscow</td>\n",
       "      <td>yukon territory</td>\n",
       "      <td>russia</td>\n",
       "    </tr>\n",
       "    <tr>\n",
       "      <th>3</th>\n",
       "      <td>4</td>\n",
       "      <td>porto, v.n.gaia, portugal</td>\n",
       "      <td>17</td>\n",
       "      <td>porto</td>\n",
       "      <td>v.n.gaia</td>\n",
       "      <td>portugal</td>\n",
       "    </tr>\n",
       "    <tr>\n",
       "      <th>4</th>\n",
       "      <td>5</td>\n",
       "      <td>farnborough, hants, united kingdom</td>\n",
       "      <td>&lt;NA&gt;</td>\n",
       "      <td>farnborough</td>\n",
       "      <td>hants</td>\n",
       "      <td>united kingdom</td>\n",
       "    </tr>\n",
       "  </tbody>\n",
       "</table>\n",
       "</div>"
      ],
      "text/plain": [
       "   User-ID                            Location   Age         City  \\\n",
       "0        1                  nyc, new york, usa  <NA>          nyc   \n",
       "1        2           stockton, california, usa    18     stockton   \n",
       "2        3     moscow, yukon territory, russia  <NA>       moscow   \n",
       "3        4           porto, v.n.gaia, portugal    17        porto   \n",
       "4        5  farnborough, hants, united kingdom  <NA>  farnborough   \n",
       "\n",
       "             Region          Country  \n",
       "0          new york              usa  \n",
       "1        california              usa  \n",
       "2   yukon territory           russia  \n",
       "3          v.n.gaia         portugal  \n",
       "4             hants   united kingdom  "
      ]
     },
     "execution_count": 43,
     "metadata": {},
     "output_type": "execute_result"
    }
   ],
   "source": [
    "users[['City', 'Region', 'Country']] = users['Location'].str.rsplit(',', 2, expand=True)\n",
    "users.head()\n",
    "\n",
    "# Da sistemare country usando le probabilitá (?)\n",
    "# creare lista \n",
    "# sistemare encoding (riga 1318)"
   ]
  },
  {
   "cell_type": "markdown",
   "metadata": {},
   "source": [
    "### 2. For each book in the *Books* dataset, compute its average rating."
   ]
  },
  {
   "cell_type": "code",
   "execution_count": 47,
   "metadata": {
    "ExecuteTime": {
     "end_time": "2021-11-29T14:10:26.175415Z",
     "start_time": "2021-11-29T14:10:24.628091Z"
    }
   },
   "outputs": [
    {
     "data": {
      "text/html": [
       "<div>\n",
       "<style scoped>\n",
       "    .dataframe tbody tr th:only-of-type {\n",
       "        vertical-align: middle;\n",
       "    }\n",
       "\n",
       "    .dataframe tbody tr th {\n",
       "        vertical-align: top;\n",
       "    }\n",
       "\n",
       "    .dataframe thead th {\n",
       "        text-align: right;\n",
       "    }\n",
       "</style>\n",
       "<table border=\"1\" class=\"dataframe\">\n",
       "  <thead>\n",
       "    <tr style=\"text-align: right;\">\n",
       "      <th></th>\n",
       "      <th>ISBN</th>\n",
       "      <th>Average_Rating</th>\n",
       "    </tr>\n",
       "  </thead>\n",
       "  <tbody>\n",
       "    <tr>\n",
       "      <th>0</th>\n",
       "      <td>0000913154</td>\n",
       "      <td>8.0</td>\n",
       "    </tr>\n",
       "    <tr>\n",
       "      <th>1</th>\n",
       "      <td>0001010565</td>\n",
       "      <td>0.0</td>\n",
       "    </tr>\n",
       "    <tr>\n",
       "      <th>2</th>\n",
       "      <td>0001046438</td>\n",
       "      <td>9.0</td>\n",
       "    </tr>\n",
       "    <tr>\n",
       "      <th>3</th>\n",
       "      <td>0001046713</td>\n",
       "      <td>0.0</td>\n",
       "    </tr>\n",
       "    <tr>\n",
       "      <th>4</th>\n",
       "      <td>000104687X</td>\n",
       "      <td>6.0</td>\n",
       "    </tr>\n",
       "  </tbody>\n",
       "</table>\n",
       "</div>"
      ],
      "text/plain": [
       "         ISBN  Average_Rating\n",
       "0  0000913154             8.0\n",
       "1  0001010565             0.0\n",
       "2  0001046438             9.0\n",
       "3  0001046713             0.0\n",
       "4  000104687X             6.0"
      ]
     },
     "execution_count": 47,
     "metadata": {},
     "output_type": "execute_result"
    }
   ],
   "source": [
    "pd.merge(books, book_ratings, on = 'ISBN', how = 'left').groupby('ISBN', as_index=False).agg(Average_Rating=('Book-Rating', 'mean')).head()\n",
    "\n",
    "# gli 0 vanno mediati?\n",
    "# mettere colonna book title"
   ]
  },
  {
   "cell_type": "markdown",
   "metadata": {},
   "source": [
    "### 3. For each book in the *GoodBooks* dataset, compute its average rating."
   ]
  },
  {
   "cell_type": "code",
   "execution_count": 23,
   "metadata": {
    "ExecuteTime": {
     "end_time": "2021-11-29T11:19:04.935484Z",
     "start_time": "2021-11-29T11:19:04.917517Z"
    },
    "scrolled": true
   },
   "outputs": [
    {
     "data": {
      "text/html": [
       "<div>\n",
       "<style scoped>\n",
       "    .dataframe tbody tr th:only-of-type {\n",
       "        vertical-align: middle;\n",
       "    }\n",
       "\n",
       "    .dataframe tbody tr th {\n",
       "        vertical-align: top;\n",
       "    }\n",
       "\n",
       "    .dataframe thead th {\n",
       "        text-align: right;\n",
       "    }\n",
       "</style>\n",
       "<table border=\"1\" class=\"dataframe\">\n",
       "  <thead>\n",
       "    <tr style=\"text-align: right;\">\n",
       "      <th></th>\n",
       "      <th>isbn</th>\n",
       "      <th>average_rating</th>\n",
       "    </tr>\n",
       "  </thead>\n",
       "  <tbody>\n",
       "    <tr>\n",
       "      <th>0</th>\n",
       "      <td>439023483</td>\n",
       "      <td>4.34</td>\n",
       "    </tr>\n",
       "    <tr>\n",
       "      <th>1</th>\n",
       "      <td>439554934</td>\n",
       "      <td>4.44</td>\n",
       "    </tr>\n",
       "    <tr>\n",
       "      <th>2</th>\n",
       "      <td>316015849</td>\n",
       "      <td>3.57</td>\n",
       "    </tr>\n",
       "    <tr>\n",
       "      <th>3</th>\n",
       "      <td>61120081</td>\n",
       "      <td>4.25</td>\n",
       "    </tr>\n",
       "    <tr>\n",
       "      <th>4</th>\n",
       "      <td>743273567</td>\n",
       "      <td>3.89</td>\n",
       "    </tr>\n",
       "  </tbody>\n",
       "</table>\n",
       "</div>"
      ],
      "text/plain": [
       "        isbn  average_rating\n",
       "0  439023483            4.34\n",
       "1  439554934            4.44\n",
       "2  316015849            3.57\n",
       "3   61120081            4.25\n",
       "4  743273567            3.89"
      ]
     },
     "execution_count": 23,
     "metadata": {},
     "output_type": "execute_result"
    }
   ],
   "source": [
    "goodbooks[['isbn', 'average_rating']].head()"
   ]
  },
  {
   "cell_type": "markdown",
   "metadata": {},
   "source": [
    "### 4. Merge together all rows sharing the same book title, author and publisher. We will call the resulting datset `merged books`. The books that have not been merged together will not appear in `merged books`."
   ]
  },
  {
   "cell_type": "code",
   "execution_count": 28,
   "metadata": {
    "ExecuteTime": {
     "end_time": "2021-11-29T11:17:32.157947Z",
     "start_time": "2021-11-29T11:17:31.845063Z"
    }
   },
   "outputs": [
    {
     "data": {
      "text/html": [
       "<div>\n",
       "<style scoped>\n",
       "    .dataframe tbody tr th:only-of-type {\n",
       "        vertical-align: middle;\n",
       "    }\n",
       "\n",
       "    .dataframe tbody tr th {\n",
       "        vertical-align: top;\n",
       "    }\n",
       "\n",
       "    .dataframe thead th {\n",
       "        text-align: right;\n",
       "    }\n",
       "</style>\n",
       "<table border=\"1\" class=\"dataframe\">\n",
       "  <thead>\n",
       "    <tr style=\"text-align: right;\">\n",
       "      <th></th>\n",
       "      <th>Book-Title</th>\n",
       "      <th>Book-Author</th>\n",
       "      <th>Publisher</th>\n",
       "      <th>Count</th>\n",
       "    </tr>\n",
       "  </thead>\n",
       "  <tbody>\n",
       "    <tr>\n",
       "      <th>0</th>\n",
       "      <td>!%@ (A Nutshell handbook)</td>\n",
       "      <td>Donnalyn Frey</td>\n",
       "      <td>O'Reilly</td>\n",
       "      <td>2</td>\n",
       "    </tr>\n",
       "    <tr>\n",
       "      <th>1</th>\n",
       "      <td>'A Hell of a Place to Lose a Cow': An American...</td>\n",
       "      <td>Tim Brookes</td>\n",
       "      <td>National Geographic</td>\n",
       "      <td>2</td>\n",
       "    </tr>\n",
       "    <tr>\n",
       "      <th>2</th>\n",
       "      <td>10,000 dreams interpreted: A dictionary of dreams</td>\n",
       "      <td>Gustavus Hindman Miller</td>\n",
       "      <td>Barnes &amp;amp; Nobles Books</td>\n",
       "      <td>2</td>\n",
       "    </tr>\n",
       "    <tr>\n",
       "      <th>3</th>\n",
       "      <td>101 Famous Poems</td>\n",
       "      <td>Roy J. Cook</td>\n",
       "      <td>McGraw-Hill/Contemporary Books</td>\n",
       "      <td>3</td>\n",
       "    </tr>\n",
       "    <tr>\n",
       "      <th>4</th>\n",
       "      <td>15 Houseplants Even You Can't Kill</td>\n",
       "      <td>Joe Elder</td>\n",
       "      <td>Berkley Pub Group</td>\n",
       "      <td>2</td>\n",
       "    </tr>\n",
       "  </tbody>\n",
       "</table>\n",
       "</div>"
      ],
      "text/plain": [
       "                                          Book-Title              Book-Author  \\\n",
       "0                          !%@ (A Nutshell handbook)            Donnalyn Frey   \n",
       "1  'A Hell of a Place to Lose a Cow': An American...              Tim Brookes   \n",
       "2  10,000 dreams interpreted: A dictionary of dreams  Gustavus Hindman Miller   \n",
       "3                                   101 Famous Poems              Roy J. Cook   \n",
       "4                 15 Houseplants Even You Can't Kill                Joe Elder   \n",
       "\n",
       "                        Publisher  Count  \n",
       "0                        O'Reilly      2  \n",
       "1             National Geographic      2  \n",
       "2       Barnes &amp; Nobles Books      2  \n",
       "3  McGraw-Hill/Contemporary Books      3  \n",
       "4               Berkley Pub Group      2  "
      ]
     },
     "execution_count": 28,
     "metadata": {},
     "output_type": "execute_result"
    }
   ],
   "source": [
    "merging_books = books[books.duplicated(subset = ['Book-Title', 'Book-Author', 'Publisher'], keep = False)].sort_values(['Book-Title', 'Book-Author', 'Publisher'])\n",
    "merged_books = merging_books.groupby(['Book-Title', 'Book-Author', 'Publisher'], as_index=False).agg(Count=('ISBN', 'count'))\n",
    "merged_books.head()"
   ]
  },
  {
   "cell_type": "markdown",
   "metadata": {},
   "source": [
    "### 5. For each book in `merged books` compute its average rating.\n",
    "\n",
    "The average is computed considering all books in `books` that have been merged."
   ]
  },
  {
   "cell_type": "code",
   "execution_count": 48,
   "metadata": {
    "ExecuteTime": {
     "end_time": "2021-11-29T11:17:32.580867Z",
     "start_time": "2021-11-29T11:17:32.158910Z"
    },
    "scrolled": true
   },
   "outputs": [
    {
     "data": {
      "text/html": [
       "<div>\n",
       "<style scoped>\n",
       "    .dataframe tbody tr th:only-of-type {\n",
       "        vertical-align: middle;\n",
       "    }\n",
       "\n",
       "    .dataframe tbody tr th {\n",
       "        vertical-align: top;\n",
       "    }\n",
       "\n",
       "    .dataframe thead th {\n",
       "        text-align: right;\n",
       "    }\n",
       "</style>\n",
       "<table border=\"1\" class=\"dataframe\">\n",
       "  <thead>\n",
       "    <tr style=\"text-align: right;\">\n",
       "      <th></th>\n",
       "      <th>ISBN</th>\n",
       "      <th>Book-Title</th>\n",
       "      <th>Book-Author</th>\n",
       "      <th>Year-Of-Publication</th>\n",
       "      <th>Publisher</th>\n",
       "      <th>Image-URL-S</th>\n",
       "      <th>Image-URL-M</th>\n",
       "      <th>Image-URL-L</th>\n",
       "      <th>Average_Rating</th>\n",
       "    </tr>\n",
       "  </thead>\n",
       "  <tbody>\n",
       "    <tr>\n",
       "      <th>0</th>\n",
       "      <td>1565920465</td>\n",
       "      <td>!%@ (A Nutshell handbook)</td>\n",
       "      <td>Donnalyn Frey</td>\n",
       "      <td>1994</td>\n",
       "      <td>O'Reilly</td>\n",
       "      <td>http://images.amazon.com/images/P/1565920465.0...</td>\n",
       "      <td>http://images.amazon.com/images/P/1565920465.0...</td>\n",
       "      <td>http://images.amazon.com/images/P/1565920465.0...</td>\n",
       "      <td>0.0</td>\n",
       "    </tr>\n",
       "    <tr>\n",
       "      <th>1</th>\n",
       "      <td>1565920317</td>\n",
       "      <td>!%@ (A Nutshell handbook)</td>\n",
       "      <td>Donnalyn Frey</td>\n",
       "      <td>1993</td>\n",
       "      <td>O'Reilly</td>\n",
       "      <td>http://images.amazon.com/images/P/1565920317.0...</td>\n",
       "      <td>http://images.amazon.com/images/P/1565920317.0...</td>\n",
       "      <td>http://images.amazon.com/images/P/1565920317.0...</td>\n",
       "      <td>6.0</td>\n",
       "    </tr>\n",
       "    <tr>\n",
       "      <th>2</th>\n",
       "      <td>0792276833</td>\n",
       "      <td>'A Hell of a Place to Lose a Cow': An American...</td>\n",
       "      <td>Tim Brookes</td>\n",
       "      <td>2000</td>\n",
       "      <td>National Geographic</td>\n",
       "      <td>http://images.amazon.com/images/P/0792276833.0...</td>\n",
       "      <td>http://images.amazon.com/images/P/0792276833.0...</td>\n",
       "      <td>http://images.amazon.com/images/P/0792276833.0...</td>\n",
       "      <td>0.0</td>\n",
       "    </tr>\n",
       "    <tr>\n",
       "      <th>3</th>\n",
       "      <td>0792277295</td>\n",
       "      <td>'A Hell of a Place to Lose a Cow': An American...</td>\n",
       "      <td>Tim Brookes</td>\n",
       "      <td>2001</td>\n",
       "      <td>National Geographic</td>\n",
       "      <td>http://images.amazon.com/images/P/0792277295.0...</td>\n",
       "      <td>http://images.amazon.com/images/P/0792277295.0...</td>\n",
       "      <td>http://images.amazon.com/images/P/0792277295.0...</td>\n",
       "      <td>3.4</td>\n",
       "    </tr>\n",
       "    <tr>\n",
       "      <th>4</th>\n",
       "      <td>1566196256</td>\n",
       "      <td>10,000 dreams interpreted: A dictionary of dreams</td>\n",
       "      <td>Gustavus Hindman Miller</td>\n",
       "      <td>1995</td>\n",
       "      <td>Barnes &amp;amp; Nobles Books</td>\n",
       "      <td>http://images.amazon.com/images/P/1566196256.0...</td>\n",
       "      <td>http://images.amazon.com/images/P/1566196256.0...</td>\n",
       "      <td>http://images.amazon.com/images/P/1566196256.0...</td>\n",
       "      <td>7.25</td>\n",
       "    </tr>\n",
       "    <tr>\n",
       "      <th>5</th>\n",
       "      <td>1566196264</td>\n",
       "      <td>10,000 dreams interpreted: A dictionary of dreams</td>\n",
       "      <td>Gustavus Hindman Miller</td>\n",
       "      <td>1995</td>\n",
       "      <td>Barnes &amp;amp; Nobles Books</td>\n",
       "      <td>http://images.amazon.com/images/P/1566196264.0...</td>\n",
       "      <td>http://images.amazon.com/images/P/1566196264.0...</td>\n",
       "      <td>http://images.amazon.com/images/P/1566196264.0...</td>\n",
       "      <td>6.666667</td>\n",
       "    </tr>\n",
       "    <tr>\n",
       "      <th>6</th>\n",
       "      <td>0809288311</td>\n",
       "      <td>101 Famous Poems</td>\n",
       "      <td>Roy J. Cook</td>\n",
       "      <td>1984</td>\n",
       "      <td>McGraw-Hill/Contemporary Books</td>\n",
       "      <td>http://images.amazon.com/images/P/0809288311.0...</td>\n",
       "      <td>http://images.amazon.com/images/P/0809288311.0...</td>\n",
       "      <td>http://images.amazon.com/images/P/0809288311.0...</td>\n",
       "      <td>5.0</td>\n",
       "    </tr>\n",
       "    <tr>\n",
       "      <th>7</th>\n",
       "      <td>0809288346</td>\n",
       "      <td>101 Famous Poems</td>\n",
       "      <td>Roy J. Cook</td>\n",
       "      <td>1994</td>\n",
       "      <td>McGraw-Hill/Contemporary Books</td>\n",
       "      <td>http://images.amazon.com/images/P/0809288346.0...</td>\n",
       "      <td>http://images.amazon.com/images/P/0809288346.0...</td>\n",
       "      <td>http://images.amazon.com/images/P/0809288346.0...</td>\n",
       "      <td>4.333333</td>\n",
       "    </tr>\n",
       "    <tr>\n",
       "      <th>8</th>\n",
       "      <td>0809250969</td>\n",
       "      <td>101 Famous Poems</td>\n",
       "      <td>Roy J. Cook</td>\n",
       "      <td>1985</td>\n",
       "      <td>McGraw-Hill/Contemporary Books</td>\n",
       "      <td>http://images.amazon.com/images/P/0809250969.0...</td>\n",
       "      <td>http://images.amazon.com/images/P/0809250969.0...</td>\n",
       "      <td>http://images.amazon.com/images/P/0809250969.0...</td>\n",
       "      <td>0.0</td>\n",
       "    </tr>\n",
       "    <tr>\n",
       "      <th>9</th>\n",
       "      <td>0425073696</td>\n",
       "      <td>15 Houseplants Even You Can't Kill</td>\n",
       "      <td>Joe Elder</td>\n",
       "      <td>1991</td>\n",
       "      <td>Berkley Pub Group</td>\n",
       "      <td>http://images.amazon.com/images/P/0425073696.0...</td>\n",
       "      <td>http://images.amazon.com/images/P/0425073696.0...</td>\n",
       "      <td>http://images.amazon.com/images/P/0425073696.0...</td>\n",
       "      <td>0.0</td>\n",
       "    </tr>\n",
       "    <tr>\n",
       "      <th>10</th>\n",
       "      <td>0425131300</td>\n",
       "      <td>15 Houseplants Even You Can't Kill</td>\n",
       "      <td>Joe Elder</td>\n",
       "      <td>1991</td>\n",
       "      <td>Berkley Pub Group</td>\n",
       "      <td>http://images.amazon.com/images/P/0425131300.0...</td>\n",
       "      <td>http://images.amazon.com/images/P/0425131300.0...</td>\n",
       "      <td>http://images.amazon.com/images/P/0425131300.0...</td>\n",
       "      <td>0.0</td>\n",
       "    </tr>\n",
       "    <tr>\n",
       "      <th>11</th>\n",
       "      <td>0671822535</td>\n",
       "      <td>158 POUND MARRIAGE</td>\n",
       "      <td>John Irving</td>\n",
       "      <td>1978</td>\n",
       "      <td>Pocket</td>\n",
       "      <td>http://images.amazon.com/images/P/0671822535.0...</td>\n",
       "      <td>http://images.amazon.com/images/P/0671822535.0...</td>\n",
       "      <td>http://images.amazon.com/images/P/0671822535.0...</td>\n",
       "      <td>3.5</td>\n",
       "    </tr>\n",
       "    <tr>\n",
       "      <th>12</th>\n",
       "      <td>0671468111</td>\n",
       "      <td>158 POUND MARRIAGE</td>\n",
       "      <td>John Irving</td>\n",
       "      <td>1982</td>\n",
       "      <td>Pocket</td>\n",
       "      <td>http://images.amazon.com/images/P/0671468111.0...</td>\n",
       "      <td>http://images.amazon.com/images/P/0671468111.0...</td>\n",
       "      <td>http://images.amazon.com/images/P/0671468111.0...</td>\n",
       "      <td>1.333333</td>\n",
       "    </tr>\n",
       "    <tr>\n",
       "      <th>13</th>\n",
       "      <td>1568582161</td>\n",
       "      <td>1700: Scenes from London Life</td>\n",
       "      <td>Maureen Waller</td>\n",
       "      <td>2002</td>\n",
       "      <td>Four Walls Eight Windows</td>\n",
       "      <td>http://images.amazon.com/images/P/1568582161.0...</td>\n",
       "      <td>http://images.amazon.com/images/P/1568582161.0...</td>\n",
       "      <td>http://images.amazon.com/images/P/1568582161.0...</td>\n",
       "      <td>4.5</td>\n",
       "    </tr>\n",
       "    <tr>\n",
       "      <th>14</th>\n",
       "      <td>1568581645</td>\n",
       "      <td>1700: Scenes from London Life</td>\n",
       "      <td>Maureen Waller</td>\n",
       "      <td>2000</td>\n",
       "      <td>Four Walls Eight Windows</td>\n",
       "      <td>http://images.amazon.com/images/P/1568581645.0...</td>\n",
       "      <td>http://images.amazon.com/images/P/1568581645.0...</td>\n",
       "      <td>http://images.amazon.com/images/P/1568581645.0...</td>\n",
       "      <td>8.0</td>\n",
       "    </tr>\n",
       "  </tbody>\n",
       "</table>\n",
       "</div>"
      ],
      "text/plain": [
       "          ISBN                                         Book-Title  \\\n",
       "0   1565920465                          !%@ (A Nutshell handbook)   \n",
       "1   1565920317                          !%@ (A Nutshell handbook)   \n",
       "2   0792276833  'A Hell of a Place to Lose a Cow': An American...   \n",
       "3   0792277295  'A Hell of a Place to Lose a Cow': An American...   \n",
       "4   1566196256  10,000 dreams interpreted: A dictionary of dreams   \n",
       "5   1566196264  10,000 dreams interpreted: A dictionary of dreams   \n",
       "6   0809288311                                   101 Famous Poems   \n",
       "7   0809288346                                   101 Famous Poems   \n",
       "8   0809250969                                   101 Famous Poems   \n",
       "9   0425073696                 15 Houseplants Even You Can't Kill   \n",
       "10  0425131300                 15 Houseplants Even You Can't Kill   \n",
       "11  0671822535                                 158 POUND MARRIAGE   \n",
       "12  0671468111                                 158 POUND MARRIAGE   \n",
       "13  1568582161                      1700: Scenes from London Life   \n",
       "14  1568581645                      1700: Scenes from London Life   \n",
       "\n",
       "                Book-Author  Year-Of-Publication  \\\n",
       "0             Donnalyn Frey                 1994   \n",
       "1             Donnalyn Frey                 1993   \n",
       "2               Tim Brookes                 2000   \n",
       "3               Tim Brookes                 2001   \n",
       "4   Gustavus Hindman Miller                 1995   \n",
       "5   Gustavus Hindman Miller                 1995   \n",
       "6               Roy J. Cook                 1984   \n",
       "7               Roy J. Cook                 1994   \n",
       "8               Roy J. Cook                 1985   \n",
       "9                 Joe Elder                 1991   \n",
       "10                Joe Elder                 1991   \n",
       "11              John Irving                 1978   \n",
       "12              John Irving                 1982   \n",
       "13           Maureen Waller                 2002   \n",
       "14           Maureen Waller                 2000   \n",
       "\n",
       "                         Publisher  \\\n",
       "0                         O'Reilly   \n",
       "1                         O'Reilly   \n",
       "2              National Geographic   \n",
       "3              National Geographic   \n",
       "4        Barnes &amp; Nobles Books   \n",
       "5        Barnes &amp; Nobles Books   \n",
       "6   McGraw-Hill/Contemporary Books   \n",
       "7   McGraw-Hill/Contemporary Books   \n",
       "8   McGraw-Hill/Contemporary Books   \n",
       "9                Berkley Pub Group   \n",
       "10               Berkley Pub Group   \n",
       "11                          Pocket   \n",
       "12                          Pocket   \n",
       "13        Four Walls Eight Windows   \n",
       "14        Four Walls Eight Windows   \n",
       "\n",
       "                                          Image-URL-S  \\\n",
       "0   http://images.amazon.com/images/P/1565920465.0...   \n",
       "1   http://images.amazon.com/images/P/1565920317.0...   \n",
       "2   http://images.amazon.com/images/P/0792276833.0...   \n",
       "3   http://images.amazon.com/images/P/0792277295.0...   \n",
       "4   http://images.amazon.com/images/P/1566196256.0...   \n",
       "5   http://images.amazon.com/images/P/1566196264.0...   \n",
       "6   http://images.amazon.com/images/P/0809288311.0...   \n",
       "7   http://images.amazon.com/images/P/0809288346.0...   \n",
       "8   http://images.amazon.com/images/P/0809250969.0...   \n",
       "9   http://images.amazon.com/images/P/0425073696.0...   \n",
       "10  http://images.amazon.com/images/P/0425131300.0...   \n",
       "11  http://images.amazon.com/images/P/0671822535.0...   \n",
       "12  http://images.amazon.com/images/P/0671468111.0...   \n",
       "13  http://images.amazon.com/images/P/1568582161.0...   \n",
       "14  http://images.amazon.com/images/P/1568581645.0...   \n",
       "\n",
       "                                          Image-URL-M  \\\n",
       "0   http://images.amazon.com/images/P/1565920465.0...   \n",
       "1   http://images.amazon.com/images/P/1565920317.0...   \n",
       "2   http://images.amazon.com/images/P/0792276833.0...   \n",
       "3   http://images.amazon.com/images/P/0792277295.0...   \n",
       "4   http://images.amazon.com/images/P/1566196256.0...   \n",
       "5   http://images.amazon.com/images/P/1566196264.0...   \n",
       "6   http://images.amazon.com/images/P/0809288311.0...   \n",
       "7   http://images.amazon.com/images/P/0809288346.0...   \n",
       "8   http://images.amazon.com/images/P/0809250969.0...   \n",
       "9   http://images.amazon.com/images/P/0425073696.0...   \n",
       "10  http://images.amazon.com/images/P/0425131300.0...   \n",
       "11  http://images.amazon.com/images/P/0671822535.0...   \n",
       "12  http://images.amazon.com/images/P/0671468111.0...   \n",
       "13  http://images.amazon.com/images/P/1568582161.0...   \n",
       "14  http://images.amazon.com/images/P/1568581645.0...   \n",
       "\n",
       "                                          Image-URL-L  Average_Rating  \n",
       "0   http://images.amazon.com/images/P/1565920465.0...             0.0  \n",
       "1   http://images.amazon.com/images/P/1565920317.0...             6.0  \n",
       "2   http://images.amazon.com/images/P/0792276833.0...             0.0  \n",
       "3   http://images.amazon.com/images/P/0792277295.0...             3.4  \n",
       "4   http://images.amazon.com/images/P/1566196256.0...            7.25  \n",
       "5   http://images.amazon.com/images/P/1566196264.0...        6.666667  \n",
       "6   http://images.amazon.com/images/P/0809288311.0...             5.0  \n",
       "7   http://images.amazon.com/images/P/0809288346.0...        4.333333  \n",
       "8   http://images.amazon.com/images/P/0809250969.0...             0.0  \n",
       "9   http://images.amazon.com/images/P/0425073696.0...             0.0  \n",
       "10  http://images.amazon.com/images/P/0425131300.0...             0.0  \n",
       "11  http://images.amazon.com/images/P/0671822535.0...             3.5  \n",
       "12  http://images.amazon.com/images/P/0671468111.0...        1.333333  \n",
       "13  http://images.amazon.com/images/P/1568582161.0...             4.5  \n",
       "14  http://images.amazon.com/images/P/1568581645.0...             8.0  "
      ]
     },
     "execution_count": 48,
     "metadata": {},
     "output_type": "execute_result"
    }
   ],
   "source": [
    "book_ratings_avg = book_ratings.groupby('ISBN', as_index=True).agg(Average_Rating=('Book-Rating', 'mean'))\n",
    "merging_book_ratings = pd.merge(merging_books, book_ratings_avg, on = 'ISBN', how = 'left')\n",
    "merging_book_ratings.head(15)"
   ]
  },
  {
   "cell_type": "markdown",
   "metadata": {},
   "source": [
    "### 6. For each book in `merged books` compute the minimum and maximum of the average ratings over all corresponding books in the `books` dataset.\n",
    "\n",
    "Hence for each book in `merged books` we will have exactly two values (a minimum and a maximum)"
   ]
  },
  {
   "cell_type": "code",
   "execution_count": 34,
   "metadata": {
    "ExecuteTime": {
     "end_time": "2021-11-29T11:17:32.625800Z",
     "start_time": "2021-11-29T11:17:32.582865Z"
    }
   },
   "outputs": [
    {
     "data": {
      "text/html": [
       "<div>\n",
       "<style scoped>\n",
       "    .dataframe tbody tr th:only-of-type {\n",
       "        vertical-align: middle;\n",
       "    }\n",
       "\n",
       "    .dataframe tbody tr th {\n",
       "        vertical-align: top;\n",
       "    }\n",
       "\n",
       "    .dataframe thead tr th {\n",
       "        text-align: left;\n",
       "    }\n",
       "</style>\n",
       "<table border=\"1\" class=\"dataframe\">\n",
       "  <thead>\n",
       "    <tr>\n",
       "      <th></th>\n",
       "      <th>Book-Title</th>\n",
       "      <th>Book-Author</th>\n",
       "      <th>Publisher</th>\n",
       "      <th colspan=\"2\" halign=\"left\">Average_Rating</th>\n",
       "    </tr>\n",
       "    <tr>\n",
       "      <th></th>\n",
       "      <th></th>\n",
       "      <th></th>\n",
       "      <th></th>\n",
       "      <th>min</th>\n",
       "      <th>max</th>\n",
       "    </tr>\n",
       "  </thead>\n",
       "  <tbody>\n",
       "    <tr>\n",
       "      <th>0</th>\n",
       "      <td>!%@ (A Nutshell handbook)</td>\n",
       "      <td>Donnalyn Frey</td>\n",
       "      <td>O'Reilly</td>\n",
       "      <td>0.0</td>\n",
       "      <td>6.0</td>\n",
       "    </tr>\n",
       "    <tr>\n",
       "      <th>1</th>\n",
       "      <td>'A Hell of a Place to Lose a Cow': An American...</td>\n",
       "      <td>Tim Brookes</td>\n",
       "      <td>National Geographic</td>\n",
       "      <td>0.0</td>\n",
       "      <td>3.4</td>\n",
       "    </tr>\n",
       "    <tr>\n",
       "      <th>2</th>\n",
       "      <td>10,000 dreams interpreted: A dictionary of dreams</td>\n",
       "      <td>Gustavus Hindman Miller</td>\n",
       "      <td>Barnes &amp;amp; Nobles Books</td>\n",
       "      <td>6.666667</td>\n",
       "      <td>7.25</td>\n",
       "    </tr>\n",
       "    <tr>\n",
       "      <th>3</th>\n",
       "      <td>101 Famous Poems</td>\n",
       "      <td>Roy J. Cook</td>\n",
       "      <td>McGraw-Hill/Contemporary Books</td>\n",
       "      <td>0.0</td>\n",
       "      <td>5.0</td>\n",
       "    </tr>\n",
       "    <tr>\n",
       "      <th>4</th>\n",
       "      <td>15 Houseplants Even You Can't Kill</td>\n",
       "      <td>Joe Elder</td>\n",
       "      <td>Berkley Pub Group</td>\n",
       "      <td>0.0</td>\n",
       "      <td>0.0</td>\n",
       "    </tr>\n",
       "  </tbody>\n",
       "</table>\n",
       "</div>"
      ],
      "text/plain": [
       "                                          Book-Title              Book-Author  \\\n",
       "                                                                                \n",
       "0                          !%@ (A Nutshell handbook)            Donnalyn Frey   \n",
       "1  'A Hell of a Place to Lose a Cow': An American...              Tim Brookes   \n",
       "2  10,000 dreams interpreted: A dictionary of dreams  Gustavus Hindman Miller   \n",
       "3                                   101 Famous Poems              Roy J. Cook   \n",
       "4                 15 Houseplants Even You Can't Kill                Joe Elder   \n",
       "\n",
       "                        Publisher Average_Rating        \n",
       "                                             min   max  \n",
       "0                        O'Reilly            0.0   6.0  \n",
       "1             National Geographic            0.0   3.4  \n",
       "2       Barnes &amp; Nobles Books       6.666667  7.25  \n",
       "3  McGraw-Hill/Contemporary Books            0.0   5.0  \n",
       "4               Berkley Pub Group            0.0   0.0  "
      ]
     },
     "execution_count": 34,
     "metadata": {},
     "output_type": "execute_result"
    }
   ],
   "source": [
    "merging_book_ratings.groupby(['Book-Title', 'Book-Author', 'Publisher'], as_index=False).agg({'Average_Rating' : ['min', 'max']}).head()"
   ]
  },
  {
   "cell_type": "markdown",
   "metadata": {},
   "source": [
    "### 7. For each book in `goodbooks`, compute the list of its authors. Assuming that the number of reviews with a text (column `work_text_reviews_count`) is split equally among all authors, find for each authors the total number of reviews with a text. We will call this quantity the *shared number of reviews with a text*."
   ]
  },
  {
   "cell_type": "code",
   "execution_count": 35,
   "metadata": {
    "ExecuteTime": {
     "end_time": "2021-11-29T11:17:32.672915Z",
     "start_time": "2021-11-29T11:17:32.626771Z"
    }
   },
   "outputs": [
    {
     "data": {
      "text/html": [
       "<div>\n",
       "<style scoped>\n",
       "    .dataframe tbody tr th:only-of-type {\n",
       "        vertical-align: middle;\n",
       "    }\n",
       "\n",
       "    .dataframe tbody tr th {\n",
       "        vertical-align: top;\n",
       "    }\n",
       "\n",
       "    .dataframe thead th {\n",
       "        text-align: right;\n",
       "    }\n",
       "</style>\n",
       "<table border=\"1\" class=\"dataframe\">\n",
       "  <thead>\n",
       "    <tr style=\"text-align: right;\">\n",
       "      <th></th>\n",
       "      <th>authors_splitted</th>\n",
       "      <th>shared_number_of_reviews_with_a_text</th>\n",
       "    </tr>\n",
       "  </thead>\n",
       "  <tbody>\n",
       "    <tr>\n",
       "      <th>0</th>\n",
       "      <td>Alan R. Clarke</td>\n",
       "      <td>27890.500000</td>\n",
       "    </tr>\n",
       "    <tr>\n",
       "      <th>1</th>\n",
       "      <td>B.M. Mooyaart-Doubleday</td>\n",
       "      <td>6941.666667</td>\n",
       "    </tr>\n",
       "    <tr>\n",
       "      <th>2</th>\n",
       "      <td>Bernard Knox</td>\n",
       "      <td>1620.200000</td>\n",
       "    </tr>\n",
       "    <tr>\n",
       "      <th>3</th>\n",
       "      <td>CelÃ¢l Ãster</td>\n",
       "      <td>15172.666667</td>\n",
       "    </tr>\n",
       "    <tr>\n",
       "      <th>4</th>\n",
       "      <td>David J. Skal</td>\n",
       "      <td>5754.333333</td>\n",
       "    </tr>\n",
       "  </tbody>\n",
       "</table>\n",
       "</div>"
      ],
      "text/plain": [
       "           authors_splitted  shared_number_of_reviews_with_a_text\n",
       "0            Alan R. Clarke                          27890.500000\n",
       "1   B.M. Mooyaart-Doubleday                           6941.666667\n",
       "2              Bernard Knox                           1620.200000\n",
       "3             CelÃ¢l Ãster                          15172.666667\n",
       "4             David J. Skal                           5754.333333"
      ]
     },
     "execution_count": 35,
     "metadata": {},
     "output_type": "execute_result"
    }
   ],
   "source": [
    "goodbooks['authors_splitted'] = goodbooks['authors'].str.split(',')\n",
    "goodbooks['shared_number_of_reviews_with_a_text'] = goodbooks['work_text_reviews_count'] / goodbooks['authors_splitted'].apply(len)\n",
    "\n",
    "goodbooks_exploded = goodbooks.explode('authors_splitted')\n",
    "goodbooks_exploded.groupby(['authors_splitted'], as_index=False).sum('shared_number_of_reviews_with_a_text').head() [['authors_splitted', 'shared_number_of_reviews_with_a_text']]"
   ]
  },
  {
   "cell_type": "markdown",
   "metadata": {},
   "source": [
    "### 8. For each year of publication, determine the author that has the largest value of the shared number of reviews with a text."
   ]
  },
  {
   "cell_type": "code",
   "execution_count": 36,
   "metadata": {
    "ExecuteTime": {
     "end_time": "2021-11-29T13:54:53.574378Z",
     "start_time": "2021-11-29T13:54:53.553401Z"
    }
   },
   "outputs": [
    {
     "data": {
      "text/html": [
       "<div>\n",
       "<style scoped>\n",
       "    .dataframe tbody tr th:only-of-type {\n",
       "        vertical-align: middle;\n",
       "    }\n",
       "\n",
       "    .dataframe tbody tr th {\n",
       "        vertical-align: top;\n",
       "    }\n",
       "\n",
       "    .dataframe thead th {\n",
       "        text-align: right;\n",
       "    }\n",
       "</style>\n",
       "<table border=\"1\" class=\"dataframe\">\n",
       "  <thead>\n",
       "    <tr style=\"text-align: right;\">\n",
       "      <th></th>\n",
       "      <th>original_publication_year</th>\n",
       "      <th>shared_number_of_reviews_with_a_text</th>\n",
       "      <th>authors_splitted</th>\n",
       "    </tr>\n",
       "  </thead>\n",
       "  <tbody>\n",
       "    <tr>\n",
       "      <th>0</th>\n",
       "      <td>-720</td>\n",
       "      <td>1620.2</td>\n",
       "      <td>Bernard Knox</td>\n",
       "    </tr>\n",
       "    <tr>\n",
       "      <th>1</th>\n",
       "      <td>-720</td>\n",
       "      <td>1620.2</td>\n",
       "      <td>E.V. Rieu</td>\n",
       "    </tr>\n",
       "    <tr>\n",
       "      <th>2</th>\n",
       "      <td>-720</td>\n",
       "      <td>1620.2</td>\n",
       "      <td>FrÃ©dÃ©ric Mugler</td>\n",
       "    </tr>\n",
       "    <tr>\n",
       "      <th>3</th>\n",
       "      <td>-720</td>\n",
       "      <td>1620.2</td>\n",
       "      <td>Robert Fagles</td>\n",
       "    </tr>\n",
       "    <tr>\n",
       "      <th>4</th>\n",
       "      <td>-720</td>\n",
       "      <td>1620.2</td>\n",
       "      <td>Homer</td>\n",
       "    </tr>\n",
       "  </tbody>\n",
       "</table>\n",
       "</div>"
      ],
      "text/plain": [
       "   original_publication_year  shared_number_of_reviews_with_a_text  \\\n",
       "0                       -720                                1620.2   \n",
       "1                       -720                                1620.2   \n",
       "2                       -720                                1620.2   \n",
       "3                       -720                                1620.2   \n",
       "4                       -720                                1620.2   \n",
       "\n",
       "     authors_splitted  \n",
       "0        Bernard Knox  \n",
       "1           E.V. Rieu  \n",
       "2   FrÃ©dÃ©ric Mugler  \n",
       "3       Robert Fagles  \n",
       "4               Homer  "
      ]
     },
     "execution_count": 36,
     "metadata": {},
     "output_type": "execute_result"
    }
   ],
   "source": [
    "temp = goodbooks_exploded.groupby(['original_publication_year', 'authors_splitted'], as_index=False).sum()\n",
    "idx = temp.groupby(['original_publication_year'])['shared_number_of_reviews_with_a_text'].transform(max) == temp['shared_number_of_reviews_with_a_text']\n",
    "temp[idx][['original_publication_year', 'shared_number_of_reviews_with_a_text', 'authors_splitted']].head()\n",
    "\n",
    "#da sistemare in modo che non ripeta anno e numero"
   ]
  },
  {
   "cell_type": "markdown",
   "metadata": {},
   "source": [
    "### 9. Assuming that there are no errors in the ISBN fields, find the books in both datasets, and compute the difference of average rating according to the ratings and the goodratings datasets"
   ]
  },
  {
   "cell_type": "code",
   "execution_count": 37,
   "metadata": {
    "ExecuteTime": {
     "end_time": "2021-11-29T15:24:10.375346Z",
     "start_time": "2021-11-29T15:24:09.889058Z"
    },
    "scrolled": true
   },
   "outputs": [
    {
     "data": {
      "text/html": [
       "<div>\n",
       "<style scoped>\n",
       "    .dataframe tbody tr th:only-of-type {\n",
       "        vertical-align: middle;\n",
       "    }\n",
       "\n",
       "    .dataframe tbody tr th {\n",
       "        vertical-align: top;\n",
       "    }\n",
       "\n",
       "    .dataframe thead th {\n",
       "        text-align: right;\n",
       "    }\n",
       "</style>\n",
       "<table border=\"1\" class=\"dataframe\">\n",
       "  <thead>\n",
       "    <tr style=\"text-align: right;\">\n",
       "      <th></th>\n",
       "      <th>ISBN</th>\n",
       "      <th>Book_Average_Rating</th>\n",
       "      <th>Goodbook_Average_Rating</th>\n",
       "      <th>Difference</th>\n",
       "    </tr>\n",
       "  </thead>\n",
       "  <tbody>\n",
       "    <tr>\n",
       "      <th>0</th>\n",
       "      <td>014028009X</td>\n",
       "      <td>3.751852</td>\n",
       "      <td>3.75</td>\n",
       "      <td>-1.874074</td>\n",
       "    </tr>\n",
       "    <tr>\n",
       "      <th>1</th>\n",
       "      <td>014038572X</td>\n",
       "      <td>4.460674</td>\n",
       "      <td>4.06</td>\n",
       "      <td>-1.829663</td>\n",
       "    </tr>\n",
       "    <tr>\n",
       "      <th>2</th>\n",
       "      <td>043965548X</td>\n",
       "      <td>3.533333</td>\n",
       "      <td>4.53</td>\n",
       "      <td>-2.763333</td>\n",
       "    </tr>\n",
       "    <tr>\n",
       "      <th>3</th>\n",
       "      <td>1400032717</td>\n",
       "      <td>4.813187</td>\n",
       "      <td>3.85</td>\n",
       "      <td>-1.443407</td>\n",
       "    </tr>\n",
       "    <tr>\n",
       "      <th>4</th>\n",
       "      <td>1594480001</td>\n",
       "      <td>2.4</td>\n",
       "      <td>4.26</td>\n",
       "      <td>-3.06</td>\n",
       "    </tr>\n",
       "  </tbody>\n",
       "</table>\n",
       "</div>"
      ],
      "text/plain": [
       "         ISBN  Book_Average_Rating  Goodbook_Average_Rating  Difference\n",
       "0  014028009X             3.751852                     3.75   -1.874074\n",
       "1  014038572X             4.460674                     4.06   -1.829663\n",
       "2  043965548X             3.533333                     4.53   -2.763333\n",
       "3  1400032717             4.813187                     3.85   -1.443407\n",
       "4  1594480001                  2.4                     4.26       -3.06"
      ]
     },
     "execution_count": 37,
     "metadata": {},
     "output_type": "execute_result"
    }
   ],
   "source": [
    "books_goodbooks = pd.merge(books, goodbooks, left_on = 'ISBN', right_on = 'isbn')\n",
    "books_goodbooks = pd.merge(books_goodbooks, book_ratings, on = 'ISBN', how = 'left').groupby('ISBN', as_index=False).mean()\n",
    "books_goodbooks['Difference'] = books_goodbooks['Book-Rating']/2 - books_goodbooks['average_rating']\n",
    "books_goodbooks.rename(columns={'Book-Rating': 'Book_Average_Rating', 'average_rating': 'Goodbook_Average_Rating'}, inplace=True)\n",
    "books_goodbooks[['ISBN','Book_Average_Rating', 'Goodbook_Average_Rating', 'Difference']]\n",
    "\n",
    "#usando average-rating\n",
    "#da rinominare colonne e da mettere tutto nella stessa scala (5 dei goodbooks e 10 dei books)"
   ]
  },
  {
   "cell_type": "code",
   "execution_count": 123,
   "metadata": {
    "ExecuteTime": {
     "end_time": "2021-11-29T14:57:43.497363Z",
     "start_time": "2021-11-29T14:57:42.999940Z"
    }
   },
   "outputs": [
    {
     "data": {
      "text/html": [
       "<div>\n",
       "<style scoped>\n",
       "    .dataframe tbody tr th:only-of-type {\n",
       "        vertical-align: middle;\n",
       "    }\n",
       "\n",
       "    .dataframe tbody tr th {\n",
       "        vertical-align: top;\n",
       "    }\n",
       "\n",
       "    .dataframe thead th {\n",
       "        text-align: right;\n",
       "    }\n",
       "</style>\n",
       "<table border=\"1\" class=\"dataframe\">\n",
       "  <thead>\n",
       "    <tr style=\"text-align: right;\">\n",
       "      <th></th>\n",
       "      <th>ISBN</th>\n",
       "      <th>Book_Average_Rating</th>\n",
       "      <th>Goodbook_Average_Rating</th>\n",
       "      <th>Difference</th>\n",
       "    </tr>\n",
       "  </thead>\n",
       "  <tbody>\n",
       "    <tr>\n",
       "      <th>0</th>\n",
       "      <td>014028009X</td>\n",
       "      <td>3.751852</td>\n",
       "      <td>NaN</td>\n",
       "      <td>NaN</td>\n",
       "    </tr>\n",
       "    <tr>\n",
       "      <th>1</th>\n",
       "      <td>014038572X</td>\n",
       "      <td>4.460674</td>\n",
       "      <td>NaN</td>\n",
       "      <td>NaN</td>\n",
       "    </tr>\n",
       "    <tr>\n",
       "      <th>2</th>\n",
       "      <td>043965548X</td>\n",
       "      <td>3.533333</td>\n",
       "      <td>5.0</td>\n",
       "      <td>-3.233333</td>\n",
       "    </tr>\n",
       "    <tr>\n",
       "      <th>3</th>\n",
       "      <td>1400032717</td>\n",
       "      <td>4.813187</td>\n",
       "      <td>NaN</td>\n",
       "      <td>NaN</td>\n",
       "    </tr>\n",
       "    <tr>\n",
       "      <th>4</th>\n",
       "      <td>1594480001</td>\n",
       "      <td>2.4</td>\n",
       "      <td>NaN</td>\n",
       "      <td>NaN</td>\n",
       "    </tr>\n",
       "  </tbody>\n",
       "</table>\n",
       "</div>"
      ],
      "text/plain": [
       "         ISBN  Book_Average_Rating  Goodbook_Average_Rating  Difference\n",
       "0  014028009X             3.751852                      NaN         NaN\n",
       "1  014038572X             4.460674                      NaN         NaN\n",
       "2  043965548X             3.533333                      5.0   -3.233333\n",
       "3  1400032717             4.813187                      NaN         NaN\n",
       "4  1594480001                  2.4                      NaN         NaN"
      ]
     },
     "execution_count": 123,
     "metadata": {},
     "output_type": "execute_result"
    }
   ],
   "source": [
    "books_goodbooks = pd.merge(books, goodbooks, left_on = 'ISBN', right_on = 'isbn')\n",
    "books_goodbooks = pd.merge(books_goodbooks, book_ratings, on = 'ISBN', how = 'left')\n",
    "books_goodbooks = pd.merge(books_goodbooks, goodbooks_ratings, on = 'book_id', how = 'left').groupby('ISBN', as_index=False).agg(Book_Average_Rating=('Book-Rating', 'mean'), Goodbook_Average_Rating=('rating', 'mean'))\n",
    "books_goodbooks['Difference'] = books_goodbooks['Book_Average_Rating']/2 - books_goodbooks['Goodbook_Average_Rating']\n",
    "books_goodbooks\n",
    "\n",
    "# usando goodbooks rating\n",
    "#differenza dei scala voti "
   ]
  },
  {
   "cell_type": "markdown",
   "metadata": {},
   "source": [
    "### 10. Split the users dataset according to the age. One dataset contains the users with unknown age, one with age 0-14, one with age 15-24, one with age 25-34, and so on."
   ]
  },
  {
   "cell_type": "code",
   "execution_count": 41,
   "metadata": {
    "ExecuteTime": {
     "end_time": "2021-11-29T11:17:33.305924Z",
     "start_time": "2021-11-29T11:17:33.181889Z"
    }
   },
   "outputs": [
    {
     "data": {
      "text/html": [
       "<div>\n",
       "<style scoped>\n",
       "    .dataframe tbody tr th:only-of-type {\n",
       "        vertical-align: middle;\n",
       "    }\n",
       "\n",
       "    .dataframe tbody tr th {\n",
       "        vertical-align: top;\n",
       "    }\n",
       "\n",
       "    .dataframe thead th {\n",
       "        text-align: right;\n",
       "    }\n",
       "</style>\n",
       "<table border=\"1\" class=\"dataframe\">\n",
       "  <thead>\n",
       "    <tr style=\"text-align: right;\">\n",
       "      <th></th>\n",
       "      <th>User-ID</th>\n",
       "      <th>Location</th>\n",
       "      <th>Age</th>\n",
       "      <th>City</th>\n",
       "      <th>Region</th>\n",
       "      <th>Country</th>\n",
       "    </tr>\n",
       "    <tr>\n",
       "      <th>Age</th>\n",
       "      <th></th>\n",
       "      <th></th>\n",
       "      <th></th>\n",
       "      <th></th>\n",
       "      <th></th>\n",
       "      <th></th>\n",
       "    </tr>\n",
       "  </thead>\n",
       "  <tbody>\n",
       "    <tr>\n",
       "      <th>(14, 24]</th>\n",
       "      <td>40001</td>\n",
       "      <td>40001</td>\n",
       "      <td>40001</td>\n",
       "      <td>40001</td>\n",
       "      <td>40001</td>\n",
       "      <td>40001</td>\n",
       "    </tr>\n",
       "    <tr>\n",
       "      <th>(24, 34]</th>\n",
       "      <td>50767</td>\n",
       "      <td>50767</td>\n",
       "      <td>50767</td>\n",
       "      <td>50767</td>\n",
       "      <td>50766</td>\n",
       "      <td>50766</td>\n",
       "    </tr>\n",
       "    <tr>\n",
       "      <th>(34, 44]</th>\n",
       "      <td>32690</td>\n",
       "      <td>32690</td>\n",
       "      <td>32690</td>\n",
       "      <td>32690</td>\n",
       "      <td>32690</td>\n",
       "      <td>32690</td>\n",
       "    </tr>\n",
       "    <tr>\n",
       "      <th>(44, 54]</th>\n",
       "      <td>23152</td>\n",
       "      <td>23152</td>\n",
       "      <td>23152</td>\n",
       "      <td>23152</td>\n",
       "      <td>23152</td>\n",
       "      <td>23152</td>\n",
       "    </tr>\n",
       "    <tr>\n",
       "      <th>(54, 64]</th>\n",
       "      <td>12493</td>\n",
       "      <td>12493</td>\n",
       "      <td>12493</td>\n",
       "      <td>12493</td>\n",
       "      <td>12493</td>\n",
       "      <td>12493</td>\n",
       "    </tr>\n",
       "    <tr>\n",
       "      <th>(64, 74]</th>\n",
       "      <td>3596</td>\n",
       "      <td>3596</td>\n",
       "      <td>3596</td>\n",
       "      <td>3596</td>\n",
       "      <td>3596</td>\n",
       "      <td>3595</td>\n",
       "    </tr>\n",
       "    <tr>\n",
       "      <th>(74, 84]</th>\n",
       "      <td>615</td>\n",
       "      <td>615</td>\n",
       "      <td>615</td>\n",
       "      <td>615</td>\n",
       "      <td>615</td>\n",
       "      <td>615</td>\n",
       "    </tr>\n",
       "    <tr>\n",
       "      <th>(84, 94]</th>\n",
       "      <td>83</td>\n",
       "      <td>83</td>\n",
       "      <td>83</td>\n",
       "      <td>83</td>\n",
       "      <td>83</td>\n",
       "      <td>83</td>\n",
       "    </tr>\n",
       "    <tr>\n",
       "      <th>(94, 104]</th>\n",
       "      <td>278</td>\n",
       "      <td>278</td>\n",
       "      <td>278</td>\n",
       "      <td>278</td>\n",
       "      <td>278</td>\n",
       "      <td>278</td>\n",
       "    </tr>\n",
       "    <tr>\n",
       "      <th>(104, 114]</th>\n",
       "      <td>20</td>\n",
       "      <td>20</td>\n",
       "      <td>20</td>\n",
       "      <td>20</td>\n",
       "      <td>20</td>\n",
       "      <td>20</td>\n",
       "    </tr>\n",
       "    <tr>\n",
       "      <th>(114, 124]</th>\n",
       "      <td>23</td>\n",
       "      <td>23</td>\n",
       "      <td>23</td>\n",
       "      <td>23</td>\n",
       "      <td>23</td>\n",
       "      <td>23</td>\n",
       "    </tr>\n",
       "    <tr>\n",
       "      <th>(124, 134]</th>\n",
       "      <td>5</td>\n",
       "      <td>5</td>\n",
       "      <td>5</td>\n",
       "      <td>5</td>\n",
       "      <td>5</td>\n",
       "      <td>5</td>\n",
       "    </tr>\n",
       "    <tr>\n",
       "      <th>(134, 144]</th>\n",
       "      <td>9</td>\n",
       "      <td>9</td>\n",
       "      <td>9</td>\n",
       "      <td>9</td>\n",
       "      <td>9</td>\n",
       "      <td>9</td>\n",
       "    </tr>\n",
       "  </tbody>\n",
       "</table>\n",
       "</div>"
      ],
      "text/plain": [
       "            User-ID  Location    Age   City  Region  Country\n",
       "Age                                                         \n",
       "(14, 24]      40001     40001  40001  40001   40001    40001\n",
       "(24, 34]      50767     50767  50767  50767   50766    50766\n",
       "(34, 44]      32690     32690  32690  32690   32690    32690\n",
       "(44, 54]      23152     23152  23152  23152   23152    23152\n",
       "(54, 64]      12493     12493  12493  12493   12493    12493\n",
       "(64, 74]       3596      3596   3596   3596    3596     3595\n",
       "(74, 84]        615       615    615    615     615      615\n",
       "(84, 94]         83        83     83     83      83       83\n",
       "(94, 104]       278       278    278    278     278      278\n",
       "(104, 114]       20        20     20     20      20       20\n",
       "(114, 124]       23        23     23     23      23       23\n",
       "(124, 134]        5         5      5      5       5        5\n",
       "(134, 144]        9         9      9      9       9        9"
      ]
     },
     "execution_count": 41,
     "metadata": {},
     "output_type": "execute_result"
    }
   ],
   "source": [
    "users.groupby(pd.cut(users['Age'], np.arange(14, 150, 10))).count()\n",
    "\n",
    "#da fare\n",
    "#come trattare le etá sbagliate (> 100 anni)?\n",
    "#come ultimo bin affidabile terrei 84-94"
   ]
  },
  {
   "cell_type": "code",
   "execution_count": 20,
   "metadata": {
    "ExecuteTime": {
     "end_time": "2021-11-29T11:17:33.321882Z",
     "start_time": "2021-11-29T11:17:33.306885Z"
    }
   },
   "outputs": [],
   "source": [
    "#users_UnknownAge_and_Outliers = \n",
    "\n"
   ]
  },
  {
   "cell_type": "markdown",
   "metadata": {},
   "source": [
    "### 11. Find the books that appear only in the goodbooks datasets."
   ]
  },
  {
   "cell_type": "code",
   "execution_count": 140,
   "metadata": {
    "ExecuteTime": {
     "end_time": "2021-11-29T15:24:44.921631Z",
     "start_time": "2021-11-29T15:24:44.772244Z"
    }
   },
   "outputs": [
    {
     "ename": "AssertionError",
     "evalue": "object",
     "output_type": "error",
     "traceback": [
      "\u001b[1;31m---------------------------------------------------------------------------\u001b[0m",
      "\u001b[1;31mAssertionError\u001b[0m                            Traceback (most recent call last)",
      "\u001b[1;32m<ipython-input-140-61b4e778ab76>\u001b[0m in \u001b[0;36m<module>\u001b[1;34m\u001b[0m\n\u001b[0;32m      1\u001b[0m \u001b[0mprova\u001b[0m \u001b[1;33m=\u001b[0m \u001b[0mpd\u001b[0m\u001b[1;33m.\u001b[0m\u001b[0mmerge\u001b[0m\u001b[1;33m(\u001b[0m\u001b[0mbooks\u001b[0m\u001b[1;33m,\u001b[0m \u001b[0mgoodbooks\u001b[0m\u001b[1;33m,\u001b[0m \u001b[0mleft_on\u001b[0m \u001b[1;33m=\u001b[0m \u001b[1;34m'ISBN'\u001b[0m\u001b[1;33m,\u001b[0m \u001b[0mright_on\u001b[0m \u001b[1;33m=\u001b[0m \u001b[1;34m'isbn'\u001b[0m\u001b[1;33m)\u001b[0m\u001b[1;33m\u001b[0m\u001b[1;33m\u001b[0m\u001b[0m\n\u001b[1;32m----> 2\u001b[1;33m \u001b[0mgoodbooks\u001b[0m\u001b[1;33m[\u001b[0m\u001b[1;33m~\u001b[0m\u001b[0mgoodbooks\u001b[0m\u001b[1;33m.\u001b[0m\u001b[0misin\u001b[0m\u001b[1;33m(\u001b[0m\u001b[0mprova\u001b[0m\u001b[1;33m)\u001b[0m\u001b[1;33m]\u001b[0m\u001b[1;33m.\u001b[0m\u001b[0mdropna\u001b[0m\u001b[1;33m(\u001b[0m\u001b[1;33m)\u001b[0m\u001b[1;33m\u001b[0m\u001b[1;33m\u001b[0m\u001b[0m\n\u001b[0m",
      "\u001b[1;32mC:\\ProgramData\\Anaconda3\\lib\\site-packages\\pandas\\core\\frame.py\u001b[0m in \u001b[0;36m__getitem__\u001b[1;34m(self, key)\u001b[0m\n\u001b[0;32m   3009\u001b[0m         \u001b[1;31m# Do we have a (boolean) DataFrame?\u001b[0m\u001b[1;33m\u001b[0m\u001b[1;33m\u001b[0m\u001b[1;33m\u001b[0m\u001b[0m\n\u001b[0;32m   3010\u001b[0m         \u001b[1;32mif\u001b[0m \u001b[0misinstance\u001b[0m\u001b[1;33m(\u001b[0m\u001b[0mkey\u001b[0m\u001b[1;33m,\u001b[0m \u001b[0mDataFrame\u001b[0m\u001b[1;33m)\u001b[0m\u001b[1;33m:\u001b[0m\u001b[1;33m\u001b[0m\u001b[1;33m\u001b[0m\u001b[0m\n\u001b[1;32m-> 3011\u001b[1;33m             \u001b[1;32mreturn\u001b[0m \u001b[0mself\u001b[0m\u001b[1;33m.\u001b[0m\u001b[0mwhere\u001b[0m\u001b[1;33m(\u001b[0m\u001b[0mkey\u001b[0m\u001b[1;33m)\u001b[0m\u001b[1;33m\u001b[0m\u001b[1;33m\u001b[0m\u001b[0m\n\u001b[0m\u001b[0;32m   3012\u001b[0m \u001b[1;33m\u001b[0m\u001b[0m\n\u001b[0;32m   3013\u001b[0m         \u001b[1;31m# Do we have a (boolean) 1d indexer?\u001b[0m\u001b[1;33m\u001b[0m\u001b[1;33m\u001b[0m\u001b[1;33m\u001b[0m\u001b[0m\n",
      "\u001b[1;32mC:\\ProgramData\\Anaconda3\\lib\\site-packages\\pandas\\core\\generic.py\u001b[0m in \u001b[0;36mwhere\u001b[1;34m(self, cond, other, inplace, axis, level, errors, try_cast)\u001b[0m\n\u001b[0;32m   9284\u001b[0m         \"\"\"\n\u001b[0;32m   9285\u001b[0m         \u001b[0mother\u001b[0m \u001b[1;33m=\u001b[0m \u001b[0mcom\u001b[0m\u001b[1;33m.\u001b[0m\u001b[0mapply_if_callable\u001b[0m\u001b[1;33m(\u001b[0m\u001b[0mother\u001b[0m\u001b[1;33m,\u001b[0m \u001b[0mself\u001b[0m\u001b[1;33m)\u001b[0m\u001b[1;33m\u001b[0m\u001b[1;33m\u001b[0m\u001b[0m\n\u001b[1;32m-> 9286\u001b[1;33m         return self._where(\n\u001b[0m\u001b[0;32m   9287\u001b[0m             \u001b[0mcond\u001b[0m\u001b[1;33m,\u001b[0m \u001b[0mother\u001b[0m\u001b[1;33m,\u001b[0m \u001b[0minplace\u001b[0m\u001b[1;33m,\u001b[0m \u001b[0maxis\u001b[0m\u001b[1;33m,\u001b[0m \u001b[0mlevel\u001b[0m\u001b[1;33m,\u001b[0m \u001b[0merrors\u001b[0m\u001b[1;33m=\u001b[0m\u001b[0merrors\u001b[0m\u001b[1;33m,\u001b[0m \u001b[0mtry_cast\u001b[0m\u001b[1;33m=\u001b[0m\u001b[0mtry_cast\u001b[0m\u001b[1;33m\u001b[0m\u001b[1;33m\u001b[0m\u001b[0m\n\u001b[0;32m   9288\u001b[0m         )\n",
      "\u001b[1;32mC:\\ProgramData\\Anaconda3\\lib\\site-packages\\pandas\\core\\generic.py\u001b[0m in \u001b[0;36m_where\u001b[1;34m(self, cond, other, inplace, axis, level, errors, try_cast)\u001b[0m\n\u001b[0;32m   9134\u001b[0m \u001b[1;33m\u001b[0m\u001b[0m\n\u001b[0;32m   9135\u001b[0m         \u001b[1;32melse\u001b[0m\u001b[1;33m:\u001b[0m\u001b[1;33m\u001b[0m\u001b[1;33m\u001b[0m\u001b[0m\n\u001b[1;32m-> 9136\u001b[1;33m             new_data = self._mgr.where(\n\u001b[0m\u001b[0;32m   9137\u001b[0m                 \u001b[0mother\u001b[0m\u001b[1;33m=\u001b[0m\u001b[0mother\u001b[0m\u001b[1;33m,\u001b[0m\u001b[1;33m\u001b[0m\u001b[1;33m\u001b[0m\u001b[0m\n\u001b[0;32m   9138\u001b[0m                 \u001b[0mcond\u001b[0m\u001b[1;33m=\u001b[0m\u001b[0mcond\u001b[0m\u001b[1;33m,\u001b[0m\u001b[1;33m\u001b[0m\u001b[1;33m\u001b[0m\u001b[0m\n",
      "\u001b[1;32mC:\\ProgramData\\Anaconda3\\lib\\site-packages\\pandas\\core\\internals\\managers.py\u001b[0m in \u001b[0;36mwhere\u001b[1;34m(self, other, cond, align, errors, try_cast, axis)\u001b[0m\n\u001b[0;32m    555\u001b[0m             \u001b[0mother\u001b[0m \u001b[1;33m=\u001b[0m \u001b[0mextract_array\u001b[0m\u001b[1;33m(\u001b[0m\u001b[0mother\u001b[0m\u001b[1;33m,\u001b[0m \u001b[0mextract_numpy\u001b[0m\u001b[1;33m=\u001b[0m\u001b[1;32mTrue\u001b[0m\u001b[1;33m)\u001b[0m\u001b[1;33m\u001b[0m\u001b[1;33m\u001b[0m\u001b[0m\n\u001b[0;32m    556\u001b[0m \u001b[1;33m\u001b[0m\u001b[0m\n\u001b[1;32m--> 557\u001b[1;33m         return self.apply(\n\u001b[0m\u001b[0;32m    558\u001b[0m             \u001b[1;34m\"where\"\u001b[0m\u001b[1;33m,\u001b[0m\u001b[1;33m\u001b[0m\u001b[1;33m\u001b[0m\u001b[0m\n\u001b[0;32m    559\u001b[0m             \u001b[0malign_keys\u001b[0m\u001b[1;33m=\u001b[0m\u001b[0malign_keys\u001b[0m\u001b[1;33m,\u001b[0m\u001b[1;33m\u001b[0m\u001b[1;33m\u001b[0m\u001b[0m\n",
      "\u001b[1;32mC:\\ProgramData\\Anaconda3\\lib\\site-packages\\pandas\\core\\internals\\managers.py\u001b[0m in \u001b[0;36mapply\u001b[1;34m(self, f, align_keys, ignore_failures, **kwargs)\u001b[0m\n\u001b[0;32m    425\u001b[0m                     \u001b[0mapplied\u001b[0m \u001b[1;33m=\u001b[0m \u001b[0mb\u001b[0m\u001b[1;33m.\u001b[0m\u001b[0mapply\u001b[0m\u001b[1;33m(\u001b[0m\u001b[0mf\u001b[0m\u001b[1;33m,\u001b[0m \u001b[1;33m**\u001b[0m\u001b[0mkwargs\u001b[0m\u001b[1;33m)\u001b[0m\u001b[1;33m\u001b[0m\u001b[1;33m\u001b[0m\u001b[0m\n\u001b[0;32m    426\u001b[0m                 \u001b[1;32melse\u001b[0m\u001b[1;33m:\u001b[0m\u001b[1;33m\u001b[0m\u001b[1;33m\u001b[0m\u001b[0m\n\u001b[1;32m--> 427\u001b[1;33m                     \u001b[0mapplied\u001b[0m \u001b[1;33m=\u001b[0m \u001b[0mgetattr\u001b[0m\u001b[1;33m(\u001b[0m\u001b[0mb\u001b[0m\u001b[1;33m,\u001b[0m \u001b[0mf\u001b[0m\u001b[1;33m)\u001b[0m\u001b[1;33m(\u001b[0m\u001b[1;33m**\u001b[0m\u001b[0mkwargs\u001b[0m\u001b[1;33m)\u001b[0m\u001b[1;33m\u001b[0m\u001b[1;33m\u001b[0m\u001b[0m\n\u001b[0m\u001b[0;32m    428\u001b[0m             \u001b[1;32mexcept\u001b[0m \u001b[1;33m(\u001b[0m\u001b[0mTypeError\u001b[0m\u001b[1;33m,\u001b[0m \u001b[0mNotImplementedError\u001b[0m\u001b[1;33m)\u001b[0m\u001b[1;33m:\u001b[0m\u001b[1;33m\u001b[0m\u001b[1;33m\u001b[0m\u001b[0m\n\u001b[0;32m    429\u001b[0m                 \u001b[1;32mif\u001b[0m \u001b[1;32mnot\u001b[0m \u001b[0mignore_failures\u001b[0m\u001b[1;33m:\u001b[0m\u001b[1;33m\u001b[0m\u001b[1;33m\u001b[0m\u001b[0m\n",
      "\u001b[1;32mC:\\ProgramData\\Anaconda3\\lib\\site-packages\\pandas\\core\\internals\\blocks.py\u001b[0m in \u001b[0;36mwhere\u001b[1;34m(self, other, cond, errors, try_cast, axis)\u001b[0m\n\u001b[0;32m   1977\u001b[0m     ) -> List[\"Block\"]:\n\u001b[0;32m   1978\u001b[0m \u001b[1;33m\u001b[0m\u001b[0m\n\u001b[1;32m-> 1979\u001b[1;33m         \u001b[0mcond\u001b[0m \u001b[1;33m=\u001b[0m \u001b[0m_extract_bool_array\u001b[0m\u001b[1;33m(\u001b[0m\u001b[0mcond\u001b[0m\u001b[1;33m)\u001b[0m\u001b[1;33m\u001b[0m\u001b[1;33m\u001b[0m\u001b[0m\n\u001b[0m\u001b[0;32m   1980\u001b[0m         \u001b[1;32massert\u001b[0m \u001b[1;32mnot\u001b[0m \u001b[0misinstance\u001b[0m\u001b[1;33m(\u001b[0m\u001b[0mother\u001b[0m\u001b[1;33m,\u001b[0m \u001b[1;33m(\u001b[0m\u001b[0mABCIndexClass\u001b[0m\u001b[1;33m,\u001b[0m \u001b[0mABCSeries\u001b[0m\u001b[1;33m,\u001b[0m \u001b[0mABCDataFrame\u001b[0m\u001b[1;33m)\u001b[0m\u001b[1;33m)\u001b[0m\u001b[1;33m\u001b[0m\u001b[1;33m\u001b[0m\u001b[0m\n\u001b[0;32m   1981\u001b[0m \u001b[1;33m\u001b[0m\u001b[0m\n",
      "\u001b[1;32mC:\\ProgramData\\Anaconda3\\lib\\site-packages\\pandas\\core\\internals\\blocks.py\u001b[0m in \u001b[0;36m_extract_bool_array\u001b[1;34m(mask)\u001b[0m\n\u001b[0;32m   2890\u001b[0m \u001b[1;33m\u001b[0m\u001b[0m\n\u001b[0;32m   2891\u001b[0m     \u001b[1;32massert\u001b[0m \u001b[0misinstance\u001b[0m\u001b[1;33m(\u001b[0m\u001b[0mmask\u001b[0m\u001b[1;33m,\u001b[0m \u001b[0mnp\u001b[0m\u001b[1;33m.\u001b[0m\u001b[0mndarray\u001b[0m\u001b[1;33m)\u001b[0m\u001b[1;33m,\u001b[0m \u001b[0mtype\u001b[0m\u001b[1;33m(\u001b[0m\u001b[0mmask\u001b[0m\u001b[1;33m)\u001b[0m\u001b[1;33m\u001b[0m\u001b[1;33m\u001b[0m\u001b[0m\n\u001b[1;32m-> 2892\u001b[1;33m     \u001b[1;32massert\u001b[0m \u001b[0mmask\u001b[0m\u001b[1;33m.\u001b[0m\u001b[0mdtype\u001b[0m \u001b[1;33m==\u001b[0m \u001b[0mbool\u001b[0m\u001b[1;33m,\u001b[0m \u001b[0mmask\u001b[0m\u001b[1;33m.\u001b[0m\u001b[0mdtype\u001b[0m\u001b[1;33m\u001b[0m\u001b[1;33m\u001b[0m\u001b[0m\n\u001b[0m\u001b[0;32m   2893\u001b[0m     \u001b[1;32mreturn\u001b[0m \u001b[0mmask\u001b[0m\u001b[1;33m\u001b[0m\u001b[1;33m\u001b[0m\u001b[0m\n",
      "\u001b[1;31mAssertionError\u001b[0m: object"
     ]
    }
   ],
   "source": [
    "prova = pd.merge(books, goodbooks, left_on = 'ISBN', right_on = 'isbn')\n",
    "goodbooks[~goodbooks.isin(prova)].dropna()"
   ]
  },
  {
   "cell_type": "markdown",
   "metadata": {},
   "source": [
    "### 12. Assuming that each pair (author, title) identifies a book, for each book find the number of times it appears in the books dataset. Which books appear the most times?"
   ]
  },
  {
   "cell_type": "code",
   "execution_count": 133,
   "metadata": {
    "ExecuteTime": {
     "end_time": "2021-11-29T15:04:50.424806Z",
     "start_time": "2021-11-29T15:04:49.528120Z"
    }
   },
   "outputs": [
    {
     "data": {
      "text/html": [
       "<div>\n",
       "<style scoped>\n",
       "    .dataframe tbody tr th:only-of-type {\n",
       "        vertical-align: middle;\n",
       "    }\n",
       "\n",
       "    .dataframe tbody tr th {\n",
       "        vertical-align: top;\n",
       "    }\n",
       "\n",
       "    .dataframe thead th {\n",
       "        text-align: right;\n",
       "    }\n",
       "</style>\n",
       "<table border=\"1\" class=\"dataframe\">\n",
       "  <thead>\n",
       "    <tr style=\"text-align: right;\">\n",
       "      <th></th>\n",
       "      <th>Book-Title</th>\n",
       "      <th>Book-Author</th>\n",
       "      <th>ISBN</th>\n",
       "    </tr>\n",
       "  </thead>\n",
       "  <tbody>\n",
       "    <tr>\n",
       "      <th>150658</th>\n",
       "      <td>Little Women</td>\n",
       "      <td>Louisa May Alcott</td>\n",
       "      <td>21</td>\n",
       "    </tr>\n",
       "  </tbody>\n",
       "</table>\n",
       "</div>"
      ],
      "text/plain": [
       "          Book-Title        Book-Author  ISBN\n",
       "150658  Little Women  Louisa May Alcott    21"
      ]
     },
     "execution_count": 133,
     "metadata": {},
     "output_type": "execute_result"
    }
   ],
   "source": [
    "temp = books.groupby(['Book-Author', 'Book-Title'], as_index=False).count()\n",
    "temp[temp['ISBN'] == temp['ISBN'].max()] [['Book-Title', 'Book-Author', 'ISBN']]\n",
    "\n",
    "#da rinominare ISBN con count)"
   ]
  },
  {
   "cell_type": "markdown",
   "metadata": {},
   "source": [
    "### 13. Find the author with the highest average rating according to the goodbooks datasets."
   ]
  },
  {
   "cell_type": "code",
   "execution_count": 132,
   "metadata": {
    "ExecuteTime": {
     "end_time": "2021-11-29T15:03:38.358622Z",
     "start_time": "2021-11-29T15:03:38.332624Z"
    }
   },
   "outputs": [
    {
     "data": {
      "text/html": [
       "<div>\n",
       "<style scoped>\n",
       "    .dataframe tbody tr th:only-of-type {\n",
       "        vertical-align: middle;\n",
       "    }\n",
       "\n",
       "    .dataframe tbody tr th {\n",
       "        vertical-align: top;\n",
       "    }\n",
       "\n",
       "    .dataframe thead th {\n",
       "        text-align: right;\n",
       "    }\n",
       "</style>\n",
       "<table border=\"1\" class=\"dataframe\">\n",
       "  <thead>\n",
       "    <tr style=\"text-align: right;\">\n",
       "      <th></th>\n",
       "      <th>authors_splitted</th>\n",
       "      <th>average_rating</th>\n",
       "    </tr>\n",
       "  </thead>\n",
       "  <tbody>\n",
       "    <tr>\n",
       "      <th>32</th>\n",
       "      <td>Rufus Beck</td>\n",
       "      <td>4.53</td>\n",
       "    </tr>\n",
       "  </tbody>\n",
       "</table>\n",
       "</div>"
      ],
      "text/plain": [
       "   authors_splitted  average_rating\n",
       "32       Rufus Beck            4.53"
      ]
     },
     "execution_count": 132,
     "metadata": {},
     "output_type": "execute_result"
    }
   ],
   "source": [
    "prova = goodbooks_exploded.groupby('authors_splitted', as_index=False).mean('average_rating')\n",
    "prova.loc[prova['average_rating'] == prova['average_rating'].max()] [['authors_splitted', 'average_rating']]"
   ]
  }
 ],
 "metadata": {
  "kernelspec": {
   "display_name": "Python 3 (ipykernel)",
   "language": "python",
   "name": "python3"
  },
  "language_info": {
   "codemirror_mode": {
    "name": "ipython",
    "version": 3
   },
   "file_extension": ".py",
   "mimetype": "text/x-python",
   "name": "python",
   "nbconvert_exporter": "python",
   "pygments_lexer": "ipython3",
   "version": "3.9.5"
  }
 },
 "nbformat": 4,
 "nbformat_minor": 4
}
