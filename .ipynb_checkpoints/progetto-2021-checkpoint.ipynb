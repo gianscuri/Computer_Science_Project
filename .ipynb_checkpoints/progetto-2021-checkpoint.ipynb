{
 "cells": [
  {
   "cell_type": "markdown",
   "metadata": {},
   "source": [
    "You have to work on the files:\n",
    "*  [Books](https://github.com/gdv/foundationsCS/raw/master/progetti/2021/Books.csv.gz)\n",
    "*  [Book ratings](https://github.com/gdv/foundationsCS/raw/master/progetti/2021/Book-Ratings.csv.gz)\n",
    "*  [Users](https://github.com/gdv/foundationsCS/raw/master/progetti/2021/Users.csv.gz)\n",
    "*  [Goodbooks books](https://github.com/gdv/foundationsCS/raw/master/progetti/2021/goodbooks.csv.gz)\n",
    "*  [Goodbooks ratings](https://github.com/gdv/foundationsCS/raw/master/progetti/2021/goodbooks-ratings.csv.gz)\n",
    "\n",
    "## Notes\n",
    "\n",
    "1.    It is mandatory to use GitHub for developing the project.\n",
    "1.    The project must be a jupyter notebook.\n",
    "1.    There is no restriction on the libraries that can be used, nor on the Python version.\n",
    "1.    To read those files, you need to use the `encoding = 'latin-1'` option.\n",
    "1.    All questions on the project **must** be asked in a public channel on [Zulip](https://focs.zulipchat.com), otherwise no  answer will be given."
   ]
  },
  {
   "cell_type": "code",
   "execution_count": 1,
   "metadata": {
    "ExecuteTime": {
     "end_time": "2021-12-15T21:01:06.655764Z",
     "start_time": "2021-12-15T21:01:06.619722Z"
    }
   },
   "outputs": [
    {
     "data": {
      "text/html": [
       "<style>.container { width:90% !important; }</style>"
      ],
      "text/plain": [
       "<IPython.core.display.HTML object>"
      ]
     },
     "metadata": {},
     "output_type": "display_data"
    }
   ],
   "source": [
    "from IPython.core.display import display, HTML\n",
    "display(HTML(\"<style>.container { width:90% !important; }</style>\"))"
   ]
  },
  {
   "cell_type": "markdown",
   "metadata": {},
   "source": [
    "## Importazione librerie e datasets"
   ]
  },
  {
   "cell_type": "markdown",
   "metadata": {},
   "source": [
    "Per svolgere il progetto utilizziamo le librerie `Pandas` e `Numpy`"
   ]
  },
  {
   "cell_type": "code",
   "execution_count": 2,
   "metadata": {
    "ExecuteTime": {
     "end_time": "2021-12-15T21:01:07.621442Z",
     "start_time": "2021-12-15T21:01:06.662712Z"
    }
   },
   "outputs": [],
   "source": [
    "import pandas as pd\n",
    "import numpy as np"
   ]
  },
  {
   "cell_type": "markdown",
   "metadata": {},
   "source": [
    "Per importare i datafarme utilizziamo la funzione `read_csv` di pandas specificando tra i parametri:\n",
    " - la tipologia di compressione del file (`gzip`)\n",
    " - l'encoding (`latin-1`)\n",
    " - il separatore (`,` o `;`)\n",
    " - dove necessario l'escape character (`\\\\`)\n",
    " - la tipologia degli attributi\n",
    "\n",
    "La tipologia degli attributi la specifichiamo per alcuni dataset cosí da velocizzare il caricamento e risolvere errate interpretazioni."
   ]
  },
  {
   "cell_type": "code",
   "execution_count": 3,
   "metadata": {
    "ExecuteTime": {
     "end_time": "2021-12-15T21:01:09.632998Z",
     "start_time": "2021-12-15T21:01:07.623439Z"
    }
   },
   "outputs": [
    {
     "data": {
      "text/plain": [
       "(278858, 3)"
      ]
     },
     "execution_count": 3,
     "metadata": {},
     "output_type": "execute_result"
    }
   ],
   "source": [
    "users = pd.read_csv('https://github.com/gdv/foundationsCS/raw/master/progetti/2021/Users.csv.gz', compression = 'gzip', escapechar = \"\\\\\", encoding = 'latin-1', sep = ';', dtype = {'Age': 'Int64'})\n",
    "users.shape"
   ]
  },
  {
   "cell_type": "code",
   "execution_count": 4,
   "metadata": {
    "ExecuteTime": {
     "end_time": "2021-12-15T21:01:16.684608Z",
     "start_time": "2021-12-15T21:01:09.635027Z"
    }
   },
   "outputs": [
    {
     "data": {
      "text/plain": [
       "(271359, 8)"
      ]
     },
     "execution_count": 4,
     "metadata": {},
     "output_type": "execute_result"
    }
   ],
   "source": [
    "books = pd.read_csv('https://github.com/gdv/foundationsCS/raw/master/progetti/2021/Books.csv.gz', compression = 'gzip', escapechar = \"\\\\\", encoding = 'latin-1', sep = ';')\n",
    "books.shape"
   ]
  },
  {
   "cell_type": "code",
   "execution_count": 5,
   "metadata": {
    "ExecuteTime": {
     "end_time": "2021-12-15T21:01:17.280658Z",
     "start_time": "2021-12-15T21:01:16.686608Z"
    },
    "scrolled": true
   },
   "outputs": [
    {
     "data": {
      "text/plain": [
       "(99, 23)"
      ]
     },
     "execution_count": 5,
     "metadata": {},
     "output_type": "execute_result"
    }
   ],
   "source": [
    "goodbooks = pd.read_csv('https://github.com/gdv/foundationsCS/raw/master/progetti/2021/goodbooks.csv.gz', compression = 'gzip', encoding = 'latin-1', sep = ',', dtype = {'isbn13': 'object', 'original_publication_year': 'int64',})\n",
    "goodbooks.shape"
   ]
  },
  {
   "cell_type": "code",
   "execution_count": 6,
   "metadata": {
    "ExecuteTime": {
     "end_time": "2021-12-15T21:01:20.004461Z",
     "start_time": "2021-12-15T21:01:17.285630Z"
    }
   },
   "outputs": [
    {
     "data": {
      "text/plain": [
       "(1149780, 3)"
      ]
     },
     "execution_count": 6,
     "metadata": {},
     "output_type": "execute_result"
    }
   ],
   "source": [
    "book_ratings = pd.read_csv('https://github.com/gdv/foundationsCS/raw/master/progetti/2021/Book-Ratings.csv.gz', compression = 'gzip', escapechar = \"\\\\\", encoding = 'latin-1', sep = ';')\n",
    "book_ratings.shape"
   ]
  },
  {
   "cell_type": "code",
   "execution_count": 7,
   "metadata": {
    "ExecuteTime": {
     "end_time": "2021-12-15T21:01:20.664504Z",
     "start_time": "2021-12-15T21:01:20.006461Z"
    }
   },
   "outputs": [
    {
     "data": {
      "text/plain": [
       "(99, 3)"
      ]
     },
     "execution_count": 7,
     "metadata": {},
     "output_type": "execute_result"
    }
   ],
   "source": [
    "goodbooks_ratings = pd.read_csv('https://github.com/gdv/foundationsCS/raw/master/progetti/2021/goodbooks-ratings.csv.gz', compression = 'gzip', encoding = 'latin-1', sep = ',')\n",
    "goodbooks_ratings.shape"
   ]
  },
  {
   "cell_type": "markdown",
   "metadata": {},
   "source": [
    "## Verifiche datasets\n",
    "\n",
    "### Controllo tipologia di attributi dei dataset\n",
    "\n",
    "Verifichiamo che le tipologie degli attributi siano quelle attese andando eventualmente a correggere le anomalie in fase di importazione."
   ]
  },
  {
   "cell_type": "code",
   "execution_count": 8,
   "metadata": {
    "ExecuteTime": {
     "end_time": "2021-12-15T21:01:20.696483Z",
     "start_time": "2021-12-15T21:01:20.673461Z"
    }
   },
   "outputs": [
    {
     "data": {
      "text/plain": [
       "User-ID      int64\n",
       "Location    object\n",
       "Age          Int64\n",
       "dtype: object"
      ]
     },
     "execution_count": 8,
     "metadata": {},
     "output_type": "execute_result"
    }
   ],
   "source": [
    "users.dtypes"
   ]
  },
  {
   "cell_type": "code",
   "execution_count": 9,
   "metadata": {
    "ExecuteTime": {
     "end_time": "2021-12-15T21:01:20.728464Z",
     "start_time": "2021-12-15T21:01:20.706464Z"
    }
   },
   "outputs": [
    {
     "data": {
      "text/plain": [
       "ISBN                   object\n",
       "Book-Title             object\n",
       "Book-Author            object\n",
       "Year-Of-Publication     int64\n",
       "Publisher              object\n",
       "Image-URL-S            object\n",
       "Image-URL-M            object\n",
       "Image-URL-L            object\n",
       "dtype: object"
      ]
     },
     "execution_count": 9,
     "metadata": {},
     "output_type": "execute_result"
    }
   ],
   "source": [
    "books.dtypes"
   ]
  },
  {
   "cell_type": "code",
   "execution_count": 10,
   "metadata": {
    "ExecuteTime": {
     "end_time": "2021-12-15T21:01:20.760463Z",
     "start_time": "2021-12-15T21:01:20.735478Z"
    }
   },
   "outputs": [
    {
     "data": {
      "text/plain": [
       "book_id                        int64\n",
       "goodreads_book_id              int64\n",
       "best_book_id                   int64\n",
       "work_id                        int64\n",
       "books_count                    int64\n",
       "isbn                          object\n",
       "isbn13                        object\n",
       "authors                       object\n",
       "original_publication_year      int64\n",
       "original_title                object\n",
       "title                         object\n",
       "language_code                 object\n",
       "average_rating               float64\n",
       "ratings_count                  int64\n",
       "work_ratings_count             int64\n",
       "work_text_reviews_count        int64\n",
       "ratings_1                      int64\n",
       "ratings_2                      int64\n",
       "ratings_3                      int64\n",
       "ratings_4                      int64\n",
       "ratings_5                      int64\n",
       "image_url                     object\n",
       "small_image_url               object\n",
       "dtype: object"
      ]
     },
     "execution_count": 10,
     "metadata": {},
     "output_type": "execute_result"
    }
   ],
   "source": [
    "goodbooks.dtypes"
   ]
  },
  {
   "cell_type": "code",
   "execution_count": 11,
   "metadata": {
    "ExecuteTime": {
     "end_time": "2021-12-15T21:01:20.792471Z",
     "start_time": "2021-12-15T21:01:20.767461Z"
    }
   },
   "outputs": [
    {
     "data": {
      "text/plain": [
       "User-ID         int64\n",
       "ISBN           object\n",
       "Book-Rating     int64\n",
       "dtype: object"
      ]
     },
     "execution_count": 11,
     "metadata": {},
     "output_type": "execute_result"
    }
   ],
   "source": [
    "book_ratings.dtypes"
   ]
  },
  {
   "cell_type": "code",
   "execution_count": 12,
   "metadata": {
    "ExecuteTime": {
     "end_time": "2021-12-15T21:01:20.824462Z",
     "start_time": "2021-12-15T21:01:20.798462Z"
    }
   },
   "outputs": [
    {
     "data": {
      "text/plain": [
       "user_id    int64\n",
       "book_id    int64\n",
       "rating     int64\n",
       "dtype: object"
      ]
     },
     "execution_count": 12,
     "metadata": {},
     "output_type": "execute_result"
    }
   ],
   "source": [
    "goodbooks_ratings.dtypes"
   ]
  },
  {
   "cell_type": "markdown",
   "metadata": {},
   "source": [
    "### Verifico valori anomali\n",
    "\n",
    "Dato che é richiesto diverse volte di fare merging rispetto agli ISBN decidiamo di verificare la presenza di caratteri speciali in questo attributo, cioé cerchiamo se sono presenti caratteri diversi da lettere e numeri [a-z,A-Z,0-9].\n",
    "Lo valutiamo in tutti i dataset che contengono l'attributo ISBN e per farlo utilizziamo la funzione `contains`."
   ]
  },
  {
   "cell_type": "code",
   "execution_count": 13,
   "metadata": {
    "ExecuteTime": {
     "end_time": "2021-12-15T21:01:22.046153Z",
     "start_time": "2021-12-15T21:01:20.830475Z"
    },
    "scrolled": false
   },
   "outputs": [
    {
     "data": {
      "text/html": [
       "<div>\n",
       "<style scoped>\n",
       "    .dataframe tbody tr th:only-of-type {\n",
       "        vertical-align: middle;\n",
       "    }\n",
       "\n",
       "    .dataframe tbody tr th {\n",
       "        vertical-align: top;\n",
       "    }\n",
       "\n",
       "    .dataframe thead th {\n",
       "        text-align: right;\n",
       "    }\n",
       "</style>\n",
       "<table border=\"1\" class=\"dataframe\">\n",
       "  <thead>\n",
       "    <tr style=\"text-align: right;\">\n",
       "      <th></th>\n",
       "      <th>User-ID</th>\n",
       "      <th>ISBN</th>\n",
       "      <th>Book-Rating</th>\n",
       "    </tr>\n",
       "  </thead>\n",
       "  <tbody>\n",
       "    <tr>\n",
       "      <th>535</th>\n",
       "      <td>276929</td>\n",
       "      <td>2.02.032126.2</td>\n",
       "      <td>0</td>\n",
       "    </tr>\n",
       "    <tr>\n",
       "      <th>536</th>\n",
       "      <td>276929</td>\n",
       "      <td>2.264.03602.8</td>\n",
       "      <td>0</td>\n",
       "    </tr>\n",
       "    <tr>\n",
       "      <th>8918</th>\n",
       "      <td>278491</td>\n",
       "      <td>01420.01740</td>\n",
       "      <td>10</td>\n",
       "    </tr>\n",
       "    <tr>\n",
       "      <th>9745</th>\n",
       "      <td>183</td>\n",
       "      <td>100940/86</td>\n",
       "      <td>9</td>\n",
       "    </tr>\n",
       "    <tr>\n",
       "      <th>9746</th>\n",
       "      <td>183</td>\n",
       "      <td>10622/86</td>\n",
       "      <td>0</td>\n",
       "    </tr>\n",
       "    <tr>\n",
       "      <th>...</th>\n",
       "      <td>...</td>\n",
       "      <td>...</td>\n",
       "      <td>...</td>\n",
       "    </tr>\n",
       "    <tr>\n",
       "      <th>1145175</th>\n",
       "      <td>275414</td>\n",
       "      <td>\"8888809228\"</td>\n",
       "      <td>5</td>\n",
       "    </tr>\n",
       "    <tr>\n",
       "      <th>1146052</th>\n",
       "      <td>275891</td>\n",
       "      <td>384220/2/52</td>\n",
       "      <td>0</td>\n",
       "    </tr>\n",
       "    <tr>\n",
       "      <th>1146054</th>\n",
       "      <td>275891</td>\n",
       "      <td>400/33/72</td>\n",
       "      <td>0</td>\n",
       "    </tr>\n",
       "    <tr>\n",
       "      <th>1147650</th>\n",
       "      <td>276009</td>\n",
       "      <td>01400.77022</td>\n",
       "      <td>0</td>\n",
       "    </tr>\n",
       "    <tr>\n",
       "      <th>1148549</th>\n",
       "      <td>276331</td>\n",
       "      <td>\"0432534220</td>\n",
       "      <td>9</td>\n",
       "    </tr>\n",
       "  </tbody>\n",
       "</table>\n",
       "<p>1163 rows × 3 columns</p>\n",
       "</div>"
      ],
      "text/plain": [
       "         User-ID           ISBN  Book-Rating\n",
       "535       276929  2.02.032126.2            0\n",
       "536       276929  2.264.03602.8            0\n",
       "8918      278491    01420.01740           10\n",
       "9745         183      100940/86            9\n",
       "9746         183       10622/86            0\n",
       "...          ...            ...          ...\n",
       "1145175   275414   \"8888809228\"            5\n",
       "1146052   275891    384220/2/52            0\n",
       "1146054   275891      400/33/72            0\n",
       "1147650   276009    01400.77022            0\n",
       "1148549   276331    \"0432534220            9\n",
       "\n",
       "[1163 rows x 3 columns]"
      ]
     },
     "execution_count": 13,
     "metadata": {},
     "output_type": "execute_result"
    }
   ],
   "source": [
    "book_ratings[book_ratings['ISBN'].str.contains(\"\\W+\", regex = True)]"
   ]
  },
  {
   "cell_type": "code",
   "execution_count": 14,
   "metadata": {
    "ExecuteTime": {
     "end_time": "2021-12-15T21:01:22.330152Z",
     "start_time": "2021-12-15T21:01:22.047155Z"
    }
   },
   "outputs": [
    {
     "data": {
      "text/html": [
       "<div>\n",
       "<style scoped>\n",
       "    .dataframe tbody tr th:only-of-type {\n",
       "        vertical-align: middle;\n",
       "    }\n",
       "\n",
       "    .dataframe tbody tr th {\n",
       "        vertical-align: top;\n",
       "    }\n",
       "\n",
       "    .dataframe thead th {\n",
       "        text-align: right;\n",
       "    }\n",
       "</style>\n",
       "<table border=\"1\" class=\"dataframe\">\n",
       "  <thead>\n",
       "    <tr style=\"text-align: right;\">\n",
       "      <th></th>\n",
       "      <th>ISBN</th>\n",
       "      <th>Book-Title</th>\n",
       "      <th>Book-Author</th>\n",
       "      <th>Year-Of-Publication</th>\n",
       "      <th>Publisher</th>\n",
       "      <th>Image-URL-S</th>\n",
       "      <th>Image-URL-M</th>\n",
       "      <th>Image-URL-L</th>\n",
       "    </tr>\n",
       "  </thead>\n",
       "  <tbody>\n",
       "    <tr>\n",
       "      <th>111808</th>\n",
       "      <td>0486404242\\t</td>\n",
       "      <td>War in Kind: And Other Poems (Dover Thrift Edi...</td>\n",
       "      <td>Stephen Crane</td>\n",
       "      <td>1998</td>\n",
       "      <td>Dover Publications</td>\n",
       "      <td>http://images.amazon.com/images/P/0486404242.0...</td>\n",
       "      <td>http://images.amazon.com/images/P/0486404242.0...</td>\n",
       "      <td>http://images.amazon.com/images/P/0486404242.0...</td>\n",
       "    </tr>\n",
       "    <tr>\n",
       "      <th>171206</th>\n",
       "      <td>3518365479&lt;90</td>\n",
       "      <td>Suhrkamp TaschenbÃ?ÃÂ¼cher, Nr.47, Frost</td>\n",
       "      <td>Thomas Bernhard</td>\n",
       "      <td>1972</td>\n",
       "      <td>Suhrkamp</td>\n",
       "      <td>http://images.amazon.com/images/P/3518365479.0...</td>\n",
       "      <td>http://images.amazon.com/images/P/3518365479.0...</td>\n",
       "      <td>http://images.amazon.com/images/P/3518365479.0...</td>\n",
       "    </tr>\n",
       "    <tr>\n",
       "      <th>251423</th>\n",
       "      <td>3442248027  3</td>\n",
       "      <td>Diamond Age. Die Grenzwelt.</td>\n",
       "      <td>Neal Stephenson</td>\n",
       "      <td>2000</td>\n",
       "      <td>Goldmann</td>\n",
       "      <td>http://images.amazon.com/images/P/3442248027.0...</td>\n",
       "      <td>http://images.amazon.com/images/P/3442248027.0...</td>\n",
       "      <td>http://images.amazon.com/images/P/3442248027.0...</td>\n",
       "    </tr>\n",
       "    <tr>\n",
       "      <th>251648</th>\n",
       "      <td>0385722206  0</td>\n",
       "      <td>Balzac and the Little Chinese Seamstress : A N...</td>\n",
       "      <td>DAI SIJIE</td>\n",
       "      <td>2002</td>\n",
       "      <td>Anchor</td>\n",
       "      <td>http://images.amazon.com/images/P/0385722206.0...</td>\n",
       "      <td>http://images.amazon.com/images/P/0385722206.0...</td>\n",
       "      <td>http://images.amazon.com/images/P/0385722206.0...</td>\n",
       "    </tr>\n",
       "  </tbody>\n",
       "</table>\n",
       "</div>"
      ],
      "text/plain": [
       "                 ISBN                                         Book-Title  \\\n",
       "111808   0486404242\\t  War in Kind: And Other Poems (Dover Thrift Edi...   \n",
       "171206  3518365479<90         Suhrkamp TaschenbÃ?ÃÂ¼cher, Nr.47, Frost   \n",
       "251423  3442248027  3                        Diamond Age. Die Grenzwelt.   \n",
       "251648  0385722206  0  Balzac and the Little Chinese Seamstress : A N...   \n",
       "\n",
       "            Book-Author  Year-Of-Publication           Publisher  \\\n",
       "111808    Stephen Crane                 1998  Dover Publications   \n",
       "171206  Thomas Bernhard                 1972            Suhrkamp   \n",
       "251423  Neal Stephenson                 2000            Goldmann   \n",
       "251648        DAI SIJIE                 2002              Anchor   \n",
       "\n",
       "                                              Image-URL-S  \\\n",
       "111808  http://images.amazon.com/images/P/0486404242.0...   \n",
       "171206  http://images.amazon.com/images/P/3518365479.0...   \n",
       "251423  http://images.amazon.com/images/P/3442248027.0...   \n",
       "251648  http://images.amazon.com/images/P/0385722206.0...   \n",
       "\n",
       "                                              Image-URL-M  \\\n",
       "111808  http://images.amazon.com/images/P/0486404242.0...   \n",
       "171206  http://images.amazon.com/images/P/3518365479.0...   \n",
       "251423  http://images.amazon.com/images/P/3442248027.0...   \n",
       "251648  http://images.amazon.com/images/P/0385722206.0...   \n",
       "\n",
       "                                              Image-URL-L  \n",
       "111808  http://images.amazon.com/images/P/0486404242.0...  \n",
       "171206  http://images.amazon.com/images/P/3518365479.0...  \n",
       "251423  http://images.amazon.com/images/P/3442248027.0...  \n",
       "251648  http://images.amazon.com/images/P/0385722206.0...  "
      ]
     },
     "execution_count": 14,
     "metadata": {},
     "output_type": "execute_result"
    }
   ],
   "source": [
    "books[books['ISBN'].str.contains(\"\\W+\", regex = True)]"
   ]
  },
  {
   "cell_type": "code",
   "execution_count": 15,
   "metadata": {
    "ExecuteTime": {
     "end_time": "2021-12-15T21:01:22.346155Z",
     "start_time": "2021-12-15T21:01:22.331153Z"
    }
   },
   "outputs": [
    {
     "data": {
      "text/html": [
       "<div>\n",
       "<style scoped>\n",
       "    .dataframe tbody tr th:only-of-type {\n",
       "        vertical-align: middle;\n",
       "    }\n",
       "\n",
       "    .dataframe tbody tr th {\n",
       "        vertical-align: top;\n",
       "    }\n",
       "\n",
       "    .dataframe thead th {\n",
       "        text-align: right;\n",
       "    }\n",
       "</style>\n",
       "<table border=\"1\" class=\"dataframe\">\n",
       "  <thead>\n",
       "    <tr style=\"text-align: right;\">\n",
       "      <th></th>\n",
       "      <th>book_id</th>\n",
       "      <th>goodreads_book_id</th>\n",
       "      <th>best_book_id</th>\n",
       "      <th>work_id</th>\n",
       "      <th>books_count</th>\n",
       "      <th>isbn</th>\n",
       "      <th>isbn13</th>\n",
       "      <th>authors</th>\n",
       "      <th>original_publication_year</th>\n",
       "      <th>original_title</th>\n",
       "      <th>...</th>\n",
       "      <th>ratings_count</th>\n",
       "      <th>work_ratings_count</th>\n",
       "      <th>work_text_reviews_count</th>\n",
       "      <th>ratings_1</th>\n",
       "      <th>ratings_2</th>\n",
       "      <th>ratings_3</th>\n",
       "      <th>ratings_4</th>\n",
       "      <th>ratings_5</th>\n",
       "      <th>image_url</th>\n",
       "      <th>small_image_url</th>\n",
       "    </tr>\n",
       "  </thead>\n",
       "  <tbody>\n",
       "  </tbody>\n",
       "</table>\n",
       "<p>0 rows × 23 columns</p>\n",
       "</div>"
      ],
      "text/plain": [
       "Empty DataFrame\n",
       "Columns: [book_id, goodreads_book_id, best_book_id, work_id, books_count, isbn, isbn13, authors, original_publication_year, original_title, title, language_code, average_rating, ratings_count, work_ratings_count, work_text_reviews_count, ratings_1, ratings_2, ratings_3, ratings_4, ratings_5, image_url, small_image_url]\n",
       "Index: []\n",
       "\n",
       "[0 rows x 23 columns]"
      ]
     },
     "execution_count": 15,
     "metadata": {},
     "output_type": "execute_result"
    }
   ],
   "source": [
    "goodbooks[goodbooks['isbn'].str.contains(\"\\W+\", regex = True)]"
   ]
  },
  {
   "cell_type": "markdown",
   "metadata": {},
   "source": [
    "Notiamo che in `book_ratings` e in `book` sono presenti molti valori anomali ma decidiamo di non trattarli poiché richiederebbero delle tecniche piú approfondite."
   ]
  },
  {
   "cell_type": "markdown",
   "metadata": {},
   "source": [
    "## 1. Normalize the location field of *Users* dataset, splitting into city, region, country.\n",
    "\n",
    "Dividiamo la stringa `Location` nelle tre colonne in corrisponzenza delle virgole con la funzione `split` di pandas. Per tentare di risolvere i problemi legati alla presenza di piú di due virgole usiamo la variante `rsplit` che da prioritá al campo `Country`, mentre per quelle stringhe con meno di due virgole specifichiamo `expand = True` per evitare errori."
   ]
  },
  {
   "cell_type": "code",
   "execution_count": 16,
   "metadata": {
    "ExecuteTime": {
     "end_time": "2021-12-15T21:01:23.162191Z",
     "start_time": "2021-12-15T21:01:22.348155Z"
    }
   },
   "outputs": [
    {
     "data": {
      "text/html": [
       "<div>\n",
       "<style scoped>\n",
       "    .dataframe tbody tr th:only-of-type {\n",
       "        vertical-align: middle;\n",
       "    }\n",
       "\n",
       "    .dataframe tbody tr th {\n",
       "        vertical-align: top;\n",
       "    }\n",
       "\n",
       "    .dataframe thead th {\n",
       "        text-align: right;\n",
       "    }\n",
       "</style>\n",
       "<table border=\"1\" class=\"dataframe\">\n",
       "  <thead>\n",
       "    <tr style=\"text-align: right;\">\n",
       "      <th></th>\n",
       "      <th>User-ID</th>\n",
       "      <th>Location</th>\n",
       "      <th>Age</th>\n",
       "      <th>City</th>\n",
       "      <th>Region</th>\n",
       "      <th>Country</th>\n",
       "    </tr>\n",
       "  </thead>\n",
       "  <tbody>\n",
       "    <tr>\n",
       "      <th>0</th>\n",
       "      <td>1</td>\n",
       "      <td>nyc, new york, usa</td>\n",
       "      <td>&lt;NA&gt;</td>\n",
       "      <td>nyc</td>\n",
       "      <td>new york</td>\n",
       "      <td>usa</td>\n",
       "    </tr>\n",
       "    <tr>\n",
       "      <th>1</th>\n",
       "      <td>2</td>\n",
       "      <td>stockton, california, usa</td>\n",
       "      <td>18</td>\n",
       "      <td>stockton</td>\n",
       "      <td>california</td>\n",
       "      <td>usa</td>\n",
       "    </tr>\n",
       "    <tr>\n",
       "      <th>2</th>\n",
       "      <td>3</td>\n",
       "      <td>moscow, yukon territory, russia</td>\n",
       "      <td>&lt;NA&gt;</td>\n",
       "      <td>moscow</td>\n",
       "      <td>yukon territory</td>\n",
       "      <td>russia</td>\n",
       "    </tr>\n",
       "    <tr>\n",
       "      <th>3</th>\n",
       "      <td>4</td>\n",
       "      <td>porto, v.n.gaia, portugal</td>\n",
       "      <td>17</td>\n",
       "      <td>porto</td>\n",
       "      <td>v.n.gaia</td>\n",
       "      <td>portugal</td>\n",
       "    </tr>\n",
       "    <tr>\n",
       "      <th>4</th>\n",
       "      <td>5</td>\n",
       "      <td>farnborough, hants, united kingdom</td>\n",
       "      <td>&lt;NA&gt;</td>\n",
       "      <td>farnborough</td>\n",
       "      <td>hants</td>\n",
       "      <td>united kingdom</td>\n",
       "    </tr>\n",
       "    <tr>\n",
       "      <th>5</th>\n",
       "      <td>6</td>\n",
       "      <td>santa monica, california, usa</td>\n",
       "      <td>61</td>\n",
       "      <td>santa monica</td>\n",
       "      <td>california</td>\n",
       "      <td>usa</td>\n",
       "    </tr>\n",
       "    <tr>\n",
       "      <th>6</th>\n",
       "      <td>7</td>\n",
       "      <td>washington, dc, usa</td>\n",
       "      <td>&lt;NA&gt;</td>\n",
       "      <td>washington</td>\n",
       "      <td>dc</td>\n",
       "      <td>usa</td>\n",
       "    </tr>\n",
       "    <tr>\n",
       "      <th>7</th>\n",
       "      <td>8</td>\n",
       "      <td>timmins, ontario, canada</td>\n",
       "      <td>&lt;NA&gt;</td>\n",
       "      <td>timmins</td>\n",
       "      <td>ontario</td>\n",
       "      <td>canada</td>\n",
       "    </tr>\n",
       "    <tr>\n",
       "      <th>8</th>\n",
       "      <td>9</td>\n",
       "      <td>germantown, tennessee, usa</td>\n",
       "      <td>&lt;NA&gt;</td>\n",
       "      <td>germantown</td>\n",
       "      <td>tennessee</td>\n",
       "      <td>usa</td>\n",
       "    </tr>\n",
       "    <tr>\n",
       "      <th>9</th>\n",
       "      <td>10</td>\n",
       "      <td>albacete, wisconsin, spain</td>\n",
       "      <td>26</td>\n",
       "      <td>albacete</td>\n",
       "      <td>wisconsin</td>\n",
       "      <td>spain</td>\n",
       "    </tr>\n",
       "  </tbody>\n",
       "</table>\n",
       "</div>"
      ],
      "text/plain": [
       "   User-ID                            Location   Age          City  \\\n",
       "0        1                  nyc, new york, usa  <NA>           nyc   \n",
       "1        2           stockton, california, usa    18      stockton   \n",
       "2        3     moscow, yukon territory, russia  <NA>        moscow   \n",
       "3        4           porto, v.n.gaia, portugal    17         porto   \n",
       "4        5  farnborough, hants, united kingdom  <NA>   farnborough   \n",
       "5        6       santa monica, california, usa    61  santa monica   \n",
       "6        7                 washington, dc, usa  <NA>    washington   \n",
       "7        8            timmins, ontario, canada  <NA>       timmins   \n",
       "8        9          germantown, tennessee, usa  <NA>    germantown   \n",
       "9       10          albacete, wisconsin, spain    26      albacete   \n",
       "\n",
       "             Region          Country  \n",
       "0          new york              usa  \n",
       "1        california              usa  \n",
       "2   yukon territory           russia  \n",
       "3          v.n.gaia         portugal  \n",
       "4             hants   united kingdom  \n",
       "5        california              usa  \n",
       "6                dc              usa  \n",
       "7           ontario           canada  \n",
       "8         tennessee              usa  \n",
       "9         wisconsin            spain  "
      ]
     },
     "execution_count": 16,
     "metadata": {},
     "output_type": "execute_result"
    }
   ],
   "source": [
    "users[['City', 'Region', 'Country']] = users['Location'].str.rsplit(',', 2, expand=True)\n",
    "users.head(10)"
   ]
  },
  {
   "cell_type": "markdown",
   "metadata": {},
   "source": [
    "Facendo un raggruppamento rispetto a `Country` ci si rende conto della presenza di valori anomali in alcuni campi e inoltre si notano alcuni problemi con l'encoding, la risoluzione di questi peró esula dalla richiesta principale."
   ]
  },
  {
   "cell_type": "code",
   "execution_count": 17,
   "metadata": {
    "ExecuteTime": {
     "end_time": "2021-12-15T21:01:23.398153Z",
     "start_time": "2021-12-15T21:01:23.164157Z"
    }
   },
   "outputs": [
    {
     "data": {
      "text/html": [
       "<div>\n",
       "<style scoped>\n",
       "    .dataframe tbody tr th:only-of-type {\n",
       "        vertical-align: middle;\n",
       "    }\n",
       "\n",
       "    .dataframe tbody tr th {\n",
       "        vertical-align: top;\n",
       "    }\n",
       "\n",
       "    .dataframe thead th {\n",
       "        text-align: right;\n",
       "    }\n",
       "</style>\n",
       "<table border=\"1\" class=\"dataframe\">\n",
       "  <thead>\n",
       "    <tr style=\"text-align: right;\">\n",
       "      <th></th>\n",
       "      <th>User-ID</th>\n",
       "      <th>Location</th>\n",
       "      <th>Age</th>\n",
       "      <th>City</th>\n",
       "      <th>Region</th>\n",
       "    </tr>\n",
       "    <tr>\n",
       "      <th>Country</th>\n",
       "      <th></th>\n",
       "      <th></th>\n",
       "      <th></th>\n",
       "      <th></th>\n",
       "      <th></th>\n",
       "    </tr>\n",
       "  </thead>\n",
       "  <tbody>\n",
       "    <tr>\n",
       "      <th></th>\n",
       "      <td>4588</td>\n",
       "      <td>4588</td>\n",
       "      <td>2000</td>\n",
       "      <td>4588</td>\n",
       "      <td>4588</td>\n",
       "    </tr>\n",
       "    <tr>\n",
       "      <th>\"n/a\"</th>\n",
       "      <td>2</td>\n",
       "      <td>2</td>\n",
       "      <td>1</td>\n",
       "      <td>2</td>\n",
       "      <td>2</td>\n",
       "    </tr>\n",
       "    <tr>\n",
       "      <th>&amp;#20013;&amp;#22269;</th>\n",
       "      <td>1</td>\n",
       "      <td>1</td>\n",
       "      <td>1</td>\n",
       "      <td>1</td>\n",
       "      <td>1</td>\n",
       "    </tr>\n",
       "    <tr>\n",
       "      <th>&amp;#32654;&amp;#22269;</th>\n",
       "      <td>1</td>\n",
       "      <td>1</td>\n",
       "      <td>1</td>\n",
       "      <td>1</td>\n",
       "      <td>1</td>\n",
       "    </tr>\n",
       "    <tr>\n",
       "      <th>*</th>\n",
       "      <td>1</td>\n",
       "      <td>1</td>\n",
       "      <td>0</td>\n",
       "      <td>1</td>\n",
       "      <td>1</td>\n",
       "    </tr>\n",
       "    <tr>\n",
       "      <th>-</th>\n",
       "      <td>1</td>\n",
       "      <td>1</td>\n",
       "      <td>0</td>\n",
       "      <td>1</td>\n",
       "      <td>1</td>\n",
       "    </tr>\n",
       "    <tr>\n",
       "      <th>-------</th>\n",
       "      <td>1</td>\n",
       "      <td>1</td>\n",
       "      <td>0</td>\n",
       "      <td>1</td>\n",
       "      <td>1</td>\n",
       "    </tr>\n",
       "    <tr>\n",
       "      <th>.</th>\n",
       "      <td>1</td>\n",
       "      <td>1</td>\n",
       "      <td>0</td>\n",
       "      <td>1</td>\n",
       "      <td>1</td>\n",
       "    </tr>\n",
       "    <tr>\n",
       "      <th>01776</th>\n",
       "      <td>1</td>\n",
       "      <td>1</td>\n",
       "      <td>0</td>\n",
       "      <td>1</td>\n",
       "      <td>1</td>\n",
       "    </tr>\n",
       "    <tr>\n",
       "      <th>02458</th>\n",
       "      <td>1</td>\n",
       "      <td>1</td>\n",
       "      <td>0</td>\n",
       "      <td>1</td>\n",
       "      <td>1</td>\n",
       "    </tr>\n",
       "  </tbody>\n",
       "</table>\n",
       "</div>"
      ],
      "text/plain": [
       "                   User-ID  Location   Age  City  Region\n",
       "Country                                                 \n",
       "                      4588      4588  2000  4588    4588\n",
       " \"n/a\"                   2         2     1     2       2\n",
       " &#20013;&#22269;        1         1     1     1       1\n",
       " &#32654;&#22269;        1         1     1     1       1\n",
       " *                       1         1     0     1       1\n",
       " -                       1         1     0     1       1\n",
       " -------                 1         1     0     1       1\n",
       " .                       1         1     0     1       1\n",
       " 01776                   1         1     0     1       1\n",
       " 02458                   1         1     0     1       1"
      ]
     },
     "execution_count": 17,
     "metadata": {},
     "output_type": "execute_result"
    }
   ],
   "source": [
    "users.groupby('Country').count().head(10)"
   ]
  },
  {
   "cell_type": "markdown",
   "metadata": {},
   "source": [
    "## 2. For each book in the *Books* dataset, compute its average rating.\n",
    "\n",
    "Per prima cosa facciamo una left join delle tabelle `books` e `book_ratings` con la funzione `merge` di pandas. In secondo luogo raggruppiamo rispetto al campo `ISBN` facendo la media del campo `Book-Rating`."
   ]
  },
  {
   "cell_type": "code",
   "execution_count": 18,
   "metadata": {
    "ExecuteTime": {
     "end_time": "2021-12-15T21:01:25.665890Z",
     "start_time": "2021-12-15T21:01:23.400155Z"
    }
   },
   "outputs": [
    {
     "data": {
      "text/html": [
       "<div>\n",
       "<style scoped>\n",
       "    .dataframe tbody tr th:only-of-type {\n",
       "        vertical-align: middle;\n",
       "    }\n",
       "\n",
       "    .dataframe tbody tr th {\n",
       "        vertical-align: top;\n",
       "    }\n",
       "\n",
       "    .dataframe thead th {\n",
       "        text-align: right;\n",
       "    }\n",
       "</style>\n",
       "<table border=\"1\" class=\"dataframe\">\n",
       "  <thead>\n",
       "    <tr style=\"text-align: right;\">\n",
       "      <th></th>\n",
       "      <th>Book-Title</th>\n",
       "      <th>ISBN</th>\n",
       "      <th>Book_Average_Rating</th>\n",
       "    </tr>\n",
       "  </thead>\n",
       "  <tbody>\n",
       "    <tr>\n",
       "      <th>0</th>\n",
       "      <td>A Light in the Storm: The Civil War Diary of ...</td>\n",
       "      <td>0590567330</td>\n",
       "      <td>2.25</td>\n",
       "    </tr>\n",
       "    <tr>\n",
       "      <th>1</th>\n",
       "      <td>Always Have Popsicles</td>\n",
       "      <td>0964147726</td>\n",
       "      <td>0.00</td>\n",
       "    </tr>\n",
       "    <tr>\n",
       "      <th>2</th>\n",
       "      <td>Apple Magic (The Collector's series)</td>\n",
       "      <td>0942320093</td>\n",
       "      <td>0.00</td>\n",
       "    </tr>\n",
       "    <tr>\n",
       "      <th>3</th>\n",
       "      <td>Ask Lily (Young Women of Faith: Lily Series, ...</td>\n",
       "      <td>0310232546</td>\n",
       "      <td>8.00</td>\n",
       "    </tr>\n",
       "    <tr>\n",
       "      <th>4</th>\n",
       "      <td>Beyond IBM: Leadership Marketing and Finance ...</td>\n",
       "      <td>0962295701</td>\n",
       "      <td>0.00</td>\n",
       "    </tr>\n",
       "    <tr>\n",
       "      <th>5</th>\n",
       "      <td>Clifford Visita El Hospital (Clifford El Gran...</td>\n",
       "      <td>0439188970</td>\n",
       "      <td>0.00</td>\n",
       "    </tr>\n",
       "    <tr>\n",
       "      <th>6</th>\n",
       "      <td>Dark Justice</td>\n",
       "      <td>0399151788</td>\n",
       "      <td>10.00</td>\n",
       "    </tr>\n",
       "    <tr>\n",
       "      <th>7</th>\n",
       "      <td>Deceived</td>\n",
       "      <td>0786000015</td>\n",
       "      <td>0.00</td>\n",
       "    </tr>\n",
       "    <tr>\n",
       "      <th>8</th>\n",
       "      <td>Earth Prayers From around the World: 365 Pray...</td>\n",
       "      <td>006250746X</td>\n",
       "      <td>5.00</td>\n",
       "    </tr>\n",
       "    <tr>\n",
       "      <th>9</th>\n",
       "      <td>Final Fantasy Anthology: Official Strategy Gu...</td>\n",
       "      <td>1566869250</td>\n",
       "      <td>5.00</td>\n",
       "    </tr>\n",
       "  </tbody>\n",
       "</table>\n",
       "</div>"
      ],
      "text/plain": [
       "                                          Book-Title        ISBN  \\\n",
       "0   A Light in the Storm: The Civil War Diary of ...  0590567330   \n",
       "1                              Always Have Popsicles  0964147726   \n",
       "2               Apple Magic (The Collector's series)  0942320093   \n",
       "3   Ask Lily (Young Women of Faith: Lily Series, ...  0310232546   \n",
       "4   Beyond IBM: Leadership Marketing and Finance ...  0962295701   \n",
       "5   Clifford Visita El Hospital (Clifford El Gran...  0439188970   \n",
       "6                                       Dark Justice  0399151788   \n",
       "7                                           Deceived  0786000015   \n",
       "8   Earth Prayers From around the World: 365 Pray...  006250746X   \n",
       "9   Final Fantasy Anthology: Official Strategy Gu...  1566869250   \n",
       "\n",
       "   Book_Average_Rating  \n",
       "0                 2.25  \n",
       "1                 0.00  \n",
       "2                 0.00  \n",
       "3                 8.00  \n",
       "4                 0.00  \n",
       "5                 0.00  \n",
       "6                10.00  \n",
       "7                 0.00  \n",
       "8                 5.00  \n",
       "9                 5.00  "
      ]
     },
     "execution_count": 18,
     "metadata": {},
     "output_type": "execute_result"
    }
   ],
   "source": [
    "books_avg = pd.merge(books, book_ratings, on = 'ISBN', how = 'left').groupby(['Book-Title', 'ISBN'], as_index=False).agg(Book_Average_Rating = ('Book-Rating', 'mean'))\n",
    "books_avg.head(10)"
   ]
  },
  {
   "cell_type": "markdown",
   "metadata": {},
   "source": [
    "## 3. For each book in the *GoodBooks* dataset, compute its average rating.\n",
    "\n",
    "Per risolvere questo quesito si esegue una left join tra goodbooks e goodbooks_ratings rispetto all'attributo `book_id`. Questo nuovo dataframe lo si raggruppa rispetto a `isbn` e `original_title` calcolando il valore medio dell'attributo `rating`."
   ]
  },
  {
   "cell_type": "code",
   "execution_count": 19,
   "metadata": {},
   "outputs": [
    {
     "data": {
      "text/html": [
       "<div>\n",
       "<style scoped>\n",
       "    .dataframe tbody tr th:only-of-type {\n",
       "        vertical-align: middle;\n",
       "    }\n",
       "\n",
       "    .dataframe tbody tr th {\n",
       "        vertical-align: top;\n",
       "    }\n",
       "\n",
       "    .dataframe thead th {\n",
       "        text-align: right;\n",
       "    }\n",
       "</style>\n",
       "<table border=\"1\" class=\"dataframe\">\n",
       "  <thead>\n",
       "    <tr style=\"text-align: right;\">\n",
       "      <th></th>\n",
       "      <th>isbn</th>\n",
       "      <th>original_title</th>\n",
       "      <th>average_rating</th>\n",
       "    </tr>\n",
       "  </thead>\n",
       "  <tbody>\n",
       "    <tr>\n",
       "      <th>0</th>\n",
       "      <td>014038572X</td>\n",
       "      <td>The Outsiders</td>\n",
       "      <td>NaN</td>\n",
       "    </tr>\n",
       "    <tr>\n",
       "      <th>1</th>\n",
       "      <td>014241493X</td>\n",
       "      <td>Paper Towns</td>\n",
       "      <td>NaN</td>\n",
       "    </tr>\n",
       "    <tr>\n",
       "      <th>2</th>\n",
       "      <td>030734813X</td>\n",
       "      <td>Jurassic Park</td>\n",
       "      <td>4.0</td>\n",
       "    </tr>\n",
       "    <tr>\n",
       "      <th>3</th>\n",
       "      <td>031606792X</td>\n",
       "      <td>Breaking Dawn</td>\n",
       "      <td>NaN</td>\n",
       "    </tr>\n",
       "    <tr>\n",
       "      <th>4</th>\n",
       "      <td>043965548X</td>\n",
       "      <td>Harry Potter and the Prisoner of Azkaban</td>\n",
       "      <td>5.0</td>\n",
       "    </tr>\n",
       "  </tbody>\n",
       "</table>\n",
       "</div>"
      ],
      "text/plain": [
       "         isbn                            original_title  average_rating\n",
       "0  014038572X                             The Outsiders             NaN\n",
       "1  014241493X                               Paper Towns             NaN\n",
       "2  030734813X                             Jurassic Park             4.0\n",
       "3  031606792X                             Breaking Dawn             NaN\n",
       "4  043965548X  Harry Potter and the Prisoner of Azkaban             5.0"
      ]
     },
     "execution_count": 19,
     "metadata": {},
     "output_type": "execute_result"
    }
   ],
   "source": [
    "pd.merge(goodbooks, goodbooks_ratings, on = 'book_id', how = 'left').groupby(['isbn', 'original_title'], as_index = False).agg(average_rating = ('rating', 'mean')).head()"
   ]
  },
  {
   "cell_type": "markdown",
   "metadata": {},
   "source": [
    "É possibile risolvere questo quesito anche sfruttando la colonna `average_rating` giá presente nel dataset `goodbooks`. Utilizzeremo i valori ottenuti da questa soluzione per i punti successivi."
   ]
  },
  {
   "cell_type": "code",
   "execution_count": 20,
   "metadata": {
    "ExecuteTime": {
     "end_time": "2021-12-15T21:01:25.680859Z",
     "start_time": "2021-12-15T21:01:25.667858Z"
    },
    "scrolled": false
   },
   "outputs": [
    {
     "data": {
      "text/html": [
       "<div>\n",
       "<style scoped>\n",
       "    .dataframe tbody tr th:only-of-type {\n",
       "        vertical-align: middle;\n",
       "    }\n",
       "\n",
       "    .dataframe tbody tr th {\n",
       "        vertical-align: top;\n",
       "    }\n",
       "\n",
       "    .dataframe thead th {\n",
       "        text-align: right;\n",
       "    }\n",
       "</style>\n",
       "<table border=\"1\" class=\"dataframe\">\n",
       "  <thead>\n",
       "    <tr style=\"text-align: right;\">\n",
       "      <th></th>\n",
       "      <th>isbn</th>\n",
       "      <th>original_title</th>\n",
       "      <th>average_rating</th>\n",
       "    </tr>\n",
       "  </thead>\n",
       "  <tbody>\n",
       "    <tr>\n",
       "      <th>0</th>\n",
       "      <td>439023483</td>\n",
       "      <td>The Hunger Games</td>\n",
       "      <td>4.34</td>\n",
       "    </tr>\n",
       "    <tr>\n",
       "      <th>1</th>\n",
       "      <td>439554934</td>\n",
       "      <td>Harry Potter and the Philosopher's Stone</td>\n",
       "      <td>4.44</td>\n",
       "    </tr>\n",
       "    <tr>\n",
       "      <th>2</th>\n",
       "      <td>316015849</td>\n",
       "      <td>Twilight</td>\n",
       "      <td>3.57</td>\n",
       "    </tr>\n",
       "    <tr>\n",
       "      <th>3</th>\n",
       "      <td>61120081</td>\n",
       "      <td>To Kill a Mockingbird</td>\n",
       "      <td>4.25</td>\n",
       "    </tr>\n",
       "    <tr>\n",
       "      <th>4</th>\n",
       "      <td>743273567</td>\n",
       "      <td>The Great Gatsby</td>\n",
       "      <td>3.89</td>\n",
       "    </tr>\n",
       "  </tbody>\n",
       "</table>\n",
       "</div>"
      ],
      "text/plain": [
       "        isbn                            original_title  average_rating\n",
       "0  439023483                          The Hunger Games            4.34\n",
       "1  439554934  Harry Potter and the Philosopher's Stone            4.44\n",
       "2  316015849                                  Twilight            3.57\n",
       "3   61120081                     To Kill a Mockingbird            4.25\n",
       "4  743273567                          The Great Gatsby            3.89"
      ]
     },
     "execution_count": 20,
     "metadata": {},
     "output_type": "execute_result"
    }
   ],
   "source": [
    "goodbooks[['isbn', 'original_title', 'average_rating']].head()"
   ]
  },
  {
   "cell_type": "markdown",
   "metadata": {},
   "source": [
    "## 4. Merge together all rows sharing the same book title, author and publisher. We will call the resulting datset `merged books`. The books that have not been merged together will not appear in `merged books`.\n",
    "\n",
    "In un primo momento creiamo il dataset `merging_books`, che sfrutteró anche nel punto successivo, con presenti tutte le righe che si ripetono almeno una volta rispetto ai campi `Book-Title`, `Book-Author` e `Publisher`. Per farlo utilizziamo la funzione `duplicated` che restituisce un array di booleani specificando `keep = False` per tenere tutti i duplicati. \n",
    "\n",
    "Successivamente creiamo il dataset `merged_books` raggruppando il dataset precedente rispetto a `Book-Title`, `Book-Author` e `Publisher` e otteniamo la colonna `Count`."
   ]
  },
  {
   "cell_type": "code",
   "execution_count": 35,
   "metadata": {
    "ExecuteTime": {
     "end_time": "2021-12-15T21:01:25.934384Z",
     "start_time": "2021-12-15T21:01:25.682859Z"
    }
   },
   "outputs": [
    {
     "data": {
      "text/html": [
       "<div>\n",
       "<style scoped>\n",
       "    .dataframe tbody tr th:only-of-type {\n",
       "        vertical-align: middle;\n",
       "    }\n",
       "\n",
       "    .dataframe tbody tr th {\n",
       "        vertical-align: top;\n",
       "    }\n",
       "\n",
       "    .dataframe thead th {\n",
       "        text-align: right;\n",
       "    }\n",
       "</style>\n",
       "<table border=\"1\" class=\"dataframe\">\n",
       "  <thead>\n",
       "    <tr style=\"text-align: right;\">\n",
       "      <th></th>\n",
       "      <th>Book-Title</th>\n",
       "      <th>Book-Author</th>\n",
       "      <th>Publisher</th>\n",
       "      <th>Count</th>\n",
       "    </tr>\n",
       "  </thead>\n",
       "  <tbody>\n",
       "    <tr>\n",
       "      <th>0</th>\n",
       "      <td>!%@ (A Nutshell handbook)</td>\n",
       "      <td>Donnalyn Frey</td>\n",
       "      <td>O'Reilly</td>\n",
       "      <td>2</td>\n",
       "    </tr>\n",
       "    <tr>\n",
       "      <th>1</th>\n",
       "      <td>'A Hell of a Place to Lose a Cow': An American...</td>\n",
       "      <td>Tim Brookes</td>\n",
       "      <td>National Geographic</td>\n",
       "      <td>2</td>\n",
       "    </tr>\n",
       "    <tr>\n",
       "      <th>2</th>\n",
       "      <td>10,000 dreams interpreted: A dictionary of dreams</td>\n",
       "      <td>Gustavus Hindman Miller</td>\n",
       "      <td>Barnes &amp;amp; Nobles Books</td>\n",
       "      <td>2</td>\n",
       "    </tr>\n",
       "    <tr>\n",
       "      <th>3</th>\n",
       "      <td>101 Famous Poems</td>\n",
       "      <td>Roy J. Cook</td>\n",
       "      <td>McGraw-Hill/Contemporary Books</td>\n",
       "      <td>3</td>\n",
       "    </tr>\n",
       "    <tr>\n",
       "      <th>4</th>\n",
       "      <td>15 Houseplants Even You Can't Kill</td>\n",
       "      <td>Joe Elder</td>\n",
       "      <td>Berkley Pub Group</td>\n",
       "      <td>2</td>\n",
       "    </tr>\n",
       "    <tr>\n",
       "      <th>5</th>\n",
       "      <td>158 POUND MARRIAGE</td>\n",
       "      <td>John Irving</td>\n",
       "      <td>Pocket</td>\n",
       "      <td>2</td>\n",
       "    </tr>\n",
       "    <tr>\n",
       "      <th>6</th>\n",
       "      <td>1700: Scenes from London Life</td>\n",
       "      <td>Maureen Waller</td>\n",
       "      <td>Four Walls Eight Windows</td>\n",
       "      <td>2</td>\n",
       "    </tr>\n",
       "    <tr>\n",
       "      <th>7</th>\n",
       "      <td>1921 : The Great Novel of the Irish Civil War ...</td>\n",
       "      <td>Morgan Llywelyn</td>\n",
       "      <td>Forge Books</td>\n",
       "      <td>2</td>\n",
       "    </tr>\n",
       "    <tr>\n",
       "      <th>8</th>\n",
       "      <td>2001. Odyssee im Weltraum.</td>\n",
       "      <td>Arthur C. Clarke</td>\n",
       "      <td>Heyne</td>\n",
       "      <td>2</td>\n",
       "    </tr>\n",
       "    <tr>\n",
       "      <th>9</th>\n",
       "      <td>2010: Odyssey Two</td>\n",
       "      <td>Arthur C. Clarke</td>\n",
       "      <td>Del Rey Books</td>\n",
       "      <td>2</td>\n",
       "    </tr>\n",
       "  </tbody>\n",
       "</table>\n",
       "</div>"
      ],
      "text/plain": [
       "                                          Book-Title              Book-Author  \\\n",
       "0                          !%@ (A Nutshell handbook)            Donnalyn Frey   \n",
       "1  'A Hell of a Place to Lose a Cow': An American...              Tim Brookes   \n",
       "2  10,000 dreams interpreted: A dictionary of dreams  Gustavus Hindman Miller   \n",
       "3                                   101 Famous Poems              Roy J. Cook   \n",
       "4                 15 Houseplants Even You Can't Kill                Joe Elder   \n",
       "5                                 158 POUND MARRIAGE              John Irving   \n",
       "6                      1700: Scenes from London Life           Maureen Waller   \n",
       "7  1921 : The Great Novel of the Irish Civil War ...          Morgan Llywelyn   \n",
       "8                         2001. Odyssee im Weltraum.         Arthur C. Clarke   \n",
       "9                                  2010: Odyssey Two         Arthur C. Clarke   \n",
       "\n",
       "                        Publisher  Count  \n",
       "0                        O'Reilly      2  \n",
       "1             National Geographic      2  \n",
       "2       Barnes &amp; Nobles Books      2  \n",
       "3  McGraw-Hill/Contemporary Books      3  \n",
       "4               Berkley Pub Group      2  \n",
       "5                          Pocket      2  \n",
       "6        Four Walls Eight Windows      2  \n",
       "7                     Forge Books      2  \n",
       "8                           Heyne      2  \n",
       "9                   Del Rey Books      2  "
      ]
     },
     "execution_count": 35,
     "metadata": {},
     "output_type": "execute_result"
    }
   ],
   "source": [
    "merging_books = books[books.duplicated(subset = ['Book-Title', 'Book-Author', 'Publisher'], keep = False)]  #keep = False per poter avere il conteggio\n",
    "merged_books = merging_books.groupby(['Book-Title', 'Book-Author', 'Publisher'], as_index=False).agg(Count=('ISBN', 'count'))\n",
    "merged_books.head(10)"
   ]
  },
  {
   "cell_type": "markdown",
   "metadata": {},
   "source": [
    "## 5. For each book in `merged books` compute its average rating.\n",
    "\n",
    "Calcolo l'Average_Rating per ogni edizione dei libri in book_ratings e poi faccio un merge con il dataset creato al punto precedente."
   ]
  },
  {
   "cell_type": "code",
   "execution_count": 34,
   "metadata": {
    "ExecuteTime": {
     "end_time": "2021-12-15T21:01:26.878414Z",
     "start_time": "2021-12-15T21:01:25.936386Z"
    },
    "scrolled": true
   },
   "outputs": [
    {
     "data": {
      "text/html": [
       "<div>\n",
       "<style scoped>\n",
       "    .dataframe tbody tr th:only-of-type {\n",
       "        vertical-align: middle;\n",
       "    }\n",
       "\n",
       "    .dataframe tbody tr th {\n",
       "        vertical-align: top;\n",
       "    }\n",
       "\n",
       "    .dataframe thead th {\n",
       "        text-align: right;\n",
       "    }\n",
       "</style>\n",
       "<table border=\"1\" class=\"dataframe\">\n",
       "  <thead>\n",
       "    <tr style=\"text-align: right;\">\n",
       "      <th></th>\n",
       "      <th>Book-Title</th>\n",
       "      <th>Book-Author</th>\n",
       "      <th>Publisher</th>\n",
       "      <th>Average_Rating</th>\n",
       "    </tr>\n",
       "  </thead>\n",
       "  <tbody>\n",
       "    <tr>\n",
       "      <th>0</th>\n",
       "      <td>!%@ (A Nutshell handbook)</td>\n",
       "      <td>Donnalyn Frey</td>\n",
       "      <td>O'Reilly</td>\n",
       "      <td>3.000000</td>\n",
       "    </tr>\n",
       "    <tr>\n",
       "      <th>1</th>\n",
       "      <td>'A Hell of a Place to Lose a Cow': An American...</td>\n",
       "      <td>Tim Brookes</td>\n",
       "      <td>National Geographic</td>\n",
       "      <td>1.700000</td>\n",
       "    </tr>\n",
       "    <tr>\n",
       "      <th>2</th>\n",
       "      <td>10,000 dreams interpreted: A dictionary of dreams</td>\n",
       "      <td>Gustavus Hindman Miller</td>\n",
       "      <td>Barnes &amp;amp; Nobles Books</td>\n",
       "      <td>6.958333</td>\n",
       "    </tr>\n",
       "    <tr>\n",
       "      <th>3</th>\n",
       "      <td>101 Famous Poems</td>\n",
       "      <td>Roy J. Cook</td>\n",
       "      <td>McGraw-Hill/Contemporary Books</td>\n",
       "      <td>3.111111</td>\n",
       "    </tr>\n",
       "    <tr>\n",
       "      <th>4</th>\n",
       "      <td>15 Houseplants Even You Can't Kill</td>\n",
       "      <td>Joe Elder</td>\n",
       "      <td>Berkley Pub Group</td>\n",
       "      <td>0.000000</td>\n",
       "    </tr>\n",
       "    <tr>\n",
       "      <th>5</th>\n",
       "      <td>158 POUND MARRIAGE</td>\n",
       "      <td>John Irving</td>\n",
       "      <td>Pocket</td>\n",
       "      <td>2.416667</td>\n",
       "    </tr>\n",
       "    <tr>\n",
       "      <th>6</th>\n",
       "      <td>1700: Scenes from London Life</td>\n",
       "      <td>Maureen Waller</td>\n",
       "      <td>Four Walls Eight Windows</td>\n",
       "      <td>6.250000</td>\n",
       "    </tr>\n",
       "    <tr>\n",
       "      <th>7</th>\n",
       "      <td>1921 : The Great Novel of the Irish Civil War ...</td>\n",
       "      <td>Morgan Llywelyn</td>\n",
       "      <td>Forge Books</td>\n",
       "      <td>1.000000</td>\n",
       "    </tr>\n",
       "    <tr>\n",
       "      <th>8</th>\n",
       "      <td>2001. Odyssee im Weltraum.</td>\n",
       "      <td>Arthur C. Clarke</td>\n",
       "      <td>Heyne</td>\n",
       "      <td>4.500000</td>\n",
       "    </tr>\n",
       "    <tr>\n",
       "      <th>9</th>\n",
       "      <td>2010: Odyssey Two</td>\n",
       "      <td>Arthur C. Clarke</td>\n",
       "      <td>Del Rey Books</td>\n",
       "      <td>1.360759</td>\n",
       "    </tr>\n",
       "  </tbody>\n",
       "</table>\n",
       "</div>"
      ],
      "text/plain": [
       "                                          Book-Title              Book-Author  \\\n",
       "0                          !%@ (A Nutshell handbook)            Donnalyn Frey   \n",
       "1  'A Hell of a Place to Lose a Cow': An American...              Tim Brookes   \n",
       "2  10,000 dreams interpreted: A dictionary of dreams  Gustavus Hindman Miller   \n",
       "3                                   101 Famous Poems              Roy J. Cook   \n",
       "4                 15 Houseplants Even You Can't Kill                Joe Elder   \n",
       "5                                 158 POUND MARRIAGE              John Irving   \n",
       "6                      1700: Scenes from London Life           Maureen Waller   \n",
       "7  1921 : The Great Novel of the Irish Civil War ...          Morgan Llywelyn   \n",
       "8                         2001. Odyssee im Weltraum.         Arthur C. Clarke   \n",
       "9                                  2010: Odyssey Two         Arthur C. Clarke   \n",
       "\n",
       "                        Publisher  Average_Rating  \n",
       "0                        O'Reilly        3.000000  \n",
       "1             National Geographic        1.700000  \n",
       "2       Barnes &amp; Nobles Books        6.958333  \n",
       "3  McGraw-Hill/Contemporary Books        3.111111  \n",
       "4               Berkley Pub Group        0.000000  \n",
       "5                          Pocket        2.416667  \n",
       "6        Four Walls Eight Windows        6.250000  \n",
       "7                     Forge Books        1.000000  \n",
       "8                           Heyne        4.500000  \n",
       "9                   Del Rey Books        1.360759  "
      ]
     },
     "execution_count": 34,
     "metadata": {},
     "output_type": "execute_result"
    }
   ],
   "source": [
    "temp = book_ratings.groupby('ISBN').agg(Average_Rating = ('Book-Rating', 'mean')) #media rispetto a ISBN\n",
    "merging_book_ratings = pd.merge(merging_books, temp, on = 'ISBN', how = 'left')\n",
    "merging_book_ratings.groupby(['Book-Title', 'Book-Author', 'Publisher'], as_index=False)[['Average_Rating']].mean().head(10) #media tra le edizioni"
   ]
  },
  {
   "cell_type": "markdown",
   "metadata": {},
   "source": [
    "## 6. For each book in `merged books` compute the minimum and maximum of the average ratings over all corresponding books in the `books` dataset.\n",
    "\n"
   ]
  },
  {
   "cell_type": "code",
   "execution_count": 23,
   "metadata": {
    "ExecuteTime": {
     "end_time": "2021-12-15T21:01:26.926420Z",
     "start_time": "2021-12-15T21:01:26.879382Z"
    },
    "scrolled": true
   },
   "outputs": [
    {
     "data": {
      "text/html": [
       "<div>\n",
       "<style scoped>\n",
       "    .dataframe tbody tr th:only-of-type {\n",
       "        vertical-align: middle;\n",
       "    }\n",
       "\n",
       "    .dataframe tbody tr th {\n",
       "        vertical-align: top;\n",
       "    }\n",
       "\n",
       "    .dataframe thead tr th {\n",
       "        text-align: left;\n",
       "    }\n",
       "</style>\n",
       "<table border=\"1\" class=\"dataframe\">\n",
       "  <thead>\n",
       "    <tr>\n",
       "      <th></th>\n",
       "      <th>Book-Title</th>\n",
       "      <th>Book-Author</th>\n",
       "      <th>Publisher</th>\n",
       "      <th colspan=\"2\" halign=\"left\">Average_Rating</th>\n",
       "    </tr>\n",
       "    <tr>\n",
       "      <th></th>\n",
       "      <th></th>\n",
       "      <th></th>\n",
       "      <th></th>\n",
       "      <th>min</th>\n",
       "      <th>max</th>\n",
       "    </tr>\n",
       "  </thead>\n",
       "  <tbody>\n",
       "    <tr>\n",
       "      <th>0</th>\n",
       "      <td>!%@ (A Nutshell handbook)</td>\n",
       "      <td>Donnalyn Frey</td>\n",
       "      <td>O'Reilly</td>\n",
       "      <td>0.000000</td>\n",
       "      <td>6.000000</td>\n",
       "    </tr>\n",
       "    <tr>\n",
       "      <th>1</th>\n",
       "      <td>'A Hell of a Place to Lose a Cow': An American...</td>\n",
       "      <td>Tim Brookes</td>\n",
       "      <td>National Geographic</td>\n",
       "      <td>0.000000</td>\n",
       "      <td>3.400000</td>\n",
       "    </tr>\n",
       "    <tr>\n",
       "      <th>2</th>\n",
       "      <td>10,000 dreams interpreted: A dictionary of dreams</td>\n",
       "      <td>Gustavus Hindman Miller</td>\n",
       "      <td>Barnes &amp;amp; Nobles Books</td>\n",
       "      <td>6.666667</td>\n",
       "      <td>7.250000</td>\n",
       "    </tr>\n",
       "    <tr>\n",
       "      <th>3</th>\n",
       "      <td>101 Famous Poems</td>\n",
       "      <td>Roy J. Cook</td>\n",
       "      <td>McGraw-Hill/Contemporary Books</td>\n",
       "      <td>0.000000</td>\n",
       "      <td>5.000000</td>\n",
       "    </tr>\n",
       "    <tr>\n",
       "      <th>4</th>\n",
       "      <td>15 Houseplants Even You Can't Kill</td>\n",
       "      <td>Joe Elder</td>\n",
       "      <td>Berkley Pub Group</td>\n",
       "      <td>0.000000</td>\n",
       "      <td>0.000000</td>\n",
       "    </tr>\n",
       "    <tr>\n",
       "      <th>5</th>\n",
       "      <td>158 POUND MARRIAGE</td>\n",
       "      <td>John Irving</td>\n",
       "      <td>Pocket</td>\n",
       "      <td>1.333333</td>\n",
       "      <td>3.500000</td>\n",
       "    </tr>\n",
       "    <tr>\n",
       "      <th>6</th>\n",
       "      <td>1700: Scenes from London Life</td>\n",
       "      <td>Maureen Waller</td>\n",
       "      <td>Four Walls Eight Windows</td>\n",
       "      <td>4.500000</td>\n",
       "      <td>8.000000</td>\n",
       "    </tr>\n",
       "    <tr>\n",
       "      <th>7</th>\n",
       "      <td>1921 : The Great Novel of the Irish Civil War ...</td>\n",
       "      <td>Morgan Llywelyn</td>\n",
       "      <td>Forge Books</td>\n",
       "      <td>0.000000</td>\n",
       "      <td>2.000000</td>\n",
       "    </tr>\n",
       "    <tr>\n",
       "      <th>8</th>\n",
       "      <td>2001. Odyssee im Weltraum.</td>\n",
       "      <td>Arthur C. Clarke</td>\n",
       "      <td>Heyne</td>\n",
       "      <td>0.000000</td>\n",
       "      <td>9.000000</td>\n",
       "    </tr>\n",
       "    <tr>\n",
       "      <th>9</th>\n",
       "      <td>2010: Odyssey Two</td>\n",
       "      <td>Arthur C. Clarke</td>\n",
       "      <td>Del Rey Books</td>\n",
       "      <td>0.000000</td>\n",
       "      <td>2.721519</td>\n",
       "    </tr>\n",
       "  </tbody>\n",
       "</table>\n",
       "</div>"
      ],
      "text/plain": [
       "                                          Book-Title              Book-Author  \\\n",
       "                                                                                \n",
       "0                          !%@ (A Nutshell handbook)            Donnalyn Frey   \n",
       "1  'A Hell of a Place to Lose a Cow': An American...              Tim Brookes   \n",
       "2  10,000 dreams interpreted: A dictionary of dreams  Gustavus Hindman Miller   \n",
       "3                                   101 Famous Poems              Roy J. Cook   \n",
       "4                 15 Houseplants Even You Can't Kill                Joe Elder   \n",
       "5                                 158 POUND MARRIAGE              John Irving   \n",
       "6                      1700: Scenes from London Life           Maureen Waller   \n",
       "7  1921 : The Great Novel of the Irish Civil War ...          Morgan Llywelyn   \n",
       "8                         2001. Odyssee im Weltraum.         Arthur C. Clarke   \n",
       "9                                  2010: Odyssey Two         Arthur C. Clarke   \n",
       "\n",
       "                        Publisher Average_Rating            \n",
       "                                             min       max  \n",
       "0                        O'Reilly       0.000000  6.000000  \n",
       "1             National Geographic       0.000000  3.400000  \n",
       "2       Barnes &amp; Nobles Books       6.666667  7.250000  \n",
       "3  McGraw-Hill/Contemporary Books       0.000000  5.000000  \n",
       "4               Berkley Pub Group       0.000000  0.000000  \n",
       "5                          Pocket       1.333333  3.500000  \n",
       "6        Four Walls Eight Windows       4.500000  8.000000  \n",
       "7                     Forge Books       0.000000  2.000000  \n",
       "8                           Heyne       0.000000  9.000000  \n",
       "9                   Del Rey Books       0.000000  2.721519  "
      ]
     },
     "execution_count": 23,
     "metadata": {},
     "output_type": "execute_result"
    }
   ],
   "source": [
    "merging_book_ratings.groupby(['Book-Title', 'Book-Author', 'Publisher'], as_index=False).agg({'Average_Rating' : ['min', 'max']}).head(10)"
   ]
  },
  {
   "cell_type": "markdown",
   "metadata": {},
   "source": [
    "Sfruttando il dataset del punto precedente facciamo un groupby e calcoliamo max e min del valore medio con la funzione agg"
   ]
  },
  {
   "cell_type": "markdown",
   "metadata": {},
   "source": [
    "## 7. For each book in `goodbooks`, compute the list of its authors. Assuming that the number of reviews with a text (column `work_text_reviews_count`) is split equally among all authors, find for each authors the total number of reviews with a text. We will call this quantity the *shared number of reviews with a text*.\n",
    "\n",
    "Creiamo una nuova colonna chiamata authors_splitted, ottenuta con la funzione split, che contiene gli autori come lista per ogni libro.\n",
    "Aggiungiamo poi la colonna shared_number_of_reviews_with_a_text calcolata dividendo work_text_reviews_count per in numero di autori di ogni libro (lunghezza della lista splitted_authors).\n",
    "\n",
    "Costruiamo poi un nuovo dataset con una riga per ogni coppia libro-autore della lista splitted_authors. Infine facciamo un group by e una sum rispetto ad ogni attore per ottenere il shared_number_of_reviews_with_a_text di ogni scrittore."
   ]
  },
  {
   "cell_type": "code",
   "execution_count": 24,
   "metadata": {
    "ExecuteTime": {
     "end_time": "2021-12-15T21:01:26.974388Z",
     "start_time": "2021-12-15T21:01:26.929417Z"
    }
   },
   "outputs": [
    {
     "data": {
      "text/html": [
       "<div>\n",
       "<style scoped>\n",
       "    .dataframe tbody tr th:only-of-type {\n",
       "        vertical-align: middle;\n",
       "    }\n",
       "\n",
       "    .dataframe tbody tr th {\n",
       "        vertical-align: top;\n",
       "    }\n",
       "\n",
       "    .dataframe thead th {\n",
       "        text-align: right;\n",
       "    }\n",
       "</style>\n",
       "<table border=\"1\" class=\"dataframe\">\n",
       "  <thead>\n",
       "    <tr style=\"text-align: right;\">\n",
       "      <th></th>\n",
       "      <th>authors_splitted</th>\n",
       "      <th>shared_number_of_reviews_with_a_text</th>\n",
       "    </tr>\n",
       "  </thead>\n",
       "  <tbody>\n",
       "    <tr>\n",
       "      <th>0</th>\n",
       "      <td>Alan R. Clarke</td>\n",
       "      <td>27890.50</td>\n",
       "    </tr>\n",
       "    <tr>\n",
       "      <th>1</th>\n",
       "      <td>Aldous Huxley</td>\n",
       "      <td>20095.00</td>\n",
       "    </tr>\n",
       "    <tr>\n",
       "      <th>2</th>\n",
       "      <td>Alice Sebold</td>\n",
       "      <td>36642.00</td>\n",
       "    </tr>\n",
       "    <tr>\n",
       "      <th>3</th>\n",
       "      <td>Anne Frank</td>\n",
       "      <td>6941.67</td>\n",
       "    </tr>\n",
       "    <tr>\n",
       "      <th>4</th>\n",
       "      <td>Antoine de Saint-ExupÃ©ry</td>\n",
       "      <td>6134.25</td>\n",
       "    </tr>\n",
       "    <tr>\n",
       "      <th>5</th>\n",
       "      <td>Arthur Golden</td>\n",
       "      <td>25605.00</td>\n",
       "    </tr>\n",
       "    <tr>\n",
       "      <th>6</th>\n",
       "      <td>Audrey Niffenegger</td>\n",
       "      <td>43382.00</td>\n",
       "    </tr>\n",
       "    <tr>\n",
       "      <th>7</th>\n",
       "      <td>B.M. Mooyaart-Doubleday</td>\n",
       "      <td>6941.67</td>\n",
       "    </tr>\n",
       "    <tr>\n",
       "      <th>8</th>\n",
       "      <td>Bernard Knox</td>\n",
       "      <td>1620.20</td>\n",
       "    </tr>\n",
       "    <tr>\n",
       "      <th>9</th>\n",
       "      <td>Bram Stoker</td>\n",
       "      <td>5754.33</td>\n",
       "    </tr>\n",
       "  </tbody>\n",
       "</table>\n",
       "</div>"
      ],
      "text/plain": [
       "            authors_splitted  shared_number_of_reviews_with_a_text\n",
       "0             Alan R. Clarke                              27890.50\n",
       "1              Aldous Huxley                              20095.00\n",
       "2               Alice Sebold                              36642.00\n",
       "3                 Anne Frank                               6941.67\n",
       "4  Antoine de Saint-ExupÃ©ry                               6134.25\n",
       "5              Arthur Golden                              25605.00\n",
       "6         Audrey Niffenegger                              43382.00\n",
       "7    B.M. Mooyaart-Doubleday                               6941.67\n",
       "8               Bernard Knox                               1620.20\n",
       "9                Bram Stoker                               5754.33"
      ]
     },
     "execution_count": 24,
     "metadata": {},
     "output_type": "execute_result"
    }
   ],
   "source": [
    "goodbooks['authors_splitted'] = goodbooks['authors'].str.split(',')\n",
    "goodbooks['shared_number_of_reviews_with_a_text'] = round(goodbooks['work_text_reviews_count'] / goodbooks['authors_splitted'].apply(len), 2)\n",
    "\n",
    "goodbooks_exploded = goodbooks.explode('authors_splitted')\n",
    "goodbooks_exploded['authors_splitted'] = goodbooks_exploded['authors_splitted'].str.strip() #rimozione spazi negli autori\n",
    "goodbooks_exploded.groupby(['authors_splitted'], as_index=False)['shared_number_of_reviews_with_a_text'].sum().head(10)"
   ]
  },
  {
   "cell_type": "markdown",
   "metadata": {},
   "source": [
    "## 8. For each year of publication, determine the author that has the largest value of the shared number of reviews with a text.\n",
    "\n",
    "Da spiegare bene..\n",
    "\n",
    "Infine creo un altro dataset temporaneo chiamato authors_highest_reviews cosí da poter usare set_index per avere una vista piu compatta per gli anni con autori a pari merito."
   ]
  },
  {
   "cell_type": "code",
   "execution_count": 25,
   "metadata": {
    "ExecuteTime": {
     "end_time": "2021-12-15T21:01:27.006415Z",
     "start_time": "2021-12-15T21:01:26.976415Z"
    }
   },
   "outputs": [
    {
     "data": {
      "text/html": [
       "<div>\n",
       "<style scoped>\n",
       "    .dataframe tbody tr th:only-of-type {\n",
       "        vertical-align: middle;\n",
       "    }\n",
       "\n",
       "    .dataframe tbody tr th {\n",
       "        vertical-align: top;\n",
       "    }\n",
       "\n",
       "    .dataframe thead th {\n",
       "        text-align: right;\n",
       "    }\n",
       "</style>\n",
       "<table border=\"1\" class=\"dataframe\">\n",
       "  <thead>\n",
       "    <tr style=\"text-align: right;\">\n",
       "      <th></th>\n",
       "      <th></th>\n",
       "      <th></th>\n",
       "    </tr>\n",
       "    <tr>\n",
       "      <th>original_publication_year</th>\n",
       "      <th>shared_number_of_reviews_with_a_text</th>\n",
       "      <th>authors_splitted</th>\n",
       "    </tr>\n",
       "  </thead>\n",
       "  <tbody>\n",
       "    <tr>\n",
       "      <th rowspan=\"5\" valign=\"top\">-720</th>\n",
       "      <th rowspan=\"5\" valign=\"top\">1620.2</th>\n",
       "      <th>Bernard Knox</th>\n",
       "    </tr>\n",
       "    <tr>\n",
       "      <th>E.V. Rieu</th>\n",
       "    </tr>\n",
       "    <tr>\n",
       "      <th>FrÃ©dÃ©ric Mugler</th>\n",
       "    </tr>\n",
       "    <tr>\n",
       "      <th>Homer</th>\n",
       "    </tr>\n",
       "    <tr>\n",
       "      <th>Robert Fagles</th>\n",
       "    </tr>\n",
       "    <tr>\n",
       "      <th>...</th>\n",
       "      <th>...</th>\n",
       "      <th>...</th>\n",
       "    </tr>\n",
       "    <tr>\n",
       "      <th>2009</th>\n",
       "      <th>88538.0</th>\n",
       "      <th>Suzanne Collins</th>\n",
       "    </tr>\n",
       "    <tr>\n",
       "      <th>2010</th>\n",
       "      <th>96274.0</th>\n",
       "      <th>Suzanne Collins</th>\n",
       "    </tr>\n",
       "    <tr>\n",
       "      <th>2011</th>\n",
       "      <th>103489.0</th>\n",
       "      <th>E.L. James</th>\n",
       "    </tr>\n",
       "    <tr>\n",
       "      <th>2012</th>\n",
       "      <th>140739.0</th>\n",
       "      <th>John Green</th>\n",
       "    </tr>\n",
       "    <tr>\n",
       "      <th>2015</th>\n",
       "      <th>93600.0</th>\n",
       "      <th>Paula Hawkins</th>\n",
       "    </tr>\n",
       "  </tbody>\n",
       "</table>\n",
       "<p>88 rows × 0 columns</p>\n",
       "</div>"
      ],
      "text/plain": [
       "Empty DataFrame\n",
       "Columns: []\n",
       "Index: [(-720, 1620.2, Bernard Knox), (-720, 1620.2, E.V. Rieu), (-720, 1620.2, FrÃ©dÃ©ric Mugler), (-720, 1620.2, Homer), (-720, 1620.2, Robert Fagles), (1595, 7389.0, Robert           Jackson), (1595, 7389.0, William Shakespeare), (1811, 3842.0, Jane Austen), (1811, 3842.0, Ros Ballaster), (1811, 3842.0, Tony Tanner), (1813, 49152.0, Jane Austen), (1818, 6664.33, Mary Wollstonecraft Shelley), (1818, 6664.33, Maurice Hindle), (1818, 6664.33, Percy Bysshe Shelley), (1847, 15606.0, Charlotte BrontÃ«), (1847, 15606.0, Michael Mason), (1859, 4364.33, Charles Dickens), (1859, 4364.33, Hablot Knight Browne), (1859, 4364.33, Richard Maxwell), (1868, 17090.0, Louisa May Alcott), (1884, 4149.33, Guy Cardwell), (1884, 4149.33, John Seelye), (1884, 4149.33, Mark Twain), (1891, 9823.5, Jeffrey Eugenides), (1891, 9823.5, Oscar Wilde), (1897, 5754.33, Bram Stoker), (1897, 5754.33, David J. Skal), (1897, 5754.33, Nina Auerbach), (1911, 13054.0, Frances Hodgson Burnett), (1925, 51992.0, F. Scott Fitzgerald), (1932, 20095.0, Aldous Huxley), (1936, 16050.0, Margaret Mitchell), (1937, 37653.0, J.R.R. Tolkien), (1945, 35472.0, George Orwell), (1946, 6134.25, Antoine de Saint-ExupÃ©ry), (1946, 6134.25, Dom Marcos Barbosa), (1946, 6134.25, Melina Karakosta), (1946, 6134.25, Richard Howard), (1947, 6941.67, Anne Frank), (1947, 6941.67, B.M. Mooyaart-Doubleday), (1947, 6941.67, Eleanor Roosevelt), (1949, 15172.67, CelÃ¢l Ãster), (1949, 15172.67, Erich Fromm), (1949, 15172.67, George Orwell), (1950, 15186.0, C.S. Lewis), (1951, 44920.0, J.D. Salinger), (1952, 4348.0, E.B. White), (1952, 4348.0, Garth Williams), (1952, 4348.0, Rosemary Wells), (1953, 30694.0, Ray Bradbury), (1954, 26886.0, William Golding), (1958, 11000.5, Elie Wiesel), (1958, 11000.5, Marion Wiesel), (1960, 72586.0, Harper Lee), (1964, 14368.0, Shel Silverstein), (1967, 22662.0, S.E. Hinton), (1969, 19646.0, Kurt Vonnegut Jr.), (1973, 15630.0, William Goldman), (1974, 9234.0, Shel Silverstein), (1977, 14936.0, Stephen King), (1979, 20345.0, Douglas Adams), (1985, 38054.0, Orson Scott Card), (1988, 27890.5, Alan R. Clarke), (1988, 27890.5, Paulo Coelho), (1989, 4239.0, John Grisham), (1990, 8143.0, Michael Crichton), (1993, 54084.0, Lois Lowry), (1995, 14915.0, Philip Pullman), (1996, 46205.0, George R.R. Martin), (1997, 37933.5, J.K. Rowling), (1997, 37933.5, Mary GrandPrÃ©), (1998, 17086.0, J.K. Rowling), (1998, 17086.0, Mary GrandPrÃ©), (1999, 47116.0, Stephen Chbosky), (2000, 25112.0, Dan Brown), (2001, 42962.0, Yann Martel), (2002, 36642.0, Alice Sebold), (2003, 59730.0, Khaled Hosseini), (2004, 30719.0, Jodi Picoult), (2005, 95009.0, Stephenie Meyer), (2006, 55732.0, Sara Gruen), (2007, 51589.0, Cassandra Clare), (2008, 155254.0, Suzanne Collins), (2009, 88538.0, Suzanne Collins), (2010, 96274.0, Suzanne Collins), (2011, 103489.0, E.L. James), (2012, 140739.0, John Green), (2015, 93600.0, Paula Hawkins)]\n",
       "\n",
       "[88 rows x 0 columns]"
      ]
     },
     "execution_count": 25,
     "metadata": {},
     "output_type": "execute_result"
    }
   ],
   "source": [
    "temp = goodbooks_exploded.groupby(['original_publication_year', 'authors_splitted'], as_index=False).sum()\n",
    "idx = temp.groupby(['original_publication_year'])['shared_number_of_reviews_with_a_text'].transform(max) == temp['shared_number_of_reviews_with_a_text']\n",
    "\n",
    "authors_highest_reviews = temp[idx] [['original_publication_year', 'shared_number_of_reviews_with_a_text', 'authors_splitted']]\n",
    "authors_highest_reviews.set_index(['original_publication_year', 'shared_number_of_reviews_with_a_text', 'authors_splitted'])"
   ]
  },
  {
   "cell_type": "markdown",
   "metadata": {},
   "source": [
    "## 9. Assuming that there are no errors in the ISBN fields, find the books in both datasets, and compute the difference of average rating according to the ratings and the goodratings datasets\n",
    "\n",
    "Scalo i voti del dataset Books perché in scala 10"
   ]
  },
  {
   "cell_type": "code",
   "execution_count": 26,
   "metadata": {},
   "outputs": [
    {
     "name": "stdout",
     "output_type": "stream",
     "text": [
      "book_ratings:    10 0 1149780\n",
      "goodbooks_rating: 5 2 99\n"
     ]
    }
   ],
   "source": [
    "print('book_ratings:   ', book_ratings['Book-Rating'].max(), book_ratings['Book-Rating'].min(), book_ratings['Book-Rating'].count())\n",
    "print('goodbooks_rating:', goodbooks_ratings['rating'].max(), goodbooks_ratings['rating'].min(), goodbooks_ratings['rating'].count())"
   ]
  },
  {
   "cell_type": "code",
   "execution_count": 27,
   "metadata": {
    "ExecuteTime": {
     "end_time": "2021-12-15T21:01:27.164387Z",
     "start_time": "2021-12-15T21:01:27.007385Z"
    }
   },
   "outputs": [
    {
     "data": {
      "text/html": [
       "<div>\n",
       "<style scoped>\n",
       "    .dataframe tbody tr th:only-of-type {\n",
       "        vertical-align: middle;\n",
       "    }\n",
       "\n",
       "    .dataframe tbody tr th {\n",
       "        vertical-align: top;\n",
       "    }\n",
       "\n",
       "    .dataframe thead th {\n",
       "        text-align: right;\n",
       "    }\n",
       "</style>\n",
       "<table border=\"1\" class=\"dataframe\">\n",
       "  <thead>\n",
       "    <tr style=\"text-align: right;\">\n",
       "      <th></th>\n",
       "      <th>ISBN</th>\n",
       "      <th>Book-Title</th>\n",
       "      <th>Book_Average_Rating</th>\n",
       "      <th>Goodbook_Average_Rating</th>\n",
       "      <th>Difference</th>\n",
       "    </tr>\n",
       "  </thead>\n",
       "  <tbody>\n",
       "    <tr>\n",
       "      <th>0</th>\n",
       "      <td>014028009X</td>\n",
       "      <td>Bridget Jones's Diary</td>\n",
       "      <td>1.875926</td>\n",
       "      <td>3.75</td>\n",
       "      <td>-1.874074</td>\n",
       "    </tr>\n",
       "    <tr>\n",
       "      <th>1</th>\n",
       "      <td>043965548X</td>\n",
       "      <td>Harry Potter and the Prisoner of Azkaban (Harr...</td>\n",
       "      <td>1.766667</td>\n",
       "      <td>4.53</td>\n",
       "      <td>-2.763333</td>\n",
       "    </tr>\n",
       "    <tr>\n",
       "      <th>2</th>\n",
       "      <td>1400032717</td>\n",
       "      <td>The Curious Incident of the Dog in the Night-T...</td>\n",
       "      <td>2.406593</td>\n",
       "      <td>3.85</td>\n",
       "      <td>-1.443407</td>\n",
       "    </tr>\n",
       "    <tr>\n",
       "      <th>3</th>\n",
       "      <td>1594480001</td>\n",
       "      <td>The Kite Runner</td>\n",
       "      <td>1.200000</td>\n",
       "      <td>4.26</td>\n",
       "      <td>-3.060000</td>\n",
       "    </tr>\n",
       "    <tr>\n",
       "      <th>4</th>\n",
       "      <td>014038572X</td>\n",
       "      <td>The Outsiders (Now in Speak!)</td>\n",
       "      <td>2.230337</td>\n",
       "      <td>4.06</td>\n",
       "      <td>-1.829663</td>\n",
       "    </tr>\n",
       "  </tbody>\n",
       "</table>\n",
       "</div>"
      ],
      "text/plain": [
       "         ISBN                                         Book-Title  \\\n",
       "0  014028009X                              Bridget Jones's Diary   \n",
       "1  043965548X  Harry Potter and the Prisoner of Azkaban (Harr...   \n",
       "2  1400032717  The Curious Incident of the Dog in the Night-T...   \n",
       "3  1594480001                                    The Kite Runner   \n",
       "4  014038572X                      The Outsiders (Now in Speak!)   \n",
       "\n",
       "   Book_Average_Rating  Goodbook_Average_Rating  Difference  \n",
       "0             1.875926                     3.75   -1.874074  \n",
       "1             1.766667                     4.53   -2.763333  \n",
       "2             2.406593                     3.85   -1.443407  \n",
       "3             1.200000                     4.26   -3.060000  \n",
       "4             2.230337                     4.06   -1.829663  "
      ]
     },
     "execution_count": 27,
     "metadata": {},
     "output_type": "execute_result"
    }
   ],
   "source": [
    "books_goodbooks = pd.merge(books_avg, goodbooks, left_on = 'ISBN', right_on = 'isbn')\n",
    "\n",
    "books_goodbooks['Book_Average_Rating'] = books_goodbooks['Book_Average_Rating'] / 2\n",
    "books_goodbooks['Difference'] = books_goodbooks['Book_Average_Rating'] - books_goodbooks['average_rating']\n",
    "\n",
    "books_goodbooks.rename(columns={'average_rating': 'Goodbook_Average_Rating'}, inplace=True)\n",
    "books_goodbooks[['ISBN', 'Book-Title', 'Book_Average_Rating', 'Goodbook_Average_Rating', 'Difference']]"
   ]
  },
  {
   "cell_type": "markdown",
   "metadata": {},
   "source": [
    "## 10. Split the users dataset according to the age. One dataset contains the users with unknown age, one with age 0-14, one with age 15-24, one with age 25-34, and so on.\n",
    "\n",
    "Iniziamo valutando come sono distribuite le eta degli utenti del dataset `users` facendo un raggruppamento rispetto ad intervalli di etá di 10 anni. Per farlo utilizziamo la funzione `groupby` rispetto al campo `Age` opportunamente diviso con la funzione `cut` in intervalli.\n",
    "Gli intervalli dei bin sono stati ottenuti con la funzione `arange` di numpy che restituisce un array di valori equidistanti."
   ]
  },
  {
   "cell_type": "code",
   "execution_count": 28,
   "metadata": {
    "scrolled": false
   },
   "outputs": [
    {
     "data": {
      "text/html": [
       "<div>\n",
       "<style scoped>\n",
       "    .dataframe tbody tr th:only-of-type {\n",
       "        vertical-align: middle;\n",
       "    }\n",
       "\n",
       "    .dataframe tbody tr th {\n",
       "        vertical-align: top;\n",
       "    }\n",
       "\n",
       "    .dataframe thead th {\n",
       "        text-align: right;\n",
       "    }\n",
       "</style>\n",
       "<table border=\"1\" class=\"dataframe\">\n",
       "  <thead>\n",
       "    <tr style=\"text-align: right;\">\n",
       "      <th></th>\n",
       "      <th>Count</th>\n",
       "    </tr>\n",
       "    <tr>\n",
       "      <th>Age_bin</th>\n",
       "      <th></th>\n",
       "    </tr>\n",
       "  </thead>\n",
       "  <tbody>\n",
       "    <tr>\n",
       "      <th>(0, 14]</th>\n",
       "      <td>3897</td>\n",
       "    </tr>\n",
       "    <tr>\n",
       "      <th>(14, 24]</th>\n",
       "      <td>40001</td>\n",
       "    </tr>\n",
       "    <tr>\n",
       "      <th>(24, 34]</th>\n",
       "      <td>50767</td>\n",
       "    </tr>\n",
       "    <tr>\n",
       "      <th>(34, 44]</th>\n",
       "      <td>32690</td>\n",
       "    </tr>\n",
       "    <tr>\n",
       "      <th>(44, 54]</th>\n",
       "      <td>23152</td>\n",
       "    </tr>\n",
       "    <tr>\n",
       "      <th>(54, 64]</th>\n",
       "      <td>12493</td>\n",
       "    </tr>\n",
       "    <tr>\n",
       "      <th>(64, 74]</th>\n",
       "      <td>3596</td>\n",
       "    </tr>\n",
       "    <tr>\n",
       "      <th>(74, 84]</th>\n",
       "      <td>615</td>\n",
       "    </tr>\n",
       "    <tr>\n",
       "      <th>(84, 94]</th>\n",
       "      <td>83</td>\n",
       "    </tr>\n",
       "    <tr>\n",
       "      <th>(94, 104]</th>\n",
       "      <td>278</td>\n",
       "    </tr>\n",
       "    <tr>\n",
       "      <th>(104, 114]</th>\n",
       "      <td>20</td>\n",
       "    </tr>\n",
       "    <tr>\n",
       "      <th>(114, 124]</th>\n",
       "      <td>23</td>\n",
       "    </tr>\n",
       "    <tr>\n",
       "      <th>(124, 134]</th>\n",
       "      <td>5</td>\n",
       "    </tr>\n",
       "    <tr>\n",
       "      <th>(134, 144]</th>\n",
       "      <td>9</td>\n",
       "    </tr>\n",
       "    <tr>\n",
       "      <th>(144, 154]</th>\n",
       "      <td>11</td>\n",
       "    </tr>\n",
       "    <tr>\n",
       "      <th>(154, 164]</th>\n",
       "      <td>4</td>\n",
       "    </tr>\n",
       "    <tr>\n",
       "      <th>(164, 174]</th>\n",
       "      <td>2</td>\n",
       "    </tr>\n",
       "  </tbody>\n",
       "</table>\n",
       "</div>"
      ],
      "text/plain": [
       "            Count\n",
       "Age_bin          \n",
       "(0, 14]      3897\n",
       "(14, 24]    40001\n",
       "(24, 34]    50767\n",
       "(34, 44]    32690\n",
       "(44, 54]    23152\n",
       "(54, 64]    12493\n",
       "(64, 74]     3596\n",
       "(74, 84]      615\n",
       "(84, 94]       83\n",
       "(94, 104]     278\n",
       "(104, 114]     20\n",
       "(114, 124]     23\n",
       "(124, 134]      5\n",
       "(134, 144]      9\n",
       "(144, 154]     11\n",
       "(154, 164]      4\n",
       "(164, 174]      2"
      ]
     },
     "execution_count": 28,
     "metadata": {},
     "output_type": "execute_result"
    }
   ],
   "source": [
    "interval = np.arange(14, 180, 10)\n",
    "users['Age_bin'] = pd.cut(users['Age'], np.append(0, interval))\n",
    "\n",
    "distrib_eta = users.groupby('Age_bin').count() [['User-ID']]\n",
    "distrib_eta.rename(columns={'User-ID':'Count'}, inplace=True)\n",
    "distrib_eta"
   ]
  },
  {
   "cell_type": "markdown",
   "metadata": {},
   "source": [
    "Dato che per le etá avanzate il trend é decrescente fino a all'intervallo `(84, 94]` decidiamo di prendere questo come ultimo intervallo affidabile. Creiamo quindi un dizionario di dataframes per ogni fascia di etá da 0 a 94 anni, per tutti gli utenti che presentano un'etá maggiore di 94 anni creiamo un dataframe chiamato `altre_eta` "
   ]
  },
  {
   "cell_type": "code",
   "execution_count": 29,
   "metadata": {
    "ExecuteTime": {
     "end_time": "2021-12-15T21:01:27.339383Z",
     "start_time": "2021-12-15T21:01:27.165382Z"
    }
   },
   "outputs": [
    {
     "data": {
      "text/html": [
       "<div>\n",
       "<style scoped>\n",
       "    .dataframe tbody tr th:only-of-type {\n",
       "        vertical-align: middle;\n",
       "    }\n",
       "\n",
       "    .dataframe tbody tr th {\n",
       "        vertical-align: top;\n",
       "    }\n",
       "\n",
       "    .dataframe thead th {\n",
       "        text-align: right;\n",
       "    }\n",
       "</style>\n",
       "<table border=\"1\" class=\"dataframe\">\n",
       "  <thead>\n",
       "    <tr style=\"text-align: right;\">\n",
       "      <th></th>\n",
       "      <th>Location</th>\n",
       "      <th>Age</th>\n",
       "      <th>City</th>\n",
       "      <th>Region</th>\n",
       "      <th>Country</th>\n",
       "      <th>Age_bin</th>\n",
       "    </tr>\n",
       "    <tr>\n",
       "      <th>User-ID</th>\n",
       "      <th></th>\n",
       "      <th></th>\n",
       "      <th></th>\n",
       "      <th></th>\n",
       "      <th></th>\n",
       "      <th></th>\n",
       "    </tr>\n",
       "  </thead>\n",
       "  <tbody>\n",
       "    <tr>\n",
       "      <th>2</th>\n",
       "      <td>stockton, california, usa</td>\n",
       "      <td>18</td>\n",
       "      <td>stockton</td>\n",
       "      <td>california</td>\n",
       "      <td>usa</td>\n",
       "      <td>(14, 24]</td>\n",
       "    </tr>\n",
       "    <tr>\n",
       "      <th>4</th>\n",
       "      <td>porto, v.n.gaia, portugal</td>\n",
       "      <td>17</td>\n",
       "      <td>porto</td>\n",
       "      <td>v.n.gaia</td>\n",
       "      <td>portugal</td>\n",
       "      <td>(14, 24]</td>\n",
       "    </tr>\n",
       "    <tr>\n",
       "      <th>20</th>\n",
       "      <td>langhorne, pennsylvania, usa</td>\n",
       "      <td>19</td>\n",
       "      <td>langhorne</td>\n",
       "      <td>pennsylvania</td>\n",
       "      <td>usa</td>\n",
       "      <td>(14, 24]</td>\n",
       "    </tr>\n",
       "    <tr>\n",
       "      <th>24</th>\n",
       "      <td>cologne, nrw, germany</td>\n",
       "      <td>19</td>\n",
       "      <td>cologne</td>\n",
       "      <td>nrw</td>\n",
       "      <td>germany</td>\n",
       "      <td>(14, 24]</td>\n",
       "    </tr>\n",
       "    <tr>\n",
       "      <th>28</th>\n",
       "      <td>freiburg, baden-wuerttemberg, germany</td>\n",
       "      <td>24</td>\n",
       "      <td>freiburg</td>\n",
       "      <td>baden-wuerttemberg</td>\n",
       "      <td>germany</td>\n",
       "      <td>(14, 24]</td>\n",
       "    </tr>\n",
       "    <tr>\n",
       "      <th>...</th>\n",
       "      <td>...</td>\n",
       "      <td>...</td>\n",
       "      <td>...</td>\n",
       "      <td>...</td>\n",
       "      <td>...</td>\n",
       "      <td>...</td>\n",
       "    </tr>\n",
       "    <tr>\n",
       "      <th>278835</th>\n",
       "      <td>karachi, sindh, pakistan</td>\n",
       "      <td>18</td>\n",
       "      <td>karachi</td>\n",
       "      <td>sindh</td>\n",
       "      <td>pakistan</td>\n",
       "      <td>(14, 24]</td>\n",
       "    </tr>\n",
       "    <tr>\n",
       "      <th>278838</th>\n",
       "      <td>massillon, ohio, usa</td>\n",
       "      <td>15</td>\n",
       "      <td>massillon</td>\n",
       "      <td>ohio</td>\n",
       "      <td>usa</td>\n",
       "      <td>(14, 24]</td>\n",
       "    </tr>\n",
       "    <tr>\n",
       "      <th>278846</th>\n",
       "      <td>toronto, ontario, canada</td>\n",
       "      <td>23</td>\n",
       "      <td>toronto</td>\n",
       "      <td>ontario</td>\n",
       "      <td>canada</td>\n",
       "      <td>(14, 24]</td>\n",
       "    </tr>\n",
       "    <tr>\n",
       "      <th>278849</th>\n",
       "      <td>georgetown, ontario, canada</td>\n",
       "      <td>23</td>\n",
       "      <td>georgetown</td>\n",
       "      <td>ontario</td>\n",
       "      <td>canada</td>\n",
       "      <td>(14, 24]</td>\n",
       "    </tr>\n",
       "    <tr>\n",
       "      <th>278853</th>\n",
       "      <td>stranraer, n/a, united kingdom</td>\n",
       "      <td>17</td>\n",
       "      <td>stranraer</td>\n",
       "      <td>n/a</td>\n",
       "      <td>united kingdom</td>\n",
       "      <td>(14, 24]</td>\n",
       "    </tr>\n",
       "  </tbody>\n",
       "</table>\n",
       "<p>40001 rows × 6 columns</p>\n",
       "</div>"
      ],
      "text/plain": [
       "                                      Location  Age        City  \\\n",
       "User-ID                                                           \n",
       "2                    stockton, california, usa   18    stockton   \n",
       "4                    porto, v.n.gaia, portugal   17       porto   \n",
       "20                langhorne, pennsylvania, usa   19   langhorne   \n",
       "24                       cologne, nrw, germany   19     cologne   \n",
       "28       freiburg, baden-wuerttemberg, germany   24    freiburg   \n",
       "...                                        ...  ...         ...   \n",
       "278835                karachi, sindh, pakistan   18     karachi   \n",
       "278838                    massillon, ohio, usa   15   massillon   \n",
       "278846                toronto, ontario, canada   23     toronto   \n",
       "278849             georgetown, ontario, canada   23  georgetown   \n",
       "278853          stranraer, n/a, united kingdom   17   stranraer   \n",
       "\n",
       "                      Region          Country   Age_bin  \n",
       "User-ID                                                  \n",
       "2                 california              usa  (14, 24]  \n",
       "4                   v.n.gaia         portugal  (14, 24]  \n",
       "20              pennsylvania              usa  (14, 24]  \n",
       "24                       nrw          germany  (14, 24]  \n",
       "28        baden-wuerttemberg          germany  (14, 24]  \n",
       "...                      ...              ...       ...  \n",
       "278835                 sindh         pakistan  (14, 24]  \n",
       "278838                  ohio              usa  (14, 24]  \n",
       "278846               ontario           canada  (14, 24]  \n",
       "278849               ontario           canada  (14, 24]  \n",
       "278853                   n/a   united kingdom  (14, 24]  \n",
       "\n",
       "[40001 rows x 6 columns]"
      ]
     },
     "execution_count": 29,
     "metadata": {},
     "output_type": "execute_result"
    }
   ],
   "source": [
    "interval = np.arange(14, 95, 10)\n",
    "users['Age_bin'] = pd.cut(users['Age'], np.append(0, interval)).astype(str)\n",
    "users['Age_bin'].replace('nan', 'altre_eta', inplace = True)\n",
    "eta = users.groupby('Age_bin')\n",
    "\n",
    "users_dict = {}\n",
    "\n",
    "for bin_eta in eta.groups.keys():\n",
    "    users_dict[bin_eta] = eta.get_group(bin_eta)\n",
    "\n",
    "users_dict['(14, 24]'].set_index('User-ID')"
   ]
  },
  {
   "cell_type": "markdown",
   "metadata": {},
   "source": [
    "Verifichiamo che corrisponda il numero di utenti nel dataframe `users` con il numero di utenti in `users_dict`"
   ]
  },
  {
   "cell_type": "code",
   "execution_count": 30,
   "metadata": {},
   "outputs": [
    {
     "name": "stdout",
     "output_type": "stream",
     "text": [
      "(278858, 7)\n",
      "(278858, 7)\n"
     ]
    }
   ],
   "source": [
    "print(pd.concat(users_dict).shape)\n",
    "print(users.shape)"
   ]
  },
  {
   "cell_type": "markdown",
   "metadata": {},
   "source": [
    "## 11. Find the books that appear only in the goodbooks datasets."
   ]
  },
  {
   "cell_type": "code",
   "execution_count": 31,
   "metadata": {
    "ExecuteTime": {
     "end_time": "2021-12-15T21:01:27.513422Z",
     "start_time": "2021-12-15T21:01:27.484387Z"
    }
   },
   "outputs": [
    {
     "data": {
      "text/html": [
       "<div>\n",
       "<style scoped>\n",
       "    .dataframe tbody tr th:only-of-type {\n",
       "        vertical-align: middle;\n",
       "    }\n",
       "\n",
       "    .dataframe tbody tr th {\n",
       "        vertical-align: top;\n",
       "    }\n",
       "\n",
       "    .dataframe thead th {\n",
       "        text-align: right;\n",
       "    }\n",
       "</style>\n",
       "<table border=\"1\" class=\"dataframe\">\n",
       "  <thead>\n",
       "    <tr style=\"text-align: right;\">\n",
       "      <th></th>\n",
       "      <th>isbn</th>\n",
       "      <th>original_title</th>\n",
       "    </tr>\n",
       "  </thead>\n",
       "  <tbody>\n",
       "    <tr>\n",
       "      <th>0</th>\n",
       "      <td>439023483</td>\n",
       "      <td>The Hunger Games</td>\n",
       "    </tr>\n",
       "    <tr>\n",
       "      <th>1</th>\n",
       "      <td>439554934</td>\n",
       "      <td>Harry Potter and the Philosopher's Stone</td>\n",
       "    </tr>\n",
       "    <tr>\n",
       "      <th>2</th>\n",
       "      <td>316015849</td>\n",
       "      <td>Twilight</td>\n",
       "    </tr>\n",
       "    <tr>\n",
       "      <th>3</th>\n",
       "      <td>61120081</td>\n",
       "      <td>To Kill a Mockingbird</td>\n",
       "    </tr>\n",
       "    <tr>\n",
       "      <th>4</th>\n",
       "      <td>743273567</td>\n",
       "      <td>The Great Gatsby</td>\n",
       "    </tr>\n",
       "    <tr>\n",
       "      <th>5</th>\n",
       "      <td>525478817</td>\n",
       "      <td>The Fault in Our Stars</td>\n",
       "    </tr>\n",
       "    <tr>\n",
       "      <th>6</th>\n",
       "      <td>618260307</td>\n",
       "      <td>The Hobbit or There and Back Again</td>\n",
       "    </tr>\n",
       "    <tr>\n",
       "      <th>7</th>\n",
       "      <td>316769177</td>\n",
       "      <td>The Catcher in the Rye</td>\n",
       "    </tr>\n",
       "    <tr>\n",
       "      <th>8</th>\n",
       "      <td>1416524797</td>\n",
       "      <td>Angels &amp; Demons</td>\n",
       "    </tr>\n",
       "    <tr>\n",
       "      <th>9</th>\n",
       "      <td>679783261</td>\n",
       "      <td>Pride and Prejudice</td>\n",
       "    </tr>\n",
       "  </tbody>\n",
       "</table>\n",
       "</div>"
      ],
      "text/plain": [
       "         isbn                            original_title\n",
       "0   439023483                          The Hunger Games\n",
       "1   439554934  Harry Potter and the Philosopher's Stone\n",
       "2   316015849                                  Twilight\n",
       "3    61120081                     To Kill a Mockingbird\n",
       "4   743273567                          The Great Gatsby\n",
       "5   525478817                    The Fault in Our Stars\n",
       "6   618260307        The Hobbit or There and Back Again\n",
       "7   316769177                    The Catcher in the Rye\n",
       "8  1416524797                          Angels & Demons \n",
       "9   679783261                       Pride and Prejudice"
      ]
     },
     "execution_count": 31,
     "metadata": {},
     "output_type": "execute_result"
    }
   ],
   "source": [
    "goodbooks[~goodbooks['isbn'].isin(books_goodbooks['ISBN'])].head(10) [['isbn', 'original_title']]"
   ]
  },
  {
   "cell_type": "markdown",
   "metadata": {},
   "source": [
    "## 12. Assuming that each pair (author, title) identifies a book, for each book find the number of times it appears in the books dataset. Which books appear the most times?"
   ]
  },
  {
   "cell_type": "code",
   "execution_count": 32,
   "metadata": {
    "ExecuteTime": {
     "end_time": "2021-12-15T21:01:28.342329Z",
     "start_time": "2021-12-15T21:01:27.515385Z"
    },
    "scrolled": false
   },
   "outputs": [
    {
     "data": {
      "text/html": [
       "<div>\n",
       "<style scoped>\n",
       "    .dataframe tbody tr th:only-of-type {\n",
       "        vertical-align: middle;\n",
       "    }\n",
       "\n",
       "    .dataframe tbody tr th {\n",
       "        vertical-align: top;\n",
       "    }\n",
       "\n",
       "    .dataframe thead th {\n",
       "        text-align: right;\n",
       "    }\n",
       "</style>\n",
       "<table border=\"1\" class=\"dataframe\">\n",
       "  <thead>\n",
       "    <tr style=\"text-align: right;\">\n",
       "      <th></th>\n",
       "      <th>Book-Title</th>\n",
       "      <th>Book-Author</th>\n",
       "      <th>Count</th>\n",
       "    </tr>\n",
       "  </thead>\n",
       "  <tbody>\n",
       "    <tr>\n",
       "      <th>114024</th>\n",
       "      <td>Little Women</td>\n",
       "      <td>Louisa May Alcott</td>\n",
       "      <td>21</td>\n",
       "    </tr>\n",
       "  </tbody>\n",
       "</table>\n",
       "</div>"
      ],
      "text/plain": [
       "          Book-Title        Book-Author  Count\n",
       "114024  Little Women  Louisa May Alcott     21"
      ]
     },
     "execution_count": 32,
     "metadata": {},
     "output_type": "execute_result"
    }
   ],
   "source": [
    "books_grouped = books.groupby(['Book-Title', 'Book-Author'], as_index=False).agg(Count = ('ISBN', 'count'))\n",
    "books_grouped[books_grouped['Count'] == books_grouped['Count'].max()]"
   ]
  },
  {
   "cell_type": "markdown",
   "metadata": {},
   "source": [
    "## 13. Find the author with the highest average rating according to the goodbooks datasets."
   ]
  },
  {
   "cell_type": "code",
   "execution_count": 33,
   "metadata": {
    "ExecuteTime": {
     "end_time": "2021-12-15T21:01:28.438327Z",
     "start_time": "2021-12-15T21:01:28.410295Z"
    }
   },
   "outputs": [
    {
     "data": {
      "text/html": [
       "<div>\n",
       "<style scoped>\n",
       "    .dataframe tbody tr th:only-of-type {\n",
       "        vertical-align: middle;\n",
       "    }\n",
       "\n",
       "    .dataframe tbody tr th {\n",
       "        vertical-align: top;\n",
       "    }\n",
       "\n",
       "    .dataframe thead th {\n",
       "        text-align: right;\n",
       "    }\n",
       "</style>\n",
       "<table border=\"1\" class=\"dataframe\">\n",
       "  <thead>\n",
       "    <tr style=\"text-align: right;\">\n",
       "      <th></th>\n",
       "      <th>authors_splitted</th>\n",
       "      <th>average_rating</th>\n",
       "    </tr>\n",
       "  </thead>\n",
       "  <tbody>\n",
       "    <tr>\n",
       "      <th>91</th>\n",
       "      <td>Rufus Beck</td>\n",
       "      <td>4.53</td>\n",
       "    </tr>\n",
       "  </tbody>\n",
       "</table>\n",
       "</div>"
      ],
      "text/plain": [
       "   authors_splitted  average_rating\n",
       "91       Rufus Beck            4.53"
      ]
     },
     "execution_count": 33,
     "metadata": {},
     "output_type": "execute_result"
    }
   ],
   "source": [
    "temp = goodbooks_exploded.groupby('authors_splitted', as_index=False)['average_rating'].mean()\n",
    "temp[temp['average_rating'] == temp['average_rating'].max()]"
   ]
  }
 ],
 "metadata": {
  "kernelspec": {
   "display_name": "Python 3 (ipykernel)",
   "language": "python",
   "name": "python3"
  },
  "language_info": {
   "codemirror_mode": {
    "name": "ipython",
    "version": 3
   },
   "file_extension": ".py",
   "mimetype": "text/x-python",
   "name": "python",
   "nbconvert_exporter": "python",
   "pygments_lexer": "ipython3",
   "version": "3.9.7"
  }
 },
 "nbformat": 4,
 "nbformat_minor": 4
}
